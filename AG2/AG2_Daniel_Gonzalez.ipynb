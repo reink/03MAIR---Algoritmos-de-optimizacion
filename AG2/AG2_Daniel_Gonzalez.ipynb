{
  "nbformat": 4,
  "nbformat_minor": 0,
  "metadata": {
    "colab": {
      "name": "AG2-Daniel_Gonzalez.ipynb",
      "version": "0.3.2",
      "provenance": [],
      "collapsed_sections": [],
      "include_colab_link": true
    },
    "kernelspec": {
      "name": "python3",
      "display_name": "Python 3"
    }
  },
  "cells": [
    {
      "cell_type": "markdown",
      "metadata": {
        "id": "view-in-github",
        "colab_type": "text"
      },
      "source": [
        "<a href=\"https://colab.research.google.com/github/reink/03MAIR---Algoritmos-de-optimizacion/blob/master/AG2/AG2_Daniel_Gonzalez.ipynb\" target=\"_parent\"><img src=\"https://colab.research.google.com/assets/colab-badge.svg\" alt=\"Open In Colab\"/></a>"
      ]
    },
    {
      "metadata": {
        "id": "Xmb216wh1oeZ",
        "colab_type": "text"
      },
      "cell_type": "markdown",
      "source": [
        "AG - Actividad Guiada 2\n",
        "\n",
        "Daniel González\n",
        "\n",
        "https://github.com/reink/03MAIR---Algoritmos-de-optimizacion/tree/master/AG2)"
      ]
    },
    {
      "metadata": {
        "id": "JDX67e-eHqsK",
        "colab_type": "text"
      },
      "cell_type": "markdown",
      "source": [
        "---"
      ]
    },
    {
      "metadata": {
        "id": "akX17L_pCunm",
        "colab_type": "text"
      },
      "cell_type": "markdown",
      "source": [
        "# 1. Dos puntos más cercanos\n",
        "\n",
        "El problema del par de puntos más cercano es  consiste en obtener  la distancia más pequeña entre dos  puntos del conjunto de puntos del espacio. \n"
      ]
    },
    {
      "metadata": {
        "id": "UL128_3hjH98",
        "colab_type": "text"
      },
      "cell_type": "markdown",
      "source": [
        "## 1.1. Fuerza bruta\n",
        " El algoritmo diseñado puede trabajar con cualquier espacio de coordenadas ( 1D, 2D, 3D, ...)"
      ]
    },
    {
      "metadata": {
        "id": "nGbHfoT1mEuq",
        "colab_type": "text"
      },
      "cell_type": "markdown",
      "source": [
        "\n",
        "Mejoras:\n",
        "\n",
        "-  \"math.sqrt(sum([(A[i]-B[i]) ** 2 for i in range(len(A))]))\" usa un bucle más otro bucle interno que tiene \"sum()\", es mejor usar solo un for y usando memoria\n",
        "-  Devuelve la distancia mínima (puede ser de interes). Antes no se devolvía, por lo que en cada iteración usaba el valor almacenado en memoria, lo cual no es una buena práctica.\n",
        "-  Función de visualización de los resultados"
      ]
    },
    {
      "metadata": {
        "id": "QqBNeRFK7JVU",
        "colab_type": "code",
        "colab": {}
      },
      "cell_type": "code",
      "source": [
        "import math\n",
        "def distancia_euclidia(a,b):\n",
        "  # cuando a y b son enteros o flotantes, tenemos 1D. Como para dimensiones \n",
        "  # mayores necesitamos un bucle para calcuar la distancia euclidea. No podemos\n",
        "  # usar la misma función, porque no podemos iterar sobre un numero\n",
        "  \n",
        "  # Por esta razon solo podemos usar la funcion para > 2D\n",
        "  \n",
        "  if type(a) is int or type(a) is float:# 1D\n",
        "      return abs(a-b)\n",
        "  \n",
        "  else: # Distancia euclidea 2D,...,ND\n",
        "    # return math.sqrt(sum([(A[i]-B[i])**2 for i in range(len(A))]))            # 2n (minimo)\n",
        "  \n",
        "      solucion = 0 # acumula suma                                               # 1\n",
        "\n",
        "      for i in range(len(a)):                                                   # n = N (n dimensiones)\n",
        "        solucion = solucion + (a[i]-b[i])**2                                    # 4\n",
        "  \n",
        "      dist = math.sqrt(solucion)                                                # 3 \n",
        "      return dist                                                               # Total = N + 8 = K\n",
        "  \n",
        "def cercanos_FuerzaBruta(lista):\n",
        "  \n",
        "  distancia_min = 10000000\n",
        "  \n",
        "  for i in range(len(lista)):                                                   # n\n",
        "    for j in range(i+1, len(lista)):                                            # n*m\n",
        "      dist = distancia_euclidia(lista[i],lista[j])                              # (n*m)*(K)\n",
        "      \n",
        "      # Comparamos la minima distancia almacenada con la calculada              # n*m\n",
        "      if (dist < distancia_min):\n",
        "        distancia_min = dist # nueva minima distancia\n",
        "        p1 = lista[i] # punto 1\n",
        "        p2 = lista[j] # punto 2\n",
        "        \n",
        "  return p1,p2, distancia_min\n",
        "\n",
        "def resultados_cercanos_FuerzaBruta(lista): # Representar datos\n",
        "  p1,p2, distancia_min = cercanos_FuerzaBruta(lista)\n",
        "  print('p1 = ',p1,'   p2 = ',p2, '   distancia_min = ',distancia_min )\n",
        "  return"
      ],
      "execution_count": 0,
      "outputs": []
    },
    {
      "metadata": {
        "id": "1KX980K-qiWA",
        "colab_type": "text"
      },
      "cell_type": "markdown",
      "source": [
        "### 1.1.1. Pruebas"
      ]
    },
    {
      "metadata": {
        "id": "txW5v7IdBg-b",
        "colab_type": "code",
        "colab": {}
      },
      "cell_type": "code",
      "source": [
        "import random # Necesario para crear listas aleatorias para espacios de k dimensiones "
      ],
      "execution_count": 0,
      "outputs": []
    },
    {
      "metadata": {
        "id": "T5N-qjL_yY6l",
        "colab_type": "code",
        "colab": {}
      },
      "cell_type": "code",
      "source": [
        "N = 999 # numero de puntos en el espacio "
      ],
      "execution_count": 0,
      "outputs": []
    },
    {
      "metadata": {
        "id": "RqemA2F4Br0m",
        "colab_type": "code",
        "outputId": "c4bff520-e58c-47e2-9b26-2348102efd14",
        "colab": {
          "base_uri": "https://localhost:8080/",
          "height": 35
        }
      },
      "cell_type": "code",
      "source": [
        "# Espacio de una dimensión\n",
        "lista_1D = [random.randrange(1,1000) for _ in range(N)]# Lista aleatoria 1D\n",
        "# print(lista_1D)\n",
        "\n",
        "resultados_cercanos_FuerzaBruta(lista_1D)#  Llama al algoritmo y muestra los resultados por pantalla"
      ],
      "execution_count": 0,
      "outputs": [
        {
          "output_type": "stream",
          "text": [
            "p1( 0 ) =  210    p2 ( 756 ) =  210    distancia_min =  0\n"
          ],
          "name": "stdout"
        }
      ]
    },
    {
      "metadata": {
        "id": "tlbb-opBCPL9",
        "colab_type": "code",
        "outputId": "383cb8ee-0718-48a9-e114-58e901d1f8e9",
        "colab": {
          "base_uri": "https://localhost:8080/",
          "height": 35
        }
      },
      "cell_type": "code",
      "source": [
        "# Espacio de 2 dimensiones\n",
        "lista_2D = [[random.randrange(1,1000),random.randrange(1,1000)] for _ in range(N)]# Lista aleatoria 2D\n",
        "#print(lista_2D)\n",
        "\n",
        "resultados_cercanos_FuerzaBruta(lista_2D)#  Llama al algoritmo y muestra los resultados por pantalla"
      ],
      "execution_count": 0,
      "outputs": [
        {
          "output_type": "stream",
          "text": [
            "p1( 805 ) =  [971, 337]    p2 ( 968 ) =  [971, 336]    distancia_min =  1.0\n"
          ],
          "name": "stdout"
        }
      ]
    },
    {
      "metadata": {
        "id": "iG9zLOCMTvpi",
        "colab_type": "code",
        "outputId": "ac5411ff-12e6-4d92-af91-14fa6fec35e4",
        "colab": {
          "base_uri": "https://localhost:8080/",
          "height": 35
        }
      },
      "cell_type": "code",
      "source": [
        "# Espacio de 3 dimensiones\n",
        "lista_3D = [[random.randrange(1,1000),random.randrange(1,1000),random.randrange(1,1000)] for _ in range(N)]# Lista aleatoria 3D\n",
        "# print(lista_3D)\n",
        "\n",
        "resultados_cercanos_FuerzaBruta(lista_3D)#  Llama al algoritmo y muestra los resultados por pantalla"
      ],
      "execution_count": 0,
      "outputs": [
        {
          "output_type": "stream",
          "text": [
            "p1( 242 ) =  [4515, 2615, 3846]    p2 ( 547 ) =  [4559, 2623, 3886]    distancia_min =  60.0\n"
          ],
          "name": "stdout"
        }
      ]
    },
    {
      "metadata": {
        "id": "KcvVFKnqsGyI",
        "colab_type": "text"
      },
      "cell_type": "markdown",
      "source": [
        "### 1.1.2. Complejidad\n",
        "\n",
        "El algoritmo de fuerza bruta nos da un orden de O(n²) para todos los casos:\n",
        "   \n",
        "\n",
        "*   n  (primer bucle)\n",
        "*   n * m  (segundo bucle)\n",
        "*   (n * m) * K  (calculo de la distancia)\n",
        "*   n * m  (condicional, comparar distancia mínima con la calculada)\n",
        "*   C (Cosntantes. Resto de asignaciones)\n",
        "\n",
        "TOTAL : (K+2)(n * m) + n + C = O(n²)"
      ]
    },
    {
      "metadata": {
        "id": "KxDrGOQjIjeH",
        "colab_type": "text"
      },
      "cell_type": "markdown",
      "source": [
        "## 1.2. Divide y vencerás \n",
        "\n",
        "Esta técnica consiste en resolver el problema a partir de las soluciones que proporcionan los subproblemas del mismo pero de menor tamaño. Al dividir el problema en subproblemas, llegamos a una solución sencilla. \n",
        "\n",
        "Para reconocer un problema que se puede resolver mediante esta técnica debemos de identificar:\n",
        "\n",
        "1.   Es podible descomponer el problema en subproblemas del mismo tipo\n",
        "2.   Los problemas se pueden resolver de forma directa (son sencillos) o mediante recursividad\n",
        "3.   Es posible combinar las solucione de los subproblemas para obtener la soluciñon del problema original.\n"
      ]
    },
    {
      "metadata": {
        "id": "w42exgTjMb7s",
        "colab_type": "text"
      },
      "cell_type": "markdown",
      "source": [
        "### 1.2.1. Puntos de 1D\n",
        "\n",
        "Para buscar la distancia mínima entre dos puntos dividimos la lista por la mitad, y obtenemos dos sublistas. Para cada sublista obtenemos la distancia mínima y luego las comparamos para quedarnos con la menor. Pero hay una cosa que debemos de tener en cuenta, y es que no estamos teniendo en cuenta que la distancia mínima puede estar entre los puntos situados cerca de donde hemos realizado la división. Es decir, los ultimos valores de la sublista izquierda, y los primeros de la derecha. Veamos un ejemplo teórico:\n",
        "\n",
        "- I1 y I2: puntos mínima distancia sublista izquierda\n",
        "- D1 y D2: puntos mínima distancia sublista derecha\n",
        "- \"-\": 1 unidad de distancia\n",
        "- \"|\": división de la lista en sublistas\n",
        "\n",
        "--------------------i1--------i2--|--d1----------d2---------------------\n",
        "\n",
        "- Distancia entre i1 e i2 = 8 unidades\n",
        "- Distancia entre d1 e d2 = 10 unidades\n",
        "- Distancia entre i2 y d1 = 4 unidades\n",
        "\n",
        "Podemos ver que la distancia mímina se produce entre dos puntos de listas distintas. Por lo tanto debemos de buscar un modo de calcular la distancia entre puntos de las dos listas."
      ]
    },
    {
      "metadata": {
        "id": "wlF_orG9i_7F",
        "colab_type": "text"
      },
      "cell_type": "markdown",
      "source": [
        "**Ejemplo prácrico:**\n",
        "\n",
        "Definimos una función que se queda con el menor valor encontrado en una de las sublistas:"
      ]
    },
    {
      "metadata": {
        "id": "57tJr4dpjegC",
        "colab_type": "code",
        "colab": {}
      },
      "cell_type": "code",
      "source": [
        "def cercanos_ejemplo_1D(lista):\n",
        "  # si hay una lista muy pequeña --> Fuerza bruta\n",
        "  if len(lista)<10:# valor pequeño al azar\n",
        "    return cercanos_FuerzaBruta(lista)\n",
        "    \n",
        "  # oredenar list\n",
        "  print('Lista recibida: ',lista)\n",
        "  lista_ord = sorted(lista)\n",
        "  \n",
        "  # dividir las dos listas por la mitad\n",
        "  izq = lista_ord [:len(lista_ord)//2]\n",
        "  der = lista_ord[(len(lista_ord)//2):]\n",
        "  \n",
        "  print('izq: ',izq)\n",
        "  print('der:',der)\n",
        "  print('\\n')\n",
        "  \n",
        "  # Recursiva\n",
        "  p1_d,p2_d, dist_min_d = cercanos_ejemplo_1D(der)\n",
        "  p1_i,p2_i, dist_min_i = cercanos_ejemplo_1D(izq)\n",
        "  \n",
        "  # Devolvemos el menor de la las sublistas\n",
        "    \n",
        "  if dist_min_i < dist_min_d:\n",
        "    return p1_i,p2_i, dist_min_i\n",
        "  else:\n",
        "    return p1_d,p2_d, dist_min_d\n",
        "  "
      ],
      "execution_count": 0,
      "outputs": []
    },
    {
      "metadata": {
        "id": "6HuxDUIOkMor",
        "colab_type": "text"
      },
      "cell_type": "markdown",
      "source": [
        "Definimos una lista pequeña para ver lo que esta sucediendo:"
      ]
    },
    {
      "metadata": {
        "id": "jLTYUdUpkNRE",
        "colab_type": "code",
        "colab": {}
      },
      "cell_type": "code",
      "source": [
        "lista = [0,10,20,1021,100,30,60,40,95,224,1030,1040,1050,2000] "
      ],
      "execution_count": 0,
      "outputs": []
    },
    {
      "metadata": {
        "id": "15xlfBpOkeNq",
        "colab_type": "text"
      },
      "cell_type": "markdown",
      "source": [
        "Como podemos ver la distancia mínima es 5, y se produce entre los puntos 95 y 100:"
      ]
    },
    {
      "metadata": {
        "id": "hgZMpT2HkXMp",
        "colab_type": "code",
        "outputId": "8a14d46b-3f41-43e2-861e-2ddbb075f376",
        "colab": {
          "base_uri": "https://localhost:8080/",
          "height": 35
        }
      },
      "cell_type": "code",
      "source": [
        "resultados_cercanos_FuerzaBruta(lista)# Metodo Fuerza bruta"
      ],
      "execution_count": 0,
      "outputs": [
        {
          "output_type": "stream",
          "text": [
            "p1 =  100    p2 =  95    distancia_min =  5\n"
          ],
          "name": "stdout"
        }
      ]
    },
    {
      "metadata": {
        "id": "RSKGtIM3k4hW",
        "colab_type": "text"
      },
      "cell_type": "markdown",
      "source": [
        "Veamos que ocurre al utilizar la función diseñada por el método divide y vencerás:"
      ]
    },
    {
      "metadata": {
        "id": "nAoEUj9MlIHP",
        "colab_type": "code",
        "outputId": "ee279002-33ee-4682-af3e-21e3b42ad451",
        "colab": {
          "base_uri": "https://localhost:8080/",
          "height": 125
        }
      },
      "cell_type": "code",
      "source": [
        "p1,p2, distancia_min = cercanos_ejemplo_1D(lista)\n",
        "print('p1 = ',p1,'   p2 = ',p2, '   distancia_min = ',distancia_min )"
      ],
      "execution_count": 0,
      "outputs": [
        {
          "output_type": "stream",
          "text": [
            "Lista recibida:  [0, 10, 20, 1021, 100, 30, 60, 40, 95, 224, 1030, 1040, 1050, 2000]\n",
            "izq:  [0, 10, 20, 30, 40, 60, 95]\n",
            "der: [100, 224, 1021, 1030, 1040, 1050, 2000]\n",
            "\n",
            "\n",
            "p1 =  1021    p2 =  1030    distancia_min =  9\n"
          ],
          "name": "stdout"
        }
      ]
    },
    {
      "metadata": {
        "id": "VIoqZ-kpmXZR",
        "colab_type": "text"
      },
      "cell_type": "markdown",
      "source": [
        "Podemos ver como en primera división de la lista, el punto 95 esta en la sublista de la izquierda y 100 esta en la sublista de la derecha. Por esta razon no es capaz de obtener la mínima distancia, pues no compara valores cercanos a la intersección.\n",
        "\n",
        "\n",
        "Para solucionar este problema, en 1D es muy sencillo. Si tenemos en cuenta que la lista esta ordenada antes de devidirse, la distancia mínima  si se produce se se producirá en  la intersección de ambas, pues las posibilidades para una misma sublista ya estan comprobadas. Si cogemos el último elemento de la sublista izquierda y el primero de la derecha obtendremos la distancia de la intersección para 1D (esto es así para 1D, para D>1 no es así aunque este ordenada la lista)"
      ]
    },
    {
      "metadata": {
        "id": "NeV5-n_FeWCL",
        "colab_type": "code",
        "colab": {}
      },
      "cell_type": "code",
      "source": [
        "def cercanos_DV_1D(lista):\n",
        "  # LISTAS PEQUEÑAS --> Fuerza bruta\n",
        "  if len(lista)<10:# valor pequeño al azar\n",
        "    return cercanos_FuerzaBruta(lista)\n",
        "    \n",
        "  # ORDENAR LISTA\n",
        "  lista_ord = sorted(lista)\n",
        "  \n",
        "  # DIVIDIR LA LISTA EN 2 POR LA MITAD\n",
        "  izq = lista_ord [:len(lista_ord)//2]\n",
        "  der = lista_ord[(len(lista_ord)//2):]\n",
        "  \n",
        "  # LLAMADAS RECURSIVAS --> Obtenemos la ditancia mínima para cada sublista\n",
        "  p1_d,p2_d, dist_min_d = cercanos_DV_1D(der)\n",
        "  p1_i,p2_i, dist_min_i = cercanos_DV_1D(izq)\n",
        "  \n",
        "  # INTERSECCION\n",
        "  \n",
        "  # Puede que en la interseccion de las sublistas se produzca la distancia \n",
        "  # minima.\n",
        "  \n",
        "  # Calculamos la distancia para el ultimo punto de la sublista 'izq', y el \n",
        "  # primero de 'der'. (Las sublistas estan ordenadas de menor a mayor y solo\n",
        "  # es 1D)\n",
        "  \n",
        "  p1_inter = izq[len(izq)-1]\n",
        "  p2_inter = der[0]\n",
        "  \n",
        "  d_interseccion = distancia_euclidia(p1_inter,p2_inter)\n",
        "  \n",
        "  # DEVOLVER DISTANCIA MINIMA\n",
        "  if dist_min_i < dist_min_d: # min dist en sublista de la izquierda\n",
        "    return p1_i,p2_i, dist_min_i\n",
        "  \n",
        "  elif dist_min_d < d_interseccion: # min dist en sublista de la izquierda\n",
        "    return p1_d,p2_d, dist_min_d\n",
        "  \n",
        "  else: # min dist en interseccion\n",
        "    return p1_inter,p2_inter, d_interseccion\n",
        "  \n",
        "\n",
        "  \n",
        "def resultados_cercanos_DV_1D(lista): # Representar datos\n",
        "  p1,p2, distancia_min = cercanos_DV_1D(lista)\n",
        "  print('p1 = ',p1,'   p2 = ',p2, '   distancia_min = ',distancia_min )\n",
        "  return\n"
      ],
      "execution_count": 0,
      "outputs": []
    },
    {
      "metadata": {
        "id": "R-Toc6DMtE50",
        "colab_type": "text"
      },
      "cell_type": "markdown",
      "source": [
        "Podemos comprobar que el resultado que obtenemos ahora es el correcto (ejemplo anterior 'lista'):"
      ]
    },
    {
      "metadata": {
        "id": "X3Whtb78rkr4",
        "colab_type": "code",
        "outputId": "ee0535dc-21a1-48dd-c9b2-199e30beb8c7",
        "colab": {
          "base_uri": "https://localhost:8080/",
          "height": 35
        }
      },
      "cell_type": "code",
      "source": [
        "resultados_cercanos_DV_1D(lista)"
      ],
      "execution_count": 0,
      "outputs": [
        {
          "output_type": "stream",
          "text": [
            "p1 =  95    p2 =  100    distancia_min =  5\n"
          ],
          "name": "stdout"
        }
      ]
    },
    {
      "metadata": {
        "colab_type": "code",
        "id": "yEmnx8wOvGLd",
        "colab": {}
      },
      "cell_type": "code",
      "source": [
        "import random # Necesario para crear listas aleatorias para espacios de k dimensiones "
      ],
      "execution_count": 0,
      "outputs": []
    },
    {
      "metadata": {
        "colab_type": "code",
        "id": "GbtDXTTOvGLm",
        "colab": {}
      },
      "cell_type": "code",
      "source": [
        "N = 999 # numero de puntos en el espacio "
      ],
      "execution_count": 0,
      "outputs": []
    },
    {
      "metadata": {
        "colab_type": "code",
        "outputId": "7cd049a4-44da-4099-c202-f4952e36aa78",
        "id": "FhNUfgCIvGLp",
        "colab": {
          "base_uri": "https://localhost:8080/",
          "height": 35
        }
      },
      "cell_type": "code",
      "source": [
        "# Espacio de una dimensión\n",
        "lista_1D = [random.randrange(1,1000) for _ in range(N)]# Lista aleatoria 1D\n",
        "# print(lista_1D)\n",
        "\n",
        "resultados_cercanos_FuerzaBruta(lista_1D)#  Llama al algoritmo y muestra los resultados por pantalla"
      ],
      "execution_count": 0,
      "outputs": [
        {
          "output_type": "stream",
          "text": [
            "p1 =  479    p2 =  479    distancia_min =  0\n"
          ],
          "name": "stdout"
        }
      ]
    },
    {
      "metadata": {
        "id": "wvttef7FvddT",
        "colab_type": "text"
      },
      "cell_type": "markdown",
      "source": [
        "La distancia minima es 0 casi siempre porque random repite valores, podemos eliminar laos valores repetidos para comrpobar que funciona correctamente:"
      ]
    },
    {
      "metadata": {
        "id": "xGdTHSZfvva8",
        "colab_type": "code",
        "outputId": "9c5b83fc-8068-42f9-bd8b-58d466fb4a47",
        "colab": {
          "base_uri": "https://localhost:8080/",
          "height": 35
        }
      },
      "cell_type": "code",
      "source": [
        "A = set(lista_1D)\n",
        "resultados_cercanos_FuerzaBruta(list(A))"
      ],
      "execution_count": 0,
      "outputs": [
        {
          "output_type": "stream",
          "text": [
            "p1 =  4    p2 =  5    distancia_min =  1\n"
          ],
          "name": "stdout"
        }
      ]
    },
    {
      "metadata": {
        "id": "2W4iYQs3yHmJ",
        "colab_type": "text"
      },
      "cell_type": "markdown",
      "source": [
        "### 1.2.1.1. Orden"
      ]
    },
    {
      "metadata": {
        "id": "tqKq3Y7NiqCh",
        "colab_type": "text"
      },
      "cell_type": "markdown",
      "source": [
        "### 1.2.2. Puntos de 2D"
      ]
    },
    {
      "metadata": {
        "id": "TXZDjggZ0W5F",
        "colab_type": "text"
      },
      "cell_type": "markdown",
      "source": [
        "Para el caso de 2D seguimos teniendo el mismo problema que en las listas de 1D, pero en este caso debemos de tratarlo de forma distinta.\n",
        "\n",
        "Definimos δ = min (δ1, δ2), donde δ1 es la distancia mínima obtenida para la sublista de la izquierda, y δ2 lo es para la derecha. En cada par candidato (p, q), donde p ∈ S1 y q ∈ S2, los puntos p, q deben estar ambos dentro de la interseccion +-δ.\n"
      ]
    },
    {
      "metadata": {
        "id": "FGxmdR54gyBW",
        "colab_type": "text"
      },
      "cell_type": "markdown",
      "source": [
        "![texto alternativo](http://www.algoritmia.net/articles/divide/div3.gif)"
      ]
    },
    {
      "metadata": {
        "id": "KFB9prD8PSBh",
        "colab_type": "code",
        "colab": {}
      },
      "cell_type": "code",
      "source": [
        "# 2D\n",
        "def cercanos_DV(lista):\n",
        "  # # LISTAS PEQUEÑAS --> Fuerza bruta\n",
        "  if len(lista)<10:# valor pequeño al azar\n",
        "    return cercanos_FuerzaBruta(lista)\n",
        "    \n",
        "  # ORDENAR LISTA\n",
        "  lista_ord = sorted(lista,key=lambda x: x[0])\n",
        "  \n",
        "  # DIVIDIR LA LISTA EN 2 POR LA MITAD\n",
        "  izq = lista_ord [:len(lista_ord)//2]\n",
        "  der = lista_ord[(len(lista_ord)//2):]\n",
        "  \n",
        "  # LLAMADAS RECURSIVAS --> Obtenemos la ditancia mínima para cada sublista\n",
        "  p_der = cercanos_DV(der)\n",
        "  p_izq = cercanos_DV(izq)\n",
        "  \n",
        "  # INTERSECCION\n",
        "  \n",
        "  # Puede que en la interseccion de las sublistas se produzca la distancia \n",
        "  # minima.\n",
        "  \n",
        "  \n",
        "  \n",
        "  \n",
        "  # DEVOLVER DISTANCIA MINIMA\n",
        "  \n",
        "  return cercanos_DV(p_izq+p_der)\n",
        "  "
      ],
      "execution_count": 0,
      "outputs": []
    },
    {
      "metadata": {
        "id": "uSCHdMymQEIM",
        "colab_type": "code",
        "colab": {}
      },
      "cell_type": "code",
      "source": [
        "cercanos_DV(lista_2D)# Decuelve lo que Fuerza bruta"
      ],
      "execution_count": 0,
      "outputs": []
    },
    {
      "metadata": {
        "id": "XceZUfZnCyvX",
        "colab_type": "text"
      },
      "cell_type": "markdown",
      "source": [
        "# 2. Viaje por el rio"
      ]
    },
    {
      "metadata": {
        "id": "gl3DNLNqCzHi",
        "colab_type": "code",
        "outputId": "068ea920-3a1a-4ccc-ff88-36b1be850a2c",
        "colab": {
          "base_uri": "https://localhost:8080/",
          "height": 300
        }
      },
      "cell_type": "code",
      "source": [
        "def precios(tarifas):\n",
        "  N = len(tarifas)\n",
        "  \n",
        "  precio = [[9999]*N for i in [9999]*N ]# inicializamos a valores altos\n",
        "  \n",
        "  ruta = [[\"\"]*N for i in [9999]*N ]\n",
        "  \n",
        "  #inicializar\n",
        "  for i in range(N-1):\n",
        "    for j in range(i+1,N):\n",
        "      minimo = tarifas[i][j]\n",
        "      ruta[i][j] = i\n",
        "      \n",
        "      for k in range(i,j):\n",
        "        \n",
        "        if precio[i][k] + tarifas[k][j] < minimo:\n",
        "          minimo = min(minimo,precio[i][k] + tarifas[k][j] )\n",
        "          ruta[i][j] = k\n",
        "      precio[i][j] = minimo\n",
        "      \n",
        "  return precio,ruta\n",
        "\n",
        "def calcular_ruta(RUTA, desde, hasta):\n",
        "  if desde == hasta:\n",
        "    #print(\"Ir a :\" + str(desde))\n",
        "    return desde \n",
        "  else:\n",
        "    return str(calcular_ruta(RUTA, desde, RUTA[desde][hasta])) +  ',' + str(RUTA[desde][hasta]) \n",
        "\n",
        "print(\"\\nLa ruta es:\")  \n",
        "calcular_ruta(RUTA, 0,6)\n",
        "  \n",
        "  "
      ],
      "execution_count": 0,
      "outputs": [
        {
          "output_type": "stream",
          "text": [
            "\n",
            "La ruta es:\n"
          ],
          "name": "stdout"
        },
        {
          "output_type": "error",
          "ename": "NameError",
          "evalue": "ignored",
          "traceback": [
            "\u001b[0;31m---------------------------------------------------------------------------\u001b[0m",
            "\u001b[0;31mNameError\u001b[0m                                 Traceback (most recent call last)",
            "\u001b[0;32m<ipython-input-61-40e3adf9b681>\u001b[0m in \u001b[0;36m<module>\u001b[0;34m()\u001b[0m\n\u001b[1;32m     29\u001b[0m \u001b[0;34m\u001b[0m\u001b[0m\n\u001b[1;32m     30\u001b[0m \u001b[0mprint\u001b[0m\u001b[0;34m(\u001b[0m\u001b[0;34m\"\\nLa ruta es:\"\u001b[0m\u001b[0;34m)\u001b[0m\u001b[0;34m\u001b[0m\u001b[0;34m\u001b[0m\u001b[0m\n\u001b[0;32m---> 31\u001b[0;31m \u001b[0mcalcular_ruta\u001b[0m\u001b[0;34m(\u001b[0m\u001b[0mRUTA\u001b[0m\u001b[0;34m,\u001b[0m \u001b[0;36m0\u001b[0m\u001b[0;34m,\u001b[0m\u001b[0;36m6\u001b[0m\u001b[0;34m)\u001b[0m\u001b[0;34m\u001b[0m\u001b[0;34m\u001b[0m\u001b[0m\n\u001b[0m\u001b[1;32m     32\u001b[0m \u001b[0;34m\u001b[0m\u001b[0m\n\u001b[1;32m     33\u001b[0m \u001b[0;34m\u001b[0m\u001b[0m\n",
            "\u001b[0;31mNameError\u001b[0m: name 'RUTA' is not defined"
          ]
        }
      ]
    },
    {
      "metadata": {
        "id": "_qx-E0_7WSOx",
        "colab_type": "code",
        "colab": {}
      },
      "cell_type": "code",
      "source": [
        "TARIFAS = [\n",
        "[0,5,4,3,999,999,999],\n",
        "[999,0,999,2,3,999,11],\n",
        "[999,999, 0,1,999,4,10],\n",
        "[999,999,999, 0,5,6,9],\n",
        "[999,999, 999,999,0,999,4],\n",
        "[999,999, 999,999,999,0,3],\n",
        "[999,999,999,999,999,999,0]\n",
        "]"
      ],
      "execution_count": 0,
      "outputs": []
    },
    {
      "metadata": {
        "id": "IWKNc9aTXIUB",
        "colab_type": "code",
        "outputId": "9c76d975-fb7f-491a-b30f-9c2aa5e131ce",
        "colab": {
          "base_uri": "https://localhost:8080/",
          "height": 269
        }
      },
      "cell_type": "code",
      "source": [
        "precios(TARIFAS)"
      ],
      "execution_count": 0,
      "outputs": [
        {
          "output_type": "execute_result",
          "data": {
            "text/plain": [
              "([[9999, 5, 4, 3, 8, 8, 11],\n",
              "  [9999, 9999, 999, 2, 3, 8, 7],\n",
              "  [9999, 9999, 9999, 1, 6, 4, 7],\n",
              "  [9999, 9999, 9999, 9999, 5, 6, 9],\n",
              "  [9999, 9999, 9999, 9999, 9999, 999, 4],\n",
              "  [9999, 9999, 9999, 9999, 9999, 9999, 3],\n",
              "  [9999, 9999, 9999, 9999, 9999, 9999, 9999]],\n",
              " [['', 0, 0, 0, 1, 2, 5],\n",
              "  ['', '', 1, 1, 1, 3, 4],\n",
              "  ['', '', '', 2, 3, 2, 5],\n",
              "  ['', '', '', '', 3, 3, 3],\n",
              "  ['', '', '', '', '', 4, 4],\n",
              "  ['', '', '', '', '', '', 5],\n",
              "  ['', '', '', '', '', '', '']])"
            ]
          },
          "metadata": {
            "tags": []
          },
          "execution_count": 60
        }
      ]
    },
    {
      "metadata": {
        "id": "3wZ1_XybXOTv",
        "colab_type": "code",
        "outputId": "b2dc4110-d462-4c7e-f497-0c49f362d975",
        "colab": {
          "base_uri": "https://localhost:8080/",
          "height": 35
        }
      },
      "cell_type": "code",
      "source": [
        "len(TARIFAS[0])"
      ],
      "execution_count": 0,
      "outputs": [
        {
          "output_type": "execute_result",
          "data": {
            "text/plain": [
              "7"
            ]
          },
          "metadata": {
            "tags": []
          },
          "execution_count": 52
        }
      ]
    },
    {
      "metadata": {
        "id": "BemRWnicXNWB",
        "colab_type": "text"
      },
      "cell_type": "markdown",
      "source": [
        ""
      ]
    }
  ]
}