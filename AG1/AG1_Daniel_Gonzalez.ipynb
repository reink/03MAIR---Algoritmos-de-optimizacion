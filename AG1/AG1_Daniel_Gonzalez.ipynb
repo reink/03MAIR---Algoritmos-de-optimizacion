{
  "nbformat": 4,
  "nbformat_minor": 0,
  "metadata": {
    "colab": {
      "name": "AG1-Daniel_Gonzalez.ipynb",
      "version": "0.3.2",
      "provenance": [],
      "include_colab_link": true
    },
    "kernelspec": {
      "name": "python3",
      "display_name": "Python 3"
    }
  },
  "cells": [
    {
      "cell_type": "markdown",
      "metadata": {
        "id": "view-in-github",
        "colab_type": "text"
      },
      "source": [
        "<a href=\"https://colab.research.google.com/github/reink/03MAIR---Algoritmos-de-optimizacion/blob/master/AG1/AG1_Daniel_Gonzalez.ipynb\" target=\"_parent\"><img src=\"https://colab.research.google.com/assets/colab-badge.svg\" alt=\"Open In Colab\"/></a>"
      ]
    },
    {
      "metadata": {
        "id": "MwKst5A3bG3f",
        "colab_type": "text"
      },
      "cell_type": "markdown",
      "source": [
        "AG - Actividad Guiada 1\n",
        "\n",
        "Daniel González\n",
        "\n",
        "https://github.com/reink/03MAIR---Algoritmos-de-optimizacion/tree/master/AG1)"
      ]
    },
    {
      "metadata": {
        "id": "wLcdAQflVXzx",
        "colab_type": "text"
      },
      "cell_type": "markdown",
      "source": [
        "---"
      ]
    },
    {
      "metadata": {
        "id": "GkxGOkjrJ7il",
        "colab_type": "text"
      },
      "cell_type": "markdown",
      "source": [
        "El diseño de algoritmos nos permite crear un modelo ajustado a un problema sespecífico para resolverlo. En clase hemos visto las técnicas :\n",
        "\n",
        "*   Diseño de algoritmos voraces\n",
        "*   Vuelta atrás\n",
        "*   Divide y vencerás\n",
        "*   Programación dinámica\n",
        "\n",
        "En esta actividad, se pretende poner en práctica el diseño de algoritmos con algunas de estas técnicas. La actividad consta de los siguientes ejercicios (índice):\n",
        "\n",
        "1.   [Quick sort](#qs)\n",
        "2.   [Cambio de moneda](#cm)\n",
        "3.   [Cuatro reinas](#cr)\n"
      ]
    },
    {
      "metadata": {
        "id": "aqa1blezZGuP",
        "colab_type": "text"
      },
      "cell_type": "markdown",
      "source": [
        "**Nota:**  Me parece interisante tener el código original (realizado por el profesor en clase) y el modificado para mejorarlo, para ver distintas formas de abordar un mismo problema. Creo que esta bien para estudiar. Por esta razón, en cada ejercicio habrán dos apartados, uno con el código original (comentado) y otro con las mejoras introducidas."
      ]
    },
    {
      "metadata": {
        "id": "PZsm6apcik6C",
        "colab_type": "code",
        "colab": {}
      },
      "cell_type": "code",
      "source": [
        "\n",
        "#Decorador para calcular_tiempo a la función para la cual queremos calcular el tiempo de ejecución(Isabel Vázquez)\n",
        "\n",
        "from time import time\n",
        "#Función para calcular el tiempo de ejecución\n",
        "def calcular_tiempo(f):\n",
        "   \n",
        "    def wrapper(*args, **kwargs):        \n",
        "        inicio = time()       \n",
        "        resultado = f(*args, **kwargs)       \n",
        "        tiempo = time() - inicio\n",
        "        print(\"Tiempo de ejecución para algoritmo: \"+str(tiempo))\n",
        "        return resultado\n",
        "    \n",
        "    return wrapper\n",
        "from time import time"
      ],
      "execution_count": 0,
      "outputs": []
    },
    {
      "metadata": {
        "id": "jiETFC14btIs",
        "colab_type": "text"
      },
      "cell_type": "markdown",
      "source": [
        "<a id=\"qs\"></a>\n",
        "# 1. Quick sort \n",
        "\n",
        "El algoritmo de ordenación rápida (quick sort en inglés) se basa en la técnica de \"*Divide y  vencerás*\". Esta técnica consiste en resolver el problema a partir de las soluciones que proporcionan los subproblemas del mismo pero de menor tamaño. Al dividir el problema en subproblemas, llegamos a una solución sencilla. \n",
        "\n",
        "Para reconocer un problema que se puede resolver mediante esta técnica debemos de identificar:\n",
        "\n",
        "1.   Es podible descomponer el problema en subproblemas del mismo tipo\n",
        "2.   Los problemas se pueden resolver de forma directa (son sencillos) o mediante recursividad\n",
        "3.   Es posible combinar las solucione de los subproblemas para obtener la soluciñon del problema original.\n",
        "\n",
        "El **algoritmo quick sort** consiste en:\n",
        "\n",
        "\n",
        "1.   Seleccionamos un elemento de la lista a ordenar al que llamaremos *pivote*\n",
        "\n",
        "2.   Dividimos la lista en dos utilizando el *pivote*, de manera que a un lado queden todos los menores que él, y al otro los mayores. \n",
        "\n",
        "3.   La lista queda separada en dos sublistas, una formada por los elementos a la izquierda del pivote, y otra por los elementos a su derecha. El pivote se introducirá en la lista que le hayamos decidido (izquierda o derecha, depende del operador =).\n",
        "\n",
        "4.  Se repite el proceso de forma recursiva para cada sublista mientras contengan más de un elemento.   Una vez terminado este proceso todos los elementos estarán ordenados.\n"
      ]
    },
    {
      "metadata": {
        "id": "sfM1EhhqV0Oq",
        "colab_type": "text"
      },
      "cell_type": "markdown",
      "source": [
        "## 1.1. Código realizado en clase"
      ]
    },
    {
      "metadata": {
        "id": "vqtuHSVFQw0X",
        "colab_type": "code",
        "colab": {}
      },
      "cell_type": "code",
      "source": [
        "def quick_sort_clase(A):\n",
        "  if len(A)==1: # Si el tamaño de la sublista es 1, devolvemos el elemento\n",
        "    return A\n",
        "  if len(A)==2:\n",
        "    # Si el tamaño de la sublista es 2, devolvemos la lista ordenada poniendo\n",
        "    # el valor minimo en el primer elemento de la lista, y el mayor como el \n",
        "    # segundo elemento de la lista ordenada\n",
        "    \n",
        "    return [min(A),max(A)]\n",
        "  \n",
        "  \n",
        "    \n",
        "  izq = []# Sublista con valores menores o iguales al pivote\n",
        "  der = []# Sublista con valores mayores al pivote\n",
        "    \n",
        "  # pivote: Es el elemento que nos permite dividir la lista en dos sublistas\n",
        "    \n",
        "  # Para calcular el pivote seleccionamos los tres primeros elementos de la\n",
        "  # sublista y calculamos su media. No es la mejor forma de calcular el pivote.\n",
        "  # Una mejor solución es usar la mediana\n",
        "    \n",
        "  pivote = (A[0]+A[1]+A[2])/3 # Calcular pivote\n",
        "    \n",
        "  # Dividir la lista en sublistas mediante el pivote\n",
        "  for i in A:\n",
        "    if i<= pivote:# Sublista con valores menores o iguales al pivote\n",
        "      izq.append(i)\n",
        "    else: # Sublista con valores mayores al pivote\n",
        "      der.append(i)\n",
        "        \n",
        "  # Se repite el proceso de forma recursiva para cada sublista mientras \n",
        "  # contengan más de uno o dos elementos. \n",
        "    \n",
        "  # Una vez terminado este proceso todos los elementos estarán ordenados. En\n",
        "  # una lista única\n",
        "    \n",
        "  return quick_sort_clase(izq) + quick_sort_clase(der)\n",
        "    \n"
      ],
      "execution_count": 0,
      "outputs": []
    },
    {
      "metadata": {
        "id": "Z-VbP9M0cOzS",
        "colab_type": "code",
        "colab": {}
      },
      "cell_type": "code",
      "source": [
        "A = [9187, 244, 4054, 9222, 8373, 4993, 5265, 5470, 4519, 7182, 2035, 3506, 4337, 7580, 2554, 2824, 8357, 4447, 7379]"
      ],
      "execution_count": 0,
      "outputs": []
    },
    {
      "metadata": {
        "id": "ev_55xdaeBbL",
        "colab_type": "code",
        "outputId": "a37050a0-869a-45b0-c1e9-03bca225c979",
        "colab": {
          "base_uri": "https://localhost:8080/",
          "height": 35
        }
      },
      "cell_type": "code",
      "source": [
        "print(quick_sort_clase(A))"
      ],
      "execution_count": 4,
      "outputs": [
        {
          "output_type": "stream",
          "text": [
            "[244, 2035, 2554, 2824, 3506, 4054, 4337, 4447, 4519, 4993, 5265, 5470, 7182, 7379, 7580, 8357, 8373, 9187, 9222]\n"
          ],
          "name": "stdout"
        }
      ]
    },
    {
      "metadata": {
        "id": "FLw2NxzvkgNl",
        "colab_type": "text"
      },
      "cell_type": "markdown",
      "source": [
        "Podemos calcular el tiempo de ejecución utilizando el código empleado por nuestra compañera Isabel Vázquez:"
      ]
    },
    {
      "metadata": {
        "id": "00Pv6WftkDXm",
        "colab_type": "code",
        "outputId": "c6b2a51d-7571-4ccd-af42-5bf25ad97fe6",
        "colab": {
          "base_uri": "https://localhost:8080/",
          "height": 53
        }
      },
      "cell_type": "code",
      "source": [
        "@calcular_tiempo\n",
        "def QS_clase(A):\n",
        "  return quick_sort_clase(A)\n",
        "\n",
        "print(QS_clase(A))\n"
      ],
      "execution_count": 5,
      "outputs": [
        {
          "output_type": "stream",
          "text": [
            "Tiempo de ejecución para algoritmo: 5.2928924560546875e-05\n",
            "[244, 2035, 2554, 2824, 3506, 4054, 4337, 4447, 4519, 4993, 5265, 5470, 7182, 7379, 7580, 8357, 8373, 9187, 9222]\n"
          ],
          "name": "stdout"
        }
      ]
    },
    {
      "metadata": {
        "id": "KWwPLWlzalnR",
        "colab_type": "text"
      },
      "cell_type": "markdown",
      "source": [
        "## 1.2. Código mejorado\n",
        "\n",
        "Mejoras:\n",
        "\n",
        "-    Uso de *elif* en lugar de dos *if* para comprobar la longitud de la lista a ordenar\n",
        "-    Uso de la mediana para el cálculo del pivote\n",
        "-    Creación de una función para ordenar de mayor a menor con quick sort. Se utiliza en la mejora del ejercicio 2 (apartado 2.2)"
      ]
    },
    {
      "metadata": {
        "id": "Mh7_LvMHgt23",
        "colab_type": "code",
        "colab": {}
      },
      "cell_type": "code",
      "source": [
        "import statistics\n",
        "\n",
        "def quick_sort(A): # ordena de menor a mayor\n",
        "  if len(A)==1: # Si el tamaño de la sublista es 1, devolvemos el elemento\n",
        "    return A\n",
        "  elif len(A)==2:\n",
        "    # Si el tamaño de la sublista es 2, devolvemos la lista ordenada poniendo\n",
        "    # el valor minimo en el primer elemento de la lista, y el mayor como el \n",
        "    # segundo elemento de la lista ordenada\n",
        "    \n",
        "    return [min(A),max(A)]\n",
        "  \n",
        "  else:# Listas con mas de 2 elementos\n",
        "    \n",
        "    izq = []# Sublista con valores menores o iguales al pivote\n",
        "    der = []# Sublista con valores mayores al pivote\n",
        "    \n",
        "    # pivote: Es el elemento que nos permite dividir la lista en dos sublistas\n",
        "    \n",
        "    # Para calcular el pivote usamos la mediana:\n",
        "    \n",
        "    pivote = statistics.median(A) # Calcular pivote\n",
        "    \n",
        "    # Dividir la lista en sublistas mediante el pivote\n",
        "    for i in A:\n",
        "      if i<= pivote:# Sublista con valores menores o iguales al pivote\n",
        "        izq.append(i)\n",
        "      else: # Sublista con valores mayores al pivote\n",
        "        der.append(i)\n",
        "        \n",
        "    # Se repite el proceso de forma recursiva para cada sublista mientras \n",
        "    # contengan más de uno o dos elementos. \n",
        "    \n",
        "    # Una vez terminado este proceso todos los elementos estarán ordenados. En\n",
        "    # una lista única\n",
        "    \n",
        "    return quick_sort(izq) + quick_sort(der)\n",
        "  "
      ],
      "execution_count": 0,
      "outputs": []
    },
    {
      "metadata": {
        "id": "9S69P-PEh7zB",
        "colab_type": "code",
        "outputId": "6491a4c6-8039-4ba8-93e1-4cb847df5d8a",
        "colab": {
          "base_uri": "https://localhost:8080/",
          "height": 35
        }
      },
      "cell_type": "code",
      "source": [
        "print(quick_sort(A))"
      ],
      "execution_count": 7,
      "outputs": [
        {
          "output_type": "stream",
          "text": [
            "[244, 2035, 2554, 2824, 3506, 4054, 4337, 4447, 4519, 4993, 5265, 5470, 7182, 7379, 7580, 8357, 8373, 9187, 9222]\n"
          ],
          "name": "stdout"
        }
      ]
    },
    {
      "metadata": {
        "id": "b5sNdYoz6tQN",
        "colab_type": "code",
        "outputId": "3a32a74f-0060-48cb-e49c-0ff3f1398dec",
        "colab": {
          "base_uri": "https://localhost:8080/",
          "height": 35
        }
      },
      "cell_type": "code",
      "source": [
        "print(quick_sort([10,9,8,7,6,5,4,3,2,1]))"
      ],
      "execution_count": 8,
      "outputs": [
        {
          "output_type": "stream",
          "text": [
            "[1, 2, 3, 4, 5, 6, 7, 8, 9, 10]\n"
          ],
          "name": "stdout"
        }
      ]
    },
    {
      "metadata": {
        "id": "2u-o4Xhg9cFr",
        "colab_type": "text"
      },
      "cell_type": "markdown",
      "source": [
        "**Ordenación de mayor a menor con el método quick sort: **\n",
        "\n",
        "Unicamente  debemos de cambiar el return  de *len(A)==2*, y el operador *<=* por *>=* en el condicional del *for*."
      ]
    },
    {
      "metadata": {
        "id": "cdjZRk5_3_6N",
        "colab_type": "code",
        "colab": {}
      },
      "cell_type": "code",
      "source": [
        "def quick_sort_mayor(A): # ordena de mayor a menor\n",
        "  if len(A)==1: # Si el tamaño de la sublista es 1, devolvemos el elemento\n",
        "    return A\n",
        "  elif len(A)==2:\n",
        "    # Si el tamaño de la sublista es 2, devolvemos la lista ordenada poniendo\n",
        "    # el valor mayor en el primer elemento de la lista, y el menor como el \n",
        "    # segundo elemento de la lista ordenada\n",
        "    return [max(A),min(A)]\n",
        "  \n",
        "  else:# Listas con mas de 2 elementos\n",
        "    \n",
        "    izq = []# Sublista con valores mayores o iguales al pivote\n",
        "    der = []# Sublista con valores menores al pivote\n",
        "    \n",
        "    # pivote: Es el elemento que nos permite dividir la lista en dos sublistas\n",
        "    \n",
        "    # Para calcular el pivote usamos la mediana:\n",
        "    \n",
        "    pivote = statistics.median(A) # Calcular pivote\n",
        "    \n",
        "    # Dividir la lista en sublistas mediante el pivote\n",
        "    for i in A:\n",
        "      if i>= pivote:# Sublista con valores mayores o iguales al pivote\n",
        "        izq.append(i)\n",
        "      else: # Sublista con valores menores al pivote\n",
        "        der.append(i)\n",
        "        \n",
        "    # Se repite el proceso de forma recursiva para cada sublista mientras \n",
        "    # contengan más de uno o dos elementos. \n",
        "    \n",
        "    # Una vez terminado este proceso todos los elementos estarán ordenados. En\n",
        "    # una lista única\n",
        "    \n",
        "    return quick_sort_mayor(izq) + quick_sort_mayor(der)"
      ],
      "execution_count": 0,
      "outputs": []
    },
    {
      "metadata": {
        "id": "2J2hCJ4V52lT",
        "colab_type": "code",
        "outputId": "74115734-b8d4-4e17-e76e-b914426d1132",
        "colab": {
          "base_uri": "https://localhost:8080/",
          "height": 35
        }
      },
      "cell_type": "code",
      "source": [
        "lista = [1,2,3,4,5,6,7,8,9,10]\n",
        "print(quick_sort_mayor(lista))"
      ],
      "execution_count": 10,
      "outputs": [
        {
          "output_type": "stream",
          "text": [
            "[10, 9, 8, 7, 6, 5, 4, 3, 2, 1]\n"
          ],
          "name": "stdout"
        }
      ]
    },
    {
      "metadata": {
        "id": "0qpRqDkfi31D",
        "colab_type": "text"
      },
      "cell_type": "markdown",
      "source": [
        "<a id=\"cm\"></a>\n",
        "# 2. Cambio de moneda\n",
        "\n",
        "Los **algoritmos voraces** consisten en trabajar por etapas, eligiendo en cada una de las etapas la mejor solución para esa etapa sin tener encuenta el resto de etapas, es decir, sin considerar las consecuencias futuras. La solución puede final puede no se la óptima como veremos en un ejemplo.\n",
        "\n",
        "Para comprender el funcionamiento de un algoritmo voraz vemos el ejemplo del problema tratado en este punto.\n",
        "\n",
        "Este **problema** consiste en el cálculo del cambio que se debe de devolver. Siendo \"*C*\" cualquier cantidad, la descomponemos de manera que se use el mínimo número posible de monedas, dado un sistema monetario (1, v1, ..., Vn). Debemo de suponer que disponemos de una cantidad ilimitada de cada tipo de moneda.\n",
        "\n",
        "Ordenando los valores de las monedas del sistemamonetario (1, v1, ..., Vn) de mayor a menor, deberíamos de obtener el mínimo número de monedas. Pues, usamos las monedas de mayor valor para descomponer la cantidad."
      ]
    },
    {
      "metadata": {
        "id": "cQXi41jXmlHM",
        "colab_type": "text"
      },
      "cell_type": "markdown",
      "source": [
        "## 2.1. Código realizado en clase"
      ]
    },
    {
      "metadata": {
        "id": "6VnYlqIzi7Nc",
        "colab_type": "code",
        "colab": {}
      },
      "cell_type": "code",
      "source": [
        "def cambio_monedas_clase(C,SM): \n",
        "  # C= cantidad\n",
        "  # SM = Sistema monetario. \n",
        "  # El sistema monetario debe de estar ordenado de mayor a menor\n",
        "  \n",
        "  # \"solucion\" es una lista del mismo tamaño que \"SM\" donde almacenamos el \n",
        "  # numero de monedas para cada una de las monedas de SM\n",
        "  # Ejemplo:\n",
        "  #     SM = [25,10,5,1]\n",
        "  #     solucion= [1,2,3,4]\n",
        "  #         |-> Una moneda de 25\n",
        "  #         |-> Dos monedas de 10\n",
        "  #         |-> Tres monedas de 5\n",
        "  #         |-> Cuatro monedas de 1\n",
        "  \n",
        "  solucion = [0 for i in range(len(SM))]# inicializmos la cantidad de monedas\n",
        "  \n",
        "  # Para poder saber cuanto nos queda para alcanzar \"C\", acumulamos la cantidad\n",
        "  # que hemos cubierto hasta ahora\n",
        "  valor_acumulado = 0 # Cantidad acumulada hasta ahora\n",
        "  \n",
        "  for i in range(len(SM)): \n",
        "    # calculamos el numero de monedas que podemos usar de la moneda actual (SM[i])\n",
        "    monedas = int((C-valor_acumulado)/SM[i])\n",
        "    \n",
        "    solucion[i]=monedas# Alamcenamos el numero de monedas para esta moneda (SM[i])\n",
        "    \n",
        "    # Cantidad acumulada anterior mas la cantidad que cubrimos con esta moneda\n",
        "    valor_acumulado += monedas*SM[i]\n",
        "    \n",
        "    if C == valor_acumulado:# Cantidad (C) alcanzada, no necesitamos seguir\n",
        "      return solucion\n",
        "  \n",
        "  return solucion"
      ],
      "execution_count": 0,
      "outputs": []
    },
    {
      "metadata": {
        "id": "lJZhK39RmEQy",
        "colab_type": "code",
        "outputId": "d2180b18-3aea-4464-9367-0cd6f37d8925",
        "colab": {
          "base_uri": "https://localhost:8080/",
          "height": 55
        }
      },
      "cell_type": "code",
      "source": [
        "cambio_monedas_clase(99,[25,10,5,1])"
      ],
      "execution_count": 12,
      "outputs": [
        {
          "output_type": "execute_result",
          "data": {
            "text/plain": [
              "[3, 2, 0, 4]"
            ]
          },
          "metadata": {
            "tags": []
          },
          "execution_count": 12
        }
      ]
    },
    {
      "metadata": {
        "id": "0w-uosygmlVs",
        "colab_type": "text"
      },
      "cell_type": "markdown",
      "source": [
        "## 2.2. Código mejorado"
      ]
    },
    {
      "metadata": {
        "id": "y5NPoNfCs7AD",
        "colab_type": "text"
      },
      "cell_type": "markdown",
      "source": [
        "-    Si no le pasamos el un sistema monetario, nos devuelve el cambio en euros  (centimos)\n",
        "-    Posibilidad de ordenar la lista de mayor a menor mediante el método quick_sort"
      ]
    },
    {
      "metadata": {
        "id": "oxWKVamYyixW",
        "colab_type": "code",
        "colab": {}
      },
      "cell_type": "code",
      "source": [
        "def cambio_monedas(C,SM = [200,100,50,20,10,2,1],ordenar = False): \n",
        "  # C= cantidad\n",
        "  # SM = Sistema monetario. Valores por defecto euros: [200,100,50,20,10,2,1]\n",
        "  # El sistema monetario debe de estar ordenado de mayor a menor:\n",
        "  \n",
        "  if(ordenar == True):\n",
        "    # Implementado en el ejercicio 1, ordena de mayor a menor\n",
        "    SM = quick_sort_mayor(SM)\n",
        "  \n",
        "  # \"solucion\" es una lista del mismo tamaño que \"SM\" donde almacenamos el \n",
        "  # numero de monedas para cada una de las monedas de SM\n",
        "  # Ejemplo:\n",
        "  #     SM = [25,10,5,1]\n",
        "  #     solucion = [1,2,3,4]\n",
        "  #         |-> Una moneda de 25\n",
        "  #         |-> Dos monedas de 10\n",
        "  #         |-> Tres monedas de 5\n",
        "  #         |-> Cuatro monedas de 1\n",
        "  \n",
        "  solucion = [0 for i in range(len(SM))]# inicializmos la cantidad de monedas\n",
        "  \n",
        "  # Para poder saber cuanto nos queda para alcanzar \"C\", acumulamos la cantidad\n",
        "  # que hemos cubierto hasta ahora\n",
        "  valor_acumulado = 0 # Cantidad acumulada hasta ahora\n",
        "  \n",
        "  for i in range(len(SM)): \n",
        "    # calculamos el numero de monedas que podemos usar de la moneda actual (SM[i])\n",
        "    monedas = int((C-valor_acumulado)/SM[i])\n",
        "    \n",
        "    solucion[i]=monedas# Alamcenamos el numero de monedas para esta moneda (SM[i])\n",
        "    \n",
        "    # Cantidad acumulada anterior mas la cantidad que cubrimos con esta moneda\n",
        "    valor_acumulado += monedas*SM[i]\n",
        "    \n",
        "    if C == valor_acumulado:# Cantidad (C) alcanzada, no necesitamos seguir\n",
        "      return SM,solucion # Si (ordenar == True) necesitamos tener el SM ordenado\n",
        "  \n",
        "  return SM,solucion # Si (ordenar == True) necesitamos tener el SM ordenado"
      ],
      "execution_count": 0,
      "outputs": []
    },
    {
      "metadata": {
        "id": "tby2F-mp_aBW",
        "colab_type": "text"
      },
      "cell_type": "markdown",
      "source": [
        "Por defecto utiliza el sistema monetario de centimos de euro:"
      ]
    },
    {
      "metadata": {
        "id": "CVXXotte3CxR",
        "colab_type": "code",
        "outputId": "214438b7-d73c-4f1c-af0c-28bf7c873d58",
        "colab": {
          "base_uri": "https://localhost:8080/",
          "height": 73
        }
      },
      "cell_type": "code",
      "source": [
        "SM, cambio = cambio_monedas(500)# 5 euros = 500 centimos\n",
        "print('Sist. monetatio: ', SM)\n",
        "print('num. monedas SM: ',cambio)"
      ],
      "execution_count": 14,
      "outputs": [
        {
          "output_type": "stream",
          "text": [
            "Sist. monetatio:  [200, 100, 50, 20, 10, 2, 1]\n",
            "num. monedas SM:  [2, 1, 0, 0, 0, 0, 0]\n"
          ],
          "name": "stdout"
        }
      ]
    },
    {
      "metadata": {
        "id": "FdpN2dUqB3XA",
        "colab_type": "text"
      },
      "cell_type": "markdown",
      "source": [
        "Tambien podemos introducir un sistema desordenado y ordenarlo mediante el método quick sort:"
      ]
    },
    {
      "metadata": {
        "id": "XnIKkWqiBxUU",
        "colab_type": "code",
        "outputId": "41e8ae13-9c00-418b-aadd-bca5efe3a160",
        "colab": {
          "base_uri": "https://localhost:8080/",
          "height": 73
        }
      },
      "cell_type": "code",
      "source": [
        "SM, cambio = cambio_monedas(95,[5,75,10,25,1],True)\n",
        "print('Sist. monetatio: ', SM)\n",
        "print('num. monedas SM: ',cambio)"
      ],
      "execution_count": 15,
      "outputs": [
        {
          "output_type": "stream",
          "text": [
            "Sist. monetatio:  [75, 25, 10, 5, 1]\n",
            "num. monedas SM:  [1, 0, 2, 0, 0]\n"
          ],
          "name": "stdout"
        }
      ]
    },
    {
      "metadata": {
        "id": "VC7KxCWQ3DF0",
        "colab_type": "text"
      },
      "cell_type": "markdown",
      "source": [
        "No todos los sistemas monetarios permiten obtener soluciones óptimas por la técnica voraz.\n",
        "\n",
        "Si utilizmos el sistema monetario SM =[11, 5, 1], el algoritmo obtiene la soluciín V = [1, 0, 4] como podemos comprobar. Sin embargo, el ṕtimo se consigue con la solución V=[0,3,0] (3 monedas frente a 5 que utilizamos con la solución del algoritmo).\n",
        "\n"
      ]
    },
    {
      "metadata": {
        "id": "x7LqSlpL_T6A",
        "colab_type": "code",
        "outputId": "ce56795c-ead6-4be0-a50e-a90b56316e70",
        "colab": {
          "base_uri": "https://localhost:8080/",
          "height": 73
        }
      },
      "cell_type": "code",
      "source": [
        "SM, cambio = cambio_monedas(15,[11,5,1])\n",
        "print('Sist. monetatio: ', SM)\n",
        "print('num. monedas SM: ',cambio)"
      ],
      "execution_count": 16,
      "outputs": [
        {
          "output_type": "stream",
          "text": [
            "Sist. monetatio:  [11, 5, 1]\n",
            "num. monedas SM:  [1, 0, 4]\n"
          ],
          "name": "stdout"
        }
      ]
    },
    {
      "metadata": {
        "id": "G0VDyuDZA_rf",
        "colab_type": "text"
      },
      "cell_type": "markdown",
      "source": [
        "Esto se debe a que el conjunto esta **ordenado de mayor a menor**, y como se ha comentado con anterioridad los algoritmos voraces consisten en trabajar por etapas, eligiendo en cada una de las etapas la mejor solución para esa etapa sin tener encuenta el resto de etapas, es decir, **sin considerar las consecuencias futuras**. "
      ]
    },
    {
      "metadata": {
        "id": "bWHrkEnTmck5",
        "colab_type": "text"
      },
      "cell_type": "markdown",
      "source": [
        "<a id=\"cr\"></a>\n",
        "# 3. Ocho reinas\n",
        "\n",
        "La técniaca de **vuelta atrás** realiza un estudio detallado de las soluciones, entre las que se tratará de encontrar la óptima.  El algoritmo básico de vuelta atrás es el siguiente:\n",
        "\n",
        "1.   Tomar una opción de entre las posibles\n",
        "2.   Para cada elección, considerar toda opción posible recursivamente\n",
        "3.   Devolver la mejor solución encontrada\n",
        "\n",
        "Para recorrer todas las posibles soluciones se contruye un árbol de expansión. Este árbol se utiliza para el uso de su organización , donde cada node de nivel *k* representa una parte de la solución y está formado por *k* etapas que se suponen ya realizadas. Los hijos de cada nodo constituyen nuevas partes de la soluciónpara la siguiente etapa.\n",
        "\n",
        "Al recorrer el arbol puede quelleguemos a nodos donde no se proporcione ninguna solución. En este caso, descartamos el nodo y volvemos hacia atrás en el árbol hasta el nodo que aún pueda proporcionar una posible solución. En el caso que encontremos alguna posible solucióna al problema, la registramos consu coste y continuaremos explorendo otras soluciones (vuelta atrás).\n",
        "\n",
        "Una mejora de los algoritmos de vuelta atrás son los algoritmos de Ramificación y poda.\n",
        "\n",
        "El problema de las **ocho reinas** consiste en colocar 8 reinas sobre un tablero de ajedrez sin que se amenacen entre sí. La solución viene dada por un vector (v1, v,2 v3, v4, v5, v6, v7, v8) donde cada una de las posiciones del vector  indica la columna,  y los valores para cada posición indica la fila (Ejemplo: V[0] seria la fila y 0 la columna)"
      ]
    },
    {
      "metadata": {
        "id": "_cwZ1ymVmpq9",
        "colab_type": "text"
      },
      "cell_type": "markdown",
      "source": [
        "## 3.1. Código realizado en clase"
      ]
    },
    {
      "metadata": {
        "id": "GKLRmGQ-jIYw",
        "colab_type": "code",
        "outputId": "56bcf9a6-4220-4bcd-ab2b-ee951f4a0524",
        "colab": {
          "base_uri": "https://localhost:8080/",
          "height": 55
        }
      },
      "cell_type": "code",
      "source": [
        "a = [1,1,4,1]\n",
        "a.count(4)"
      ],
      "execution_count": 17,
      "outputs": [
        {
          "output_type": "execute_result",
          "data": {
            "text/plain": [
              "1"
            ]
          },
          "metadata": {
            "tags": []
          },
          "execution_count": 17
        }
      ]
    },
    {
      "metadata": {
        "id": "XKeKi6afj_PG",
        "colab_type": "code",
        "outputId": "30ddaafe-3056-4679-e45c-4db95ea0b24f",
        "colab": {
          "base_uri": "https://localhost:8080/",
          "height": 55
        }
      },
      "cell_type": "code",
      "source": [
        "range(1)"
      ],
      "execution_count": 18,
      "outputs": [
        {
          "output_type": "execute_result",
          "data": {
            "text/plain": [
              "range(0, 1)"
            ]
          },
          "metadata": {
            "tags": []
          },
          "execution_count": 18
        }
      ]
    },
    {
      "metadata": {
        "id": "HkdzJSjvKetG",
        "colab_type": "code",
        "colab": {}
      },
      "cell_type": "code",
      "source": [
        "def es_prometedora(SOLUCION,etapa):\n",
        "\n",
        "  for i in range(etapa+1):\n",
        "    # Las filas van de 1 a 4, si en 'SOLUCION' hay un cero, quiere decir que no\n",
        "    # se ha introducido una reina aun\n",
        "    \n",
        "    # SOLUCION.count(SOLUCION[i]) cuenta el numero de valores 'i' que \n",
        "    # hay en la lista SOLUCION. Si hay solo 1, solo uno esta usando esa fila. \n",
        "    # si SOLUCION.count(SOLUCION[i]) > 1, quiere cecir que ya habia otra reina\n",
        "    # en esa fila. \n",
        "    \n",
        "    #Como esto no puede ocurrir, no es prometedora para ser solucion (False)\n",
        "    \n",
        "    if SOLUCION.count(SOLUCION[i]) > 1:       \n",
        "      return False\n",
        "  \n",
        "    #Verifica las diagonales\n",
        "    for j in range(i+1, etapa +1 ):\n",
        "      if abs(i-j) == abs(SOLUCION[i]-SOLUCION[j]) : \n",
        "        return False\n",
        "    \n",
        "    # Si hemos llegado a este punto, quiere decir que no se han cumplido los\n",
        "    # condicionales. Es decir, no hay ninguna reina en la misma fila o en las\n",
        "    # diagonales. Por esta razon, se trata de un SOLUCION PROMETEDORA, por lo\n",
        "    # que devolvemos True\n",
        "  return True\n",
        "\n",
        "\n",
        "def escribe(S): \n",
        "  n = len(S)\n",
        "  for x in range(n):\n",
        "    print(\"\")\n",
        "    for i in range(n):\n",
        "      if solucion[i] == x+1:\n",
        "        print(\" X \" , end=\"\")# Reina\n",
        "      else:\n",
        "        print(\" - \", end=\"\")# No Reina\n",
        "\n",
        "\n",
        "def reinas(N,solucion,etapa): #Tamaño del tablero\n",
        "  \n",
        "  for i in range(1,N+1):\n",
        "    # Con etapa recorremos las columnas por eso va de 0 a N-1, pues la \n",
        "    # columna es la posicion del vector.\n",
        "    \n",
        "    # En el for esta cogiendo un rango de 1 a 4, cosa que creo que es un lio\n",
        "    # pues si las columnas van de 0 a 3, las filas deberian de hacerlo tambien.\n",
        "    # Lo unico esque asi es mas entendible para personas no programadoras\n",
        "    \n",
        "    solucion[etapa] = i\n",
        "    \n",
        "    # Para la columna 'etapa', la reina situada en la fila 'i' ¿Proporciona \n",
        "    # una solucion?\n",
        "    \n",
        "    # Funcion: es_prometedora()\n",
        "    #\n",
        "    \n",
        "    if es_prometedora(solucion,etapa):\n",
        "      # Comprueba que no hay ninguna reina en la misma\n",
        "      \n",
        "      if etapa == N-1 :\n",
        "        # Se han recorrido todas las columnas, entodas hay una reina\n",
        "        \n",
        "        print(\"\\n\\nLa solución es:\")\n",
        "        print(solucion)\n",
        "        escribe(solucion)\n",
        "        \n",
        "      else:\n",
        "        #print(\"Es prometedora\\n###################\")\n",
        "        reinas(N,solucion,etapa+1)\n",
        "    else:\n",
        "      #print(\"NO PROMETEDORA\\n###################\")\n",
        "      None\n",
        "    \n",
        "    # \n",
        "    solucion[etapa] = 0"
      ],
      "execution_count": 0,
      "outputs": []
    },
    {
      "metadata": {
        "id": "x49ktWd1y5nD",
        "colab_type": "text"
      },
      "cell_type": "markdown",
      "source": [
        "En la prueba con 4 reinas, obtenemos 2 soluciones:"
      ]
    },
    {
      "metadata": {
        "id": "e85cHY4-cubk",
        "colab_type": "code",
        "outputId": "ea0faef7-c576-4959-e485-b15c3adcf891",
        "colab": {
          "base_uri": "https://localhost:8080/",
          "height": 343
        }
      },
      "cell_type": "code",
      "source": [
        "N =4\n",
        "solucion = [0 for i in range(N) ]\n",
        "reinas(N,solucion,0)\n"
      ],
      "execution_count": 20,
      "outputs": [
        {
          "output_type": "stream",
          "text": [
            "\n",
            "\n",
            "La solución es:\n",
            "[2, 4, 1, 3]\n",
            "\n",
            " -  -  X  - \n",
            " X  -  -  - \n",
            " -  -  -  X \n",
            " -  X  -  - \n",
            "\n",
            "La solución es:\n",
            "[3, 1, 4, 2]\n",
            "\n",
            " -  X  -  - \n",
            " -  -  -  X \n",
            " X  -  -  - \n",
            " -  -  X  - "
          ],
          "name": "stdout"
        }
      ]
    },
    {
      "metadata": {
        "id": "4pRpYKSrzU4o",
        "colab_type": "text"
      },
      "cell_type": "markdown",
      "source": [
        "En la prueba con 8 reinas, obtenemos 92 soluciones:"
      ]
    },
    {
      "metadata": {
        "id": "XMPL7Gj5zT7_",
        "colab_type": "code",
        "colab": {
          "base_uri": "https://localhost:8080/",
          "height": 19927
        },
        "outputId": "abf342fb-ce3b-4703-c7cb-35416989293c"
      },
      "cell_type": "code",
      "source": [
        "N = 8\n",
        "solucion = [0 for i in range(N) ]\n",
        "reinas(N,solucion,0)"
      ],
      "execution_count": 21,
      "outputs": [
        {
          "output_type": "stream",
          "text": [
            "\n",
            "\n",
            "La solución es:\n",
            "[1, 5, 8, 6, 3, 7, 2, 4]\n",
            "\n",
            " X  -  -  -  -  -  -  - \n",
            " -  -  -  -  -  -  X  - \n",
            " -  -  -  -  X  -  -  - \n",
            " -  -  -  -  -  -  -  X \n",
            " -  X  -  -  -  -  -  - \n",
            " -  -  -  X  -  -  -  - \n",
            " -  -  -  -  -  X  -  - \n",
            " -  -  X  -  -  -  -  - \n",
            "\n",
            "La solución es:\n",
            "[1, 6, 8, 3, 7, 4, 2, 5]\n",
            "\n",
            " X  -  -  -  -  -  -  - \n",
            " -  -  -  -  -  -  X  - \n",
            " -  -  -  X  -  -  -  - \n",
            " -  -  -  -  -  X  -  - \n",
            " -  -  -  -  -  -  -  X \n",
            " -  X  -  -  -  -  -  - \n",
            " -  -  -  -  X  -  -  - \n",
            " -  -  X  -  -  -  -  - \n",
            "\n",
            "La solución es:\n",
            "[1, 7, 4, 6, 8, 2, 5, 3]\n",
            "\n",
            " X  -  -  -  -  -  -  - \n",
            " -  -  -  -  -  X  -  - \n",
            " -  -  -  -  -  -  -  X \n",
            " -  -  X  -  -  -  -  - \n",
            " -  -  -  -  -  -  X  - \n",
            " -  -  -  X  -  -  -  - \n",
            " -  X  -  -  -  -  -  - \n",
            " -  -  -  -  X  -  -  - \n",
            "\n",
            "La solución es:\n",
            "[1, 7, 5, 8, 2, 4, 6, 3]\n",
            "\n",
            " X  -  -  -  -  -  -  - \n",
            " -  -  -  -  X  -  -  - \n",
            " -  -  -  -  -  -  -  X \n",
            " -  -  -  -  -  X  -  - \n",
            " -  -  X  -  -  -  -  - \n",
            " -  -  -  -  -  -  X  - \n",
            " -  X  -  -  -  -  -  - \n",
            " -  -  -  X  -  -  -  - \n",
            "\n",
            "La solución es:\n",
            "[2, 4, 6, 8, 3, 1, 7, 5]\n",
            "\n",
            " -  -  -  -  -  X  -  - \n",
            " X  -  -  -  -  -  -  - \n",
            " -  -  -  -  X  -  -  - \n",
            " -  X  -  -  -  -  -  - \n",
            " -  -  -  -  -  -  -  X \n",
            " -  -  X  -  -  -  -  - \n",
            " -  -  -  -  -  -  X  - \n",
            " -  -  -  X  -  -  -  - \n",
            "\n",
            "La solución es:\n",
            "[2, 5, 7, 1, 3, 8, 6, 4]\n",
            "\n",
            " -  -  -  X  -  -  -  - \n",
            " X  -  -  -  -  -  -  - \n",
            " -  -  -  -  X  -  -  - \n",
            " -  -  -  -  -  -  -  X \n",
            " -  X  -  -  -  -  -  - \n",
            " -  -  -  -  -  -  X  - \n",
            " -  -  X  -  -  -  -  - \n",
            " -  -  -  -  -  X  -  - \n",
            "\n",
            "La solución es:\n",
            "[2, 5, 7, 4, 1, 8, 6, 3]\n",
            "\n",
            " -  -  -  -  X  -  -  - \n",
            " X  -  -  -  -  -  -  - \n",
            " -  -  -  -  -  -  -  X \n",
            " -  -  -  X  -  -  -  - \n",
            " -  X  -  -  -  -  -  - \n",
            " -  -  -  -  -  -  X  - \n",
            " -  -  X  -  -  -  -  - \n",
            " -  -  -  -  -  X  -  - \n",
            "\n",
            "La solución es:\n",
            "[2, 6, 1, 7, 4, 8, 3, 5]\n",
            "\n",
            " -  -  X  -  -  -  -  - \n",
            " X  -  -  -  -  -  -  - \n",
            " -  -  -  -  -  -  X  - \n",
            " -  -  -  -  X  -  -  - \n",
            " -  -  -  -  -  -  -  X \n",
            " -  X  -  -  -  -  -  - \n",
            " -  -  -  X  -  -  -  - \n",
            " -  -  -  -  -  X  -  - \n",
            "\n",
            "La solución es:\n",
            "[2, 6, 8, 3, 1, 4, 7, 5]\n",
            "\n",
            " -  -  -  -  X  -  -  - \n",
            " X  -  -  -  -  -  -  - \n",
            " -  -  -  X  -  -  -  - \n",
            " -  -  -  -  -  X  -  - \n",
            " -  -  -  -  -  -  -  X \n",
            " -  X  -  -  -  -  -  - \n",
            " -  -  -  -  -  -  X  - \n",
            " -  -  X  -  -  -  -  - \n",
            "\n",
            "La solución es:\n",
            "[2, 7, 3, 6, 8, 5, 1, 4]\n",
            "\n",
            " -  -  -  -  -  -  X  - \n",
            " X  -  -  -  -  -  -  - \n",
            " -  -  X  -  -  -  -  - \n",
            " -  -  -  -  -  -  -  X \n",
            " -  -  -  -  -  X  -  - \n",
            " -  -  -  X  -  -  -  - \n",
            " -  X  -  -  -  -  -  - \n",
            " -  -  -  -  X  -  -  - \n",
            "\n",
            "La solución es:\n",
            "[2, 7, 5, 8, 1, 4, 6, 3]\n",
            "\n",
            " -  -  -  -  X  -  -  - \n",
            " X  -  -  -  -  -  -  - \n",
            " -  -  -  -  -  -  -  X \n",
            " -  -  -  -  -  X  -  - \n",
            " -  -  X  -  -  -  -  - \n",
            " -  -  -  -  -  -  X  - \n",
            " -  X  -  -  -  -  -  - \n",
            " -  -  -  X  -  -  -  - \n",
            "\n",
            "La solución es:\n",
            "[2, 8, 6, 1, 3, 5, 7, 4]\n",
            "\n",
            " -  -  -  X  -  -  -  - \n",
            " X  -  -  -  -  -  -  - \n",
            " -  -  -  -  X  -  -  - \n",
            " -  -  -  -  -  -  -  X \n",
            " -  -  -  -  -  X  -  - \n",
            " -  -  X  -  -  -  -  - \n",
            " -  -  -  -  -  -  X  - \n",
            " -  X  -  -  -  -  -  - \n",
            "\n",
            "La solución es:\n",
            "[3, 1, 7, 5, 8, 2, 4, 6]\n",
            "\n",
            " -  X  -  -  -  -  -  - \n",
            " -  -  -  -  -  X  -  - \n",
            " X  -  -  -  -  -  -  - \n",
            " -  -  -  -  -  -  X  - \n",
            " -  -  -  X  -  -  -  - \n",
            " -  -  -  -  -  -  -  X \n",
            " -  -  X  -  -  -  -  - \n",
            " -  -  -  -  X  -  -  - \n",
            "\n",
            "La solución es:\n",
            "[3, 5, 2, 8, 1, 7, 4, 6]\n",
            "\n",
            " -  -  -  -  X  -  -  - \n",
            " -  -  X  -  -  -  -  - \n",
            " X  -  -  -  -  -  -  - \n",
            " -  -  -  -  -  -  X  - \n",
            " -  X  -  -  -  -  -  - \n",
            " -  -  -  -  -  -  -  X \n",
            " -  -  -  -  -  X  -  - \n",
            " -  -  -  X  -  -  -  - \n",
            "\n",
            "La solución es:\n",
            "[3, 5, 2, 8, 6, 4, 7, 1]\n",
            "\n",
            " -  -  -  -  -  -  -  X \n",
            " -  -  X  -  -  -  -  - \n",
            " X  -  -  -  -  -  -  - \n",
            " -  -  -  -  -  X  -  - \n",
            " -  X  -  -  -  -  -  - \n",
            " -  -  -  -  X  -  -  - \n",
            " -  -  -  -  -  -  X  - \n",
            " -  -  -  X  -  -  -  - \n",
            "\n",
            "La solución es:\n",
            "[3, 5, 7, 1, 4, 2, 8, 6]\n",
            "\n",
            " -  -  -  X  -  -  -  - \n",
            " -  -  -  -  -  X  -  - \n",
            " X  -  -  -  -  -  -  - \n",
            " -  -  -  -  X  -  -  - \n",
            " -  X  -  -  -  -  -  - \n",
            " -  -  -  -  -  -  -  X \n",
            " -  -  X  -  -  -  -  - \n",
            " -  -  -  -  -  -  X  - \n",
            "\n",
            "La solución es:\n",
            "[3, 5, 8, 4, 1, 7, 2, 6]\n",
            "\n",
            " -  -  -  -  X  -  -  - \n",
            " -  -  -  -  -  -  X  - \n",
            " X  -  -  -  -  -  -  - \n",
            " -  -  -  X  -  -  -  - \n",
            " -  X  -  -  -  -  -  - \n",
            " -  -  -  -  -  -  -  X \n",
            " -  -  -  -  -  X  -  - \n",
            " -  -  X  -  -  -  -  - \n",
            "\n",
            "La solución es:\n",
            "[3, 6, 2, 5, 8, 1, 7, 4]\n",
            "\n",
            " -  -  -  -  -  X  -  - \n",
            " -  -  X  -  -  -  -  - \n",
            " X  -  -  -  -  -  -  - \n",
            " -  -  -  -  -  -  -  X \n",
            " -  -  -  X  -  -  -  - \n",
            " -  X  -  -  -  -  -  - \n",
            " -  -  -  -  -  -  X  - \n",
            " -  -  -  -  X  -  -  - \n",
            "\n",
            "La solución es:\n",
            "[3, 6, 2, 7, 1, 4, 8, 5]\n",
            "\n",
            " -  -  -  -  X  -  -  - \n",
            " -  -  X  -  -  -  -  - \n",
            " X  -  -  -  -  -  -  - \n",
            " -  -  -  -  -  X  -  - \n",
            " -  -  -  -  -  -  -  X \n",
            " -  X  -  -  -  -  -  - \n",
            " -  -  -  X  -  -  -  - \n",
            " -  -  -  -  -  -  X  - \n",
            "\n",
            "La solución es:\n",
            "[3, 6, 2, 7, 5, 1, 8, 4]\n",
            "\n",
            " -  -  -  -  -  X  -  - \n",
            " -  -  X  -  -  -  -  - \n",
            " X  -  -  -  -  -  -  - \n",
            " -  -  -  -  -  -  -  X \n",
            " -  -  -  -  X  -  -  - \n",
            " -  X  -  -  -  -  -  - \n",
            " -  -  -  X  -  -  -  - \n",
            " -  -  -  -  -  -  X  - \n",
            "\n",
            "La solución es:\n",
            "[3, 6, 4, 1, 8, 5, 7, 2]\n",
            "\n",
            " -  -  -  X  -  -  -  - \n",
            " -  -  -  -  -  -  -  X \n",
            " X  -  -  -  -  -  -  - \n",
            " -  -  X  -  -  -  -  - \n",
            " -  -  -  -  -  X  -  - \n",
            " -  X  -  -  -  -  -  - \n",
            " -  -  -  -  -  -  X  - \n",
            " -  -  -  -  X  -  -  - \n",
            "\n",
            "La solución es:\n",
            "[3, 6, 4, 2, 8, 5, 7, 1]\n",
            "\n",
            " -  -  -  -  -  -  -  X \n",
            " -  -  -  X  -  -  -  - \n",
            " X  -  -  -  -  -  -  - \n",
            " -  -  X  -  -  -  -  - \n",
            " -  -  -  -  -  X  -  - \n",
            " -  X  -  -  -  -  -  - \n",
            " -  -  -  -  -  -  X  - \n",
            " -  -  -  -  X  -  -  - \n",
            "\n",
            "La solución es:\n",
            "[3, 6, 8, 1, 4, 7, 5, 2]\n",
            "\n",
            " -  -  -  X  -  -  -  - \n",
            " -  -  -  -  -  -  -  X \n",
            " X  -  -  -  -  -  -  - \n",
            " -  -  -  -  X  -  -  - \n",
            " -  -  -  -  -  -  X  - \n",
            " -  X  -  -  -  -  -  - \n",
            " -  -  -  -  -  X  -  - \n",
            " -  -  X  -  -  -  -  - \n",
            "\n",
            "La solución es:\n",
            "[3, 6, 8, 1, 5, 7, 2, 4]\n",
            "\n",
            " -  -  -  X  -  -  -  - \n",
            " -  -  -  -  -  -  X  - \n",
            " X  -  -  -  -  -  -  - \n",
            " -  -  -  -  -  -  -  X \n",
            " -  -  -  -  X  -  -  - \n",
            " -  X  -  -  -  -  -  - \n",
            " -  -  -  -  -  X  -  - \n",
            " -  -  X  -  -  -  -  - \n",
            "\n",
            "La solución es:\n",
            "[3, 6, 8, 2, 4, 1, 7, 5]\n",
            "\n",
            " -  -  -  -  -  X  -  - \n",
            " -  -  -  X  -  -  -  - \n",
            " X  -  -  -  -  -  -  - \n",
            " -  -  -  -  X  -  -  - \n",
            " -  -  -  -  -  -  -  X \n",
            " -  X  -  -  -  -  -  - \n",
            " -  -  -  -  -  -  X  - \n",
            " -  -  X  -  -  -  -  - \n",
            "\n",
            "La solución es:\n",
            "[3, 7, 2, 8, 5, 1, 4, 6]\n",
            "\n",
            " -  -  -  -  -  X  -  - \n",
            " -  -  X  -  -  -  -  - \n",
            " X  -  -  -  -  -  -  - \n",
            " -  -  -  -  -  -  X  - \n",
            " -  -  -  -  X  -  -  - \n",
            " -  -  -  -  -  -  -  X \n",
            " -  X  -  -  -  -  -  - \n",
            " -  -  -  X  -  -  -  - \n",
            "\n",
            "La solución es:\n",
            "[3, 7, 2, 8, 6, 4, 1, 5]\n",
            "\n",
            " -  -  -  -  -  -  X  - \n",
            " -  -  X  -  -  -  -  - \n",
            " X  -  -  -  -  -  -  - \n",
            " -  -  -  -  -  X  -  - \n",
            " -  -  -  -  -  -  -  X \n",
            " -  -  -  -  X  -  -  - \n",
            " -  X  -  -  -  -  -  - \n",
            " -  -  -  X  -  -  -  - \n",
            "\n",
            "La solución es:\n",
            "[3, 8, 4, 7, 1, 6, 2, 5]\n",
            "\n",
            " -  -  -  -  X  -  -  - \n",
            " -  -  -  -  -  -  X  - \n",
            " X  -  -  -  -  -  -  - \n",
            " -  -  X  -  -  -  -  - \n",
            " -  -  -  -  -  -  -  X \n",
            " -  -  -  -  -  X  -  - \n",
            " -  -  -  X  -  -  -  - \n",
            " -  X  -  -  -  -  -  - \n",
            "\n",
            "La solución es:\n",
            "[4, 1, 5, 8, 2, 7, 3, 6]\n",
            "\n",
            " -  X  -  -  -  -  -  - \n",
            " -  -  -  -  X  -  -  - \n",
            " -  -  -  -  -  -  X  - \n",
            " X  -  -  -  -  -  -  - \n",
            " -  -  X  -  -  -  -  - \n",
            " -  -  -  -  -  -  -  X \n",
            " -  -  -  -  -  X  -  - \n",
            " -  -  -  X  -  -  -  - \n",
            "\n",
            "La solución es:\n",
            "[4, 1, 5, 8, 6, 3, 7, 2]\n",
            "\n",
            " -  X  -  -  -  -  -  - \n",
            " -  -  -  -  -  -  -  X \n",
            " -  -  -  -  -  X  -  - \n",
            " X  -  -  -  -  -  -  - \n",
            " -  -  X  -  -  -  -  - \n",
            " -  -  -  -  X  -  -  - \n",
            " -  -  -  -  -  -  X  - \n",
            " -  -  -  X  -  -  -  - \n",
            "\n",
            "La solución es:\n",
            "[4, 2, 5, 8, 6, 1, 3, 7]\n",
            "\n",
            " -  -  -  -  -  X  -  - \n",
            " -  X  -  -  -  -  -  - \n",
            " -  -  -  -  -  -  X  - \n",
            " X  -  -  -  -  -  -  - \n",
            " -  -  X  -  -  -  -  - \n",
            " -  -  -  -  X  -  -  - \n",
            " -  -  -  -  -  -  -  X \n",
            " -  -  -  X  -  -  -  - \n",
            "\n",
            "La solución es:\n",
            "[4, 2, 7, 3, 6, 8, 1, 5]\n",
            "\n",
            " -  -  -  -  -  -  X  - \n",
            " -  X  -  -  -  -  -  - \n",
            " -  -  -  X  -  -  -  - \n",
            " X  -  -  -  -  -  -  - \n",
            " -  -  -  -  -  -  -  X \n",
            " -  -  -  -  X  -  -  - \n",
            " -  -  X  -  -  -  -  - \n",
            " -  -  -  -  -  X  -  - \n",
            "\n",
            "La solución es:\n",
            "[4, 2, 7, 3, 6, 8, 5, 1]\n",
            "\n",
            " -  -  -  -  -  -  -  X \n",
            " -  X  -  -  -  -  -  - \n",
            " -  -  -  X  -  -  -  - \n",
            " X  -  -  -  -  -  -  - \n",
            " -  -  -  -  -  -  X  - \n",
            " -  -  -  -  X  -  -  - \n",
            " -  -  X  -  -  -  -  - \n",
            " -  -  -  -  -  X  -  - \n",
            "\n",
            "La solución es:\n",
            "[4, 2, 7, 5, 1, 8, 6, 3]\n",
            "\n",
            " -  -  -  -  X  -  -  - \n",
            " -  X  -  -  -  -  -  - \n",
            " -  -  -  -  -  -  -  X \n",
            " X  -  -  -  -  -  -  - \n",
            " -  -  -  X  -  -  -  - \n",
            " -  -  -  -  -  -  X  - \n",
            " -  -  X  -  -  -  -  - \n",
            " -  -  -  -  -  X  -  - \n",
            "\n",
            "La solución es:\n",
            "[4, 2, 8, 5, 7, 1, 3, 6]\n",
            "\n",
            " -  -  -  -  -  X  -  - \n",
            " -  X  -  -  -  -  -  - \n",
            " -  -  -  -  -  -  X  - \n",
            " X  -  -  -  -  -  -  - \n",
            " -  -  -  X  -  -  -  - \n",
            " -  -  -  -  -  -  -  X \n",
            " -  -  -  -  X  -  -  - \n",
            " -  -  X  -  -  -  -  - \n",
            "\n",
            "La solución es:\n",
            "[4, 2, 8, 6, 1, 3, 5, 7]\n",
            "\n",
            " -  -  -  -  X  -  -  - \n",
            " -  X  -  -  -  -  -  - \n",
            " -  -  -  -  -  X  -  - \n",
            " X  -  -  -  -  -  -  - \n",
            " -  -  -  -  -  -  X  - \n",
            " -  -  -  X  -  -  -  - \n",
            " -  -  -  -  -  -  -  X \n",
            " -  -  X  -  -  -  -  - \n",
            "\n",
            "La solución es:\n",
            "[4, 6, 1, 5, 2, 8, 3, 7]\n",
            "\n",
            " -  -  X  -  -  -  -  - \n",
            " -  -  -  -  X  -  -  - \n",
            " -  -  -  -  -  -  X  - \n",
            " X  -  -  -  -  -  -  - \n",
            " -  -  -  X  -  -  -  - \n",
            " -  X  -  -  -  -  -  - \n",
            " -  -  -  -  -  -  -  X \n",
            " -  -  -  -  -  X  -  - \n",
            "\n",
            "La solución es:\n",
            "[4, 6, 8, 2, 7, 1, 3, 5]\n",
            "\n",
            " -  -  -  -  -  X  -  - \n",
            " -  -  -  X  -  -  -  - \n",
            " -  -  -  -  -  -  X  - \n",
            " X  -  -  -  -  -  -  - \n",
            " -  -  -  -  -  -  -  X \n",
            " -  X  -  -  -  -  -  - \n",
            " -  -  -  -  X  -  -  - \n",
            " -  -  X  -  -  -  -  - \n",
            "\n",
            "La solución es:\n",
            "[4, 6, 8, 3, 1, 7, 5, 2]\n",
            "\n",
            " -  -  -  -  X  -  -  - \n",
            " -  -  -  -  -  -  -  X \n",
            " -  -  -  X  -  -  -  - \n",
            " X  -  -  -  -  -  -  - \n",
            " -  -  -  -  -  -  X  - \n",
            " -  X  -  -  -  -  -  - \n",
            " -  -  -  -  -  X  -  - \n",
            " -  -  X  -  -  -  -  - \n",
            "\n",
            "La solución es:\n",
            "[4, 7, 1, 8, 5, 2, 6, 3]\n",
            "\n",
            " -  -  X  -  -  -  -  - \n",
            " -  -  -  -  -  X  -  - \n",
            " -  -  -  -  -  -  -  X \n",
            " X  -  -  -  -  -  -  - \n",
            " -  -  -  -  X  -  -  - \n",
            " -  -  -  -  -  -  X  - \n",
            " -  X  -  -  -  -  -  - \n",
            " -  -  -  X  -  -  -  - \n",
            "\n",
            "La solución es:\n",
            "[4, 7, 3, 8, 2, 5, 1, 6]\n",
            "\n",
            " -  -  -  -  -  -  X  - \n",
            " -  -  -  -  X  -  -  - \n",
            " -  -  X  -  -  -  -  - \n",
            " X  -  -  -  -  -  -  - \n",
            " -  -  -  -  -  X  -  - \n",
            " -  -  -  -  -  -  -  X \n",
            " -  X  -  -  -  -  -  - \n",
            " -  -  -  X  -  -  -  - \n",
            "\n",
            "La solución es:\n",
            "[4, 7, 5, 2, 6, 1, 3, 8]\n",
            "\n",
            " -  -  -  -  -  X  -  - \n",
            " -  -  -  X  -  -  -  - \n",
            " -  -  -  -  -  -  X  - \n",
            " X  -  -  -  -  -  -  - \n",
            " -  -  X  -  -  -  -  - \n",
            " -  -  -  -  X  -  -  - \n",
            " -  X  -  -  -  -  -  - \n",
            " -  -  -  -  -  -  -  X \n",
            "\n",
            "La solución es:\n",
            "[4, 7, 5, 3, 1, 6, 8, 2]\n",
            "\n",
            " -  -  -  -  X  -  -  - \n",
            " -  -  -  -  -  -  -  X \n",
            " -  -  -  X  -  -  -  - \n",
            " X  -  -  -  -  -  -  - \n",
            " -  -  X  -  -  -  -  - \n",
            " -  -  -  -  -  X  -  - \n",
            " -  X  -  -  -  -  -  - \n",
            " -  -  -  -  -  -  X  - \n",
            "\n",
            "La solución es:\n",
            "[4, 8, 1, 3, 6, 2, 7, 5]\n",
            "\n",
            " -  -  X  -  -  -  -  - \n",
            " -  -  -  -  -  X  -  - \n",
            " -  -  -  X  -  -  -  - \n",
            " X  -  -  -  -  -  -  - \n",
            " -  -  -  -  -  -  -  X \n",
            " -  -  -  -  X  -  -  - \n",
            " -  -  -  -  -  -  X  - \n",
            " -  X  -  -  -  -  -  - \n",
            "\n",
            "La solución es:\n",
            "[4, 8, 1, 5, 7, 2, 6, 3]\n",
            "\n",
            " -  -  X  -  -  -  -  - \n",
            " -  -  -  -  -  X  -  - \n",
            " -  -  -  -  -  -  -  X \n",
            " X  -  -  -  -  -  -  - \n",
            " -  -  -  X  -  -  -  - \n",
            " -  -  -  -  -  -  X  - \n",
            " -  -  -  -  X  -  -  - \n",
            " -  X  -  -  -  -  -  - \n",
            "\n",
            "La solución es:\n",
            "[4, 8, 5, 3, 1, 7, 2, 6]\n",
            "\n",
            " -  -  -  -  X  -  -  - \n",
            " -  -  -  -  -  -  X  - \n",
            " -  -  -  X  -  -  -  - \n",
            " X  -  -  -  -  -  -  - \n",
            " -  -  X  -  -  -  -  - \n",
            " -  -  -  -  -  -  -  X \n",
            " -  -  -  -  -  X  -  - \n",
            " -  X  -  -  -  -  -  - \n",
            "\n",
            "La solución es:\n",
            "[5, 1, 4, 6, 8, 2, 7, 3]\n",
            "\n",
            " -  X  -  -  -  -  -  - \n",
            " -  -  -  -  -  X  -  - \n",
            " -  -  -  -  -  -  -  X \n",
            " -  -  X  -  -  -  -  - \n",
            " X  -  -  -  -  -  -  - \n",
            " -  -  -  X  -  -  -  - \n",
            " -  -  -  -  -  -  X  - \n",
            " -  -  -  -  X  -  -  - \n",
            "\n",
            "La solución es:\n",
            "[5, 1, 8, 4, 2, 7, 3, 6]\n",
            "\n",
            " -  X  -  -  -  -  -  - \n",
            " -  -  -  -  X  -  -  - \n",
            " -  -  -  -  -  -  X  - \n",
            " -  -  -  X  -  -  -  - \n",
            " X  -  -  -  -  -  -  - \n",
            " -  -  -  -  -  -  -  X \n",
            " -  -  -  -  -  X  -  - \n",
            " -  -  X  -  -  -  -  - \n",
            "\n",
            "La solución es:\n",
            "[5, 1, 8, 6, 3, 7, 2, 4]\n",
            "\n",
            " -  X  -  -  -  -  -  - \n",
            " -  -  -  -  -  -  X  - \n",
            " -  -  -  -  X  -  -  - \n",
            " -  -  -  -  -  -  -  X \n",
            " X  -  -  -  -  -  -  - \n",
            " -  -  -  X  -  -  -  - \n",
            " -  -  -  -  -  X  -  - \n",
            " -  -  X  -  -  -  -  - \n",
            "\n",
            "La solución es:\n",
            "[5, 2, 4, 6, 8, 3, 1, 7]\n",
            "\n",
            " -  -  -  -  -  -  X  - \n",
            " -  X  -  -  -  -  -  - \n",
            " -  -  -  -  -  X  -  - \n",
            " -  -  X  -  -  -  -  - \n",
            " X  -  -  -  -  -  -  - \n",
            " -  -  -  X  -  -  -  - \n",
            " -  -  -  -  -  -  -  X \n",
            " -  -  -  -  X  -  -  - \n",
            "\n",
            "La solución es:\n",
            "[5, 2, 4, 7, 3, 8, 6, 1]\n",
            "\n",
            " -  -  -  -  -  -  -  X \n",
            " -  X  -  -  -  -  -  - \n",
            " -  -  -  -  X  -  -  - \n",
            " -  -  X  -  -  -  -  - \n",
            " X  -  -  -  -  -  -  - \n",
            " -  -  -  -  -  -  X  - \n",
            " -  -  -  X  -  -  -  - \n",
            " -  -  -  -  -  X  -  - \n",
            "\n",
            "La solución es:\n",
            "[5, 2, 6, 1, 7, 4, 8, 3]\n",
            "\n",
            " -  -  -  X  -  -  -  - \n",
            " -  X  -  -  -  -  -  - \n",
            " -  -  -  -  -  -  -  X \n",
            " -  -  -  -  -  X  -  - \n",
            " X  -  -  -  -  -  -  - \n",
            " -  -  X  -  -  -  -  - \n",
            " -  -  -  -  X  -  -  - \n",
            " -  -  -  -  -  -  X  - \n",
            "\n",
            "La solución es:\n",
            "[5, 2, 8, 1, 4, 7, 3, 6]\n",
            "\n",
            " -  -  -  X  -  -  -  - \n",
            " -  X  -  -  -  -  -  - \n",
            " -  -  -  -  -  -  X  - \n",
            " -  -  -  -  X  -  -  - \n",
            " X  -  -  -  -  -  -  - \n",
            " -  -  -  -  -  -  -  X \n",
            " -  -  -  -  -  X  -  - \n",
            " -  -  X  -  -  -  -  - \n",
            "\n",
            "La solución es:\n",
            "[5, 3, 1, 6, 8, 2, 4, 7]\n",
            "\n",
            " -  -  X  -  -  -  -  - \n",
            " -  -  -  -  -  X  -  - \n",
            " -  X  -  -  -  -  -  - \n",
            " -  -  -  -  -  -  X  - \n",
            " X  -  -  -  -  -  -  - \n",
            " -  -  -  X  -  -  -  - \n",
            " -  -  -  -  -  -  -  X \n",
            " -  -  -  -  X  -  -  - \n",
            "\n",
            "La solución es:\n",
            "[5, 3, 1, 7, 2, 8, 6, 4]\n",
            "\n",
            " -  -  X  -  -  -  -  - \n",
            " -  -  -  -  X  -  -  - \n",
            " -  X  -  -  -  -  -  - \n",
            " -  -  -  -  -  -  -  X \n",
            " X  -  -  -  -  -  -  - \n",
            " -  -  -  -  -  -  X  - \n",
            " -  -  -  X  -  -  -  - \n",
            " -  -  -  -  -  X  -  - \n",
            "\n",
            "La solución es:\n",
            "[5, 3, 8, 4, 7, 1, 6, 2]\n",
            "\n",
            " -  -  -  -  -  X  -  - \n",
            " -  -  -  -  -  -  -  X \n",
            " -  X  -  -  -  -  -  - \n",
            " -  -  -  X  -  -  -  - \n",
            " X  -  -  -  -  -  -  - \n",
            " -  -  -  -  -  -  X  - \n",
            " -  -  -  -  X  -  -  - \n",
            " -  -  X  -  -  -  -  - \n",
            "\n",
            "La solución es:\n",
            "[5, 7, 1, 3, 8, 6, 4, 2]\n",
            "\n",
            " -  -  X  -  -  -  -  - \n",
            " -  -  -  -  -  -  -  X \n",
            " -  -  -  X  -  -  -  - \n",
            " -  -  -  -  -  -  X  - \n",
            " X  -  -  -  -  -  -  - \n",
            " -  -  -  -  -  X  -  - \n",
            " -  X  -  -  -  -  -  - \n",
            " -  -  -  -  X  -  -  - \n",
            "\n",
            "La solución es:\n",
            "[5, 7, 1, 4, 2, 8, 6, 3]\n",
            "\n",
            " -  -  X  -  -  -  -  - \n",
            " -  -  -  -  X  -  -  - \n",
            " -  -  -  -  -  -  -  X \n",
            " -  -  -  X  -  -  -  - \n",
            " X  -  -  -  -  -  -  - \n",
            " -  -  -  -  -  -  X  - \n",
            " -  X  -  -  -  -  -  - \n",
            " -  -  -  -  -  X  -  - \n",
            "\n",
            "La solución es:\n",
            "[5, 7, 2, 4, 8, 1, 3, 6]\n",
            "\n",
            " -  -  -  -  -  X  -  - \n",
            " -  -  X  -  -  -  -  - \n",
            " -  -  -  -  -  -  X  - \n",
            " -  -  -  X  -  -  -  - \n",
            " X  -  -  -  -  -  -  - \n",
            " -  -  -  -  -  -  -  X \n",
            " -  X  -  -  -  -  -  - \n",
            " -  -  -  -  X  -  -  - \n",
            "\n",
            "La solución es:\n",
            "[5, 7, 2, 6, 3, 1, 4, 8]\n",
            "\n",
            " -  -  -  -  -  X  -  - \n",
            " -  -  X  -  -  -  -  - \n",
            " -  -  -  -  X  -  -  - \n",
            " -  -  -  -  -  -  X  - \n",
            " X  -  -  -  -  -  -  - \n",
            " -  -  -  X  -  -  -  - \n",
            " -  X  -  -  -  -  -  - \n",
            " -  -  -  -  -  -  -  X \n",
            "\n",
            "La solución es:\n",
            "[5, 7, 2, 6, 3, 1, 8, 4]\n",
            "\n",
            " -  -  -  -  -  X  -  - \n",
            " -  -  X  -  -  -  -  - \n",
            " -  -  -  -  X  -  -  - \n",
            " -  -  -  -  -  -  -  X \n",
            " X  -  -  -  -  -  -  - \n",
            " -  -  -  X  -  -  -  - \n",
            " -  X  -  -  -  -  -  - \n",
            " -  -  -  -  -  -  X  - \n",
            "\n",
            "La solución es:\n",
            "[5, 7, 4, 1, 3, 8, 6, 2]\n",
            "\n",
            " -  -  -  X  -  -  -  - \n",
            " -  -  -  -  -  -  -  X \n",
            " -  -  -  -  X  -  -  - \n",
            " -  -  X  -  -  -  -  - \n",
            " X  -  -  -  -  -  -  - \n",
            " -  -  -  -  -  -  X  - \n",
            " -  X  -  -  -  -  -  - \n",
            " -  -  -  -  -  X  -  - \n",
            "\n",
            "La solución es:\n",
            "[5, 8, 4, 1, 3, 6, 2, 7]\n",
            "\n",
            " -  -  -  X  -  -  -  - \n",
            " -  -  -  -  -  -  X  - \n",
            " -  -  -  -  X  -  -  - \n",
            " -  -  X  -  -  -  -  - \n",
            " X  -  -  -  -  -  -  - \n",
            " -  -  -  -  -  X  -  - \n",
            " -  -  -  -  -  -  -  X \n",
            " -  X  -  -  -  -  -  - \n",
            "\n",
            "La solución es:\n",
            "[5, 8, 4, 1, 7, 2, 6, 3]\n",
            "\n",
            " -  -  -  X  -  -  -  - \n",
            " -  -  -  -  -  X  -  - \n",
            " -  -  -  -  -  -  -  X \n",
            " -  -  X  -  -  -  -  - \n",
            " X  -  -  -  -  -  -  - \n",
            " -  -  -  -  -  -  X  - \n",
            " -  -  -  -  X  -  -  - \n",
            " -  X  -  -  -  -  -  - \n",
            "\n",
            "La solución es:\n",
            "[6, 1, 5, 2, 8, 3, 7, 4]\n",
            "\n",
            " -  X  -  -  -  -  -  - \n",
            " -  -  -  X  -  -  -  - \n",
            " -  -  -  -  -  X  -  - \n",
            " -  -  -  -  -  -  -  X \n",
            " -  -  X  -  -  -  -  - \n",
            " X  -  -  -  -  -  -  - \n",
            " -  -  -  -  -  -  X  - \n",
            " -  -  -  -  X  -  -  - \n",
            "\n",
            "La solución es:\n",
            "[6, 2, 7, 1, 3, 5, 8, 4]\n",
            "\n",
            " -  -  -  X  -  -  -  - \n",
            " -  X  -  -  -  -  -  - \n",
            " -  -  -  -  X  -  -  - \n",
            " -  -  -  -  -  -  -  X \n",
            " -  -  -  -  -  X  -  - \n",
            " X  -  -  -  -  -  -  - \n",
            " -  -  X  -  -  -  -  - \n",
            " -  -  -  -  -  -  X  - \n",
            "\n",
            "La solución es:\n",
            "[6, 2, 7, 1, 4, 8, 5, 3]\n",
            "\n",
            " -  -  -  X  -  -  -  - \n",
            " -  X  -  -  -  -  -  - \n",
            " -  -  -  -  -  -  -  X \n",
            " -  -  -  -  X  -  -  - \n",
            " -  -  -  -  -  -  X  - \n",
            " X  -  -  -  -  -  -  - \n",
            " -  -  X  -  -  -  -  - \n",
            " -  -  -  -  -  X  -  - \n",
            "\n",
            "La solución es:\n",
            "[6, 3, 1, 7, 5, 8, 2, 4]\n",
            "\n",
            " -  -  X  -  -  -  -  - \n",
            " -  -  -  -  -  -  X  - \n",
            " -  X  -  -  -  -  -  - \n",
            " -  -  -  -  -  -  -  X \n",
            " -  -  -  -  X  -  -  - \n",
            " X  -  -  -  -  -  -  - \n",
            " -  -  -  X  -  -  -  - \n",
            " -  -  -  -  -  X  -  - \n",
            "\n",
            "La solución es:\n",
            "[6, 3, 1, 8, 4, 2, 7, 5]\n",
            "\n",
            " -  -  X  -  -  -  -  - \n",
            " -  -  -  -  -  X  -  - \n",
            " -  X  -  -  -  -  -  - \n",
            " -  -  -  -  X  -  -  - \n",
            " -  -  -  -  -  -  -  X \n",
            " X  -  -  -  -  -  -  - \n",
            " -  -  -  -  -  -  X  - \n",
            " -  -  -  X  -  -  -  - \n",
            "\n",
            "La solución es:\n",
            "[6, 3, 1, 8, 5, 2, 4, 7]\n",
            "\n",
            " -  -  X  -  -  -  -  - \n",
            " -  -  -  -  -  X  -  - \n",
            " -  X  -  -  -  -  -  - \n",
            " -  -  -  -  -  -  X  - \n",
            " -  -  -  -  X  -  -  - \n",
            " X  -  -  -  -  -  -  - \n",
            " -  -  -  -  -  -  -  X \n",
            " -  -  -  X  -  -  -  - \n",
            "\n",
            "La solución es:\n",
            "[6, 3, 5, 7, 1, 4, 2, 8]\n",
            "\n",
            " -  -  -  -  X  -  -  - \n",
            " -  -  -  -  -  -  X  - \n",
            " -  X  -  -  -  -  -  - \n",
            " -  -  -  -  -  X  -  - \n",
            " -  -  X  -  -  -  -  - \n",
            " X  -  -  -  -  -  -  - \n",
            " -  -  -  X  -  -  -  - \n",
            " -  -  -  -  -  -  -  X \n",
            "\n",
            "La solución es:\n",
            "[6, 3, 5, 8, 1, 4, 2, 7]\n",
            "\n",
            " -  -  -  -  X  -  -  - \n",
            " -  -  -  -  -  -  X  - \n",
            " -  X  -  -  -  -  -  - \n",
            " -  -  -  -  -  X  -  - \n",
            " -  -  X  -  -  -  -  - \n",
            " X  -  -  -  -  -  -  - \n",
            " -  -  -  -  -  -  -  X \n",
            " -  -  -  X  -  -  -  - \n",
            "\n",
            "La solución es:\n",
            "[6, 3, 7, 2, 4, 8, 1, 5]\n",
            "\n",
            " -  -  -  -  -  -  X  - \n",
            " -  -  -  X  -  -  -  - \n",
            " -  X  -  -  -  -  -  - \n",
            " -  -  -  -  X  -  -  - \n",
            " -  -  -  -  -  -  -  X \n",
            " X  -  -  -  -  -  -  - \n",
            " -  -  X  -  -  -  -  - \n",
            " -  -  -  -  -  X  -  - \n",
            "\n",
            "La solución es:\n",
            "[6, 3, 7, 2, 8, 5, 1, 4]\n",
            "\n",
            " -  -  -  -  -  -  X  - \n",
            " -  -  -  X  -  -  -  - \n",
            " -  X  -  -  -  -  -  - \n",
            " -  -  -  -  -  -  -  X \n",
            " -  -  -  -  -  X  -  - \n",
            " X  -  -  -  -  -  -  - \n",
            " -  -  X  -  -  -  -  - \n",
            " -  -  -  -  X  -  -  - \n",
            "\n",
            "La solución es:\n",
            "[6, 3, 7, 4, 1, 8, 2, 5]\n",
            "\n",
            " -  -  -  -  X  -  -  - \n",
            " -  -  -  -  -  -  X  - \n",
            " -  X  -  -  -  -  -  - \n",
            " -  -  -  X  -  -  -  - \n",
            " -  -  -  -  -  -  -  X \n",
            " X  -  -  -  -  -  -  - \n",
            " -  -  X  -  -  -  -  - \n",
            " -  -  -  -  -  X  -  - \n",
            "\n",
            "La solución es:\n",
            "[6, 4, 1, 5, 8, 2, 7, 3]\n",
            "\n",
            " -  -  X  -  -  -  -  - \n",
            " -  -  -  -  -  X  -  - \n",
            " -  -  -  -  -  -  -  X \n",
            " -  X  -  -  -  -  -  - \n",
            " -  -  -  X  -  -  -  - \n",
            " X  -  -  -  -  -  -  - \n",
            " -  -  -  -  -  -  X  - \n",
            " -  -  -  -  X  -  -  - \n",
            "\n",
            "La solución es:\n",
            "[6, 4, 2, 8, 5, 7, 1, 3]\n",
            "\n",
            " -  -  -  -  -  -  X  - \n",
            " -  -  X  -  -  -  -  - \n",
            " -  -  -  -  -  -  -  X \n",
            " -  X  -  -  -  -  -  - \n",
            " -  -  -  -  X  -  -  - \n",
            " X  -  -  -  -  -  -  - \n",
            " -  -  -  -  -  X  -  - \n",
            " -  -  -  X  -  -  -  - \n",
            "\n",
            "La solución es:\n",
            "[6, 4, 7, 1, 3, 5, 2, 8]\n",
            "\n",
            " -  -  -  X  -  -  -  - \n",
            " -  -  -  -  -  -  X  - \n",
            " -  -  -  -  X  -  -  - \n",
            " -  X  -  -  -  -  -  - \n",
            " -  -  -  -  -  X  -  - \n",
            " X  -  -  -  -  -  -  - \n",
            " -  -  X  -  -  -  -  - \n",
            " -  -  -  -  -  -  -  X \n",
            "\n",
            "La solución es:\n",
            "[6, 4, 7, 1, 8, 2, 5, 3]\n",
            "\n",
            " -  -  -  X  -  -  -  - \n",
            " -  -  -  -  -  X  -  - \n",
            " -  -  -  -  -  -  -  X \n",
            " -  X  -  -  -  -  -  - \n",
            " -  -  -  -  -  -  X  - \n",
            " X  -  -  -  -  -  -  - \n",
            " -  -  X  -  -  -  -  - \n",
            " -  -  -  -  X  -  -  - \n",
            "\n",
            "La solución es:\n",
            "[6, 8, 2, 4, 1, 7, 5, 3]\n",
            "\n",
            " -  -  -  -  X  -  -  - \n",
            " -  -  X  -  -  -  -  - \n",
            " -  -  -  -  -  -  -  X \n",
            " -  -  -  X  -  -  -  - \n",
            " -  -  -  -  -  -  X  - \n",
            " X  -  -  -  -  -  -  - \n",
            " -  -  -  -  -  X  -  - \n",
            " -  X  -  -  -  -  -  - \n",
            "\n",
            "La solución es:\n",
            "[7, 1, 3, 8, 6, 4, 2, 5]\n",
            "\n",
            " -  X  -  -  -  -  -  - \n",
            " -  -  -  -  -  -  X  - \n",
            " -  -  X  -  -  -  -  - \n",
            " -  -  -  -  -  X  -  - \n",
            " -  -  -  -  -  -  -  X \n",
            " -  -  -  -  X  -  -  - \n",
            " X  -  -  -  -  -  -  - \n",
            " -  -  -  X  -  -  -  - \n",
            "\n",
            "La solución es:\n",
            "[7, 2, 4, 1, 8, 5, 3, 6]\n",
            "\n",
            " -  -  -  X  -  -  -  - \n",
            " -  X  -  -  -  -  -  - \n",
            " -  -  -  -  -  -  X  - \n",
            " -  -  X  -  -  -  -  - \n",
            " -  -  -  -  -  X  -  - \n",
            " -  -  -  -  -  -  -  X \n",
            " X  -  -  -  -  -  -  - \n",
            " -  -  -  -  X  -  -  - \n",
            "\n",
            "La solución es:\n",
            "[7, 2, 6, 3, 1, 4, 8, 5]\n",
            "\n",
            " -  -  -  -  X  -  -  - \n",
            " -  X  -  -  -  -  -  - \n",
            " -  -  -  X  -  -  -  - \n",
            " -  -  -  -  -  X  -  - \n",
            " -  -  -  -  -  -  -  X \n",
            " -  -  X  -  -  -  -  - \n",
            " X  -  -  -  -  -  -  - \n",
            " -  -  -  -  -  -  X  - \n",
            "\n",
            "La solución es:\n",
            "[7, 3, 1, 6, 8, 5, 2, 4]\n",
            "\n",
            " -  -  X  -  -  -  -  - \n",
            " -  -  -  -  -  -  X  - \n",
            " -  X  -  -  -  -  -  - \n",
            " -  -  -  -  -  -  -  X \n",
            " -  -  -  -  -  X  -  - \n",
            " -  -  -  X  -  -  -  - \n",
            " X  -  -  -  -  -  -  - \n",
            " -  -  -  -  X  -  -  - \n",
            "\n",
            "La solución es:\n",
            "[7, 3, 8, 2, 5, 1, 6, 4]\n",
            "\n",
            " -  -  -  -  -  X  -  - \n",
            " -  -  -  X  -  -  -  - \n",
            " -  X  -  -  -  -  -  - \n",
            " -  -  -  -  -  -  -  X \n",
            " -  -  -  -  X  -  -  - \n",
            " -  -  -  -  -  -  X  - \n",
            " X  -  -  -  -  -  -  - \n",
            " -  -  X  -  -  -  -  - \n",
            "\n",
            "La solución es:\n",
            "[7, 4, 2, 5, 8, 1, 3, 6]\n",
            "\n",
            " -  -  -  -  -  X  -  - \n",
            " -  -  X  -  -  -  -  - \n",
            " -  -  -  -  -  -  X  - \n",
            " -  X  -  -  -  -  -  - \n",
            " -  -  -  X  -  -  -  - \n",
            " -  -  -  -  -  -  -  X \n",
            " X  -  -  -  -  -  -  - \n",
            " -  -  -  -  X  -  -  - \n",
            "\n",
            "La solución es:\n",
            "[7, 4, 2, 8, 6, 1, 3, 5]\n",
            "\n",
            " -  -  -  -  -  X  -  - \n",
            " -  -  X  -  -  -  -  - \n",
            " -  -  -  -  -  -  X  - \n",
            " -  X  -  -  -  -  -  - \n",
            " -  -  -  -  -  -  -  X \n",
            " -  -  -  -  X  -  -  - \n",
            " X  -  -  -  -  -  -  - \n",
            " -  -  -  X  -  -  -  - \n",
            "\n",
            "La solución es:\n",
            "[7, 5, 3, 1, 6, 8, 2, 4]\n",
            "\n",
            " -  -  -  X  -  -  -  - \n",
            " -  -  -  -  -  -  X  - \n",
            " -  -  X  -  -  -  -  - \n",
            " -  -  -  -  -  -  -  X \n",
            " -  X  -  -  -  -  -  - \n",
            " -  -  -  -  X  -  -  - \n",
            " X  -  -  -  -  -  -  - \n",
            " -  -  -  -  -  X  -  - \n",
            "\n",
            "La solución es:\n",
            "[8, 2, 4, 1, 7, 5, 3, 6]\n",
            "\n",
            " -  -  -  X  -  -  -  - \n",
            " -  X  -  -  -  -  -  - \n",
            " -  -  -  -  -  -  X  - \n",
            " -  -  X  -  -  -  -  - \n",
            " -  -  -  -  -  X  -  - \n",
            " -  -  -  -  -  -  -  X \n",
            " -  -  -  -  X  -  -  - \n",
            " X  -  -  -  -  -  -  - \n",
            "\n",
            "La solución es:\n",
            "[8, 2, 5, 3, 1, 7, 4, 6]\n",
            "\n",
            " -  -  -  -  X  -  -  - \n",
            " -  X  -  -  -  -  -  - \n",
            " -  -  -  X  -  -  -  - \n",
            " -  -  -  -  -  -  X  - \n",
            " -  -  X  -  -  -  -  - \n",
            " -  -  -  -  -  -  -  X \n",
            " -  -  -  -  -  X  -  - \n",
            " X  -  -  -  -  -  -  - \n",
            "\n",
            "La solución es:\n",
            "[8, 3, 1, 6, 2, 5, 7, 4]\n",
            "\n",
            " -  -  X  -  -  -  -  - \n",
            " -  -  -  -  X  -  -  - \n",
            " -  X  -  -  -  -  -  - \n",
            " -  -  -  -  -  -  -  X \n",
            " -  -  -  -  -  X  -  - \n",
            " -  -  -  X  -  -  -  - \n",
            " -  -  -  -  -  -  X  - \n",
            " X  -  -  -  -  -  -  - \n",
            "\n",
            "La solución es:\n",
            "[8, 4, 1, 3, 6, 2, 7, 5]\n",
            "\n",
            " -  -  X  -  -  -  -  - \n",
            " -  -  -  -  -  X  -  - \n",
            " -  -  -  X  -  -  -  - \n",
            " -  X  -  -  -  -  -  - \n",
            " -  -  -  -  -  -  -  X \n",
            " -  -  -  -  X  -  -  - \n",
            " -  -  -  -  -  -  X  - \n",
            " X  -  -  -  -  -  -  - "
          ],
          "name": "stdout"
        }
      ]
    },
    {
      "metadata": {
        "id": "tsmG3FvAx-5L",
        "colab_type": "text"
      },
      "cell_type": "markdown",
      "source": [
        "El problema de las ocho reinas tiene 92 soluciones. Sólo 12 de ellas son esencialmente distintas, es decir, podemos obtener el resto de solucione a partir de estas 12 mediante traslaciones, simetrías y rotaciones. Esto mismo se traslada a diferentes numeros de reinas:\n",
        "\n",
        "<table>\n",
        "    \n",
        "<thead>\n",
        "<tr>\n",
        "\t<th> </th>\n",
        "\t<th>Tabla de caracteríasticas de dataset Carbonanotube</th>\n",
        "</tr>\n",
        "</thead>\n",
        "<tbody>\n",
        "    \n",
        "<tr>\n",
        "\t<th>N</th>\n",
        "\t<td>1</td>\n",
        "  <td>2</td>\n",
        "  <td>3</td>\n",
        "  <td>4</td>\n",
        "  <td>5</td>\n",
        "  <td>6</td>\n",
        "  <td>7</td>\n",
        "  <td>8</td>\n",
        "  <td>9</td>\n",
        "  <td>10</td>\n",
        "</tr>\n",
        "\n",
        "<tr>\n",
        "\t<th> Soluciones únicas</th>\n",
        "\t<td>1</td>\n",
        "  <td>0</td>\n",
        "  <td>0</td>\n",
        "  <td>1</td>\n",
        "  <td>2</td>\n",
        "  <td>1</td>\n",
        "  <td>6</td>\n",
        "  <td>12</td>\n",
        "  <td>46</td>\n",
        "  <td>92</td>\n",
        "</tr>\n",
        "\n",
        "<tr>\n",
        "\t<th>Total soluciones</th>\n",
        "\t<td>1</td>\n",
        "  <td>0</td>\n",
        "  <td>0</td>\n",
        "  <td>2</td>\n",
        "  <td>10</td>\n",
        "  <td>4</td>\n",
        "  <td>40</td>\n",
        "  <td>92</td>\n",
        "  <td>352</td>\n",
        "  <td>724</td>\n",
        "</tr>\n",
        "\n",
        "\n",
        "\n",
        "</tbody>\n",
        "</table>\n",
        "\n"
      ]
    },
    {
      "metadata": {
        "id": "8jTPQPrim1km",
        "colab_type": "text"
      },
      "cell_type": "markdown",
      "source": [
        "## 3.2. Código mejorado"
      ]
    },
    {
      "metadata": {
        "id": "ld4U5MSPmtE3",
        "colab_type": "text"
      },
      "cell_type": "markdown",
      "source": [
        "# 4. Encontrar los dos puntos más cercanos\n",
        "\n",
        "Dado un conjunto de puntos se trata de encontrar los dos puntos más cercanos\n",
        "\n",
        "• Guía para aprendizaje:\n",
        " Suponer en 1D, o sea, una lista de números: [3403, 4537, 9089, 9746, 7259, ....\n",
        " Primer intento: Fuerza bruta\n",
        " Calcular la complejidad. ¿Se puede mejorar?\n",
        " Segundo intento. Aplicar Divide y Vencerás\n",
        " Calcular la complejidad. ¿Se puede mejorar?\n",
        " Extender el algoritmo a 2D: [(1122, 6175), (135, 4076), (7296, 2741)...\n",
        " Extender el algoritmo a 3D."
      ]
    },
    {
      "metadata": {
        "id": "6u9VYnqx6TNt",
        "colab_type": "text"
      },
      "cell_type": "markdown",
      "source": [
        "## 4.1. Fuerza bruta\n",
        "\n",
        "Esta actividad consiste en obtener los dos puntos más cercanos mediante un algoritmo de fuerza bruta, y calcular la complejedad. El algoritmo diseñado puede trabajar con cualquier espacio de coordenadas ( 1D, 2D, 3D, ...)"
      ]
    },
    {
      "metadata": {
        "id": "QqBNeRFK7JVU",
        "colab_type": "code",
        "colab": {}
      },
      "cell_type": "code",
      "source": [
        "import math\n",
        "def distancia_euclidia(a,b):\n",
        "  # cuando a y b son enteros, no podemos utilizar la funcion porque el for no\n",
        "  # puede iterar sobre un entero.\n",
        "  \n",
        "  # Por esta razon solo podemos usar la funcion para > 2D\n",
        "  \n",
        "  solucion = 0\n",
        "\n",
        "  for i in range(len(a)):\n",
        "    solucion = solucion + (a[i]-b[i])**2\n",
        "  \n",
        "  dist = math.sqrt(solucion)\n",
        "  return dist\n",
        "  \n",
        "def cercanos_FuerzaBruta(lista):\n",
        "  \n",
        "  distancia_min = 10000000\n",
        "  \n",
        "  for i in range(len(lista)):\n",
        "    for j in range(i+1, len(lista)):\n",
        "      \n",
        "      if isinstance(lista[i],int):# listas 1D\n",
        "        dist = abs(lista[i] - lista[j])\n",
        "      else:# listas >= 2D\n",
        "        dist = distancia_euclidia(lista[i],lista[j])\n",
        "        \n",
        "      \n",
        "      # Comparamos la minima distancia almacenada con la calculada\n",
        "      if (dist < distancia_min):\n",
        "        distancia_min = dist # nueva minima distancia\n",
        "        p1 = i # punto 1\n",
        "        p2 = j # punto 2\n",
        "        \n",
        "  return p1,p2, distancia_min\n",
        "\n",
        "def resultados_cercanos_FuerzaBruta(lista):\n",
        "  p1,p2, distancia_min = cercanos_FuerzaBruta(lista)\n",
        "  print('p1(',p1 ,') = ',lista[p1],'   p2 (',p2,') = ',lista[p2], '   distancia_min = ',distancia_min )\n",
        "  return"
      ],
      "execution_count": 0,
      "outputs": []
    },
    {
      "metadata": {
        "id": "ik5HOR17TbdG",
        "colab_type": "code",
        "colab": {}
      },
      "cell_type": "code",
      "source": [
        ""
      ],
      "execution_count": 0,
      "outputs": []
    },
    {
      "metadata": {
        "id": "yubbQqzTx8MX",
        "colab_type": "text"
      },
      "cell_type": "markdown",
      "source": [
        "### 4.1.1. Pruebas"
      ]
    },
    {
      "metadata": {
        "id": "txW5v7IdBg-b",
        "colab_type": "code",
        "colab": {}
      },
      "cell_type": "code",
      "source": [
        "import random # Necesario para crear listas aleatorias para espacios de k dimensiones "
      ],
      "execution_count": 0,
      "outputs": []
    },
    {
      "metadata": {
        "id": "T5N-qjL_yY6l",
        "colab_type": "code",
        "colab": {}
      },
      "cell_type": "code",
      "source": [
        "N = 999 # numero de puntos en el espacio "
      ],
      "execution_count": 0,
      "outputs": []
    },
    {
      "metadata": {
        "id": "RqemA2F4Br0m",
        "colab_type": "code",
        "outputId": "47d81533-6ac2-439c-c14b-9cc19884c9f1",
        "colab": {
          "base_uri": "https://localhost:8080/",
          "height": 35
        }
      },
      "cell_type": "code",
      "source": [
        "# Espacio de una dimensión\n",
        "lista_1D = [random.randint(1,1000) for _ in range(N)]# Lista aleatoria 1D\n",
        "# print(lista_1D)\n",
        "\n",
        "resultados_cercanos_FuerzaBruta(lista_1D)#  Llama al algoritmo y muestra los resultados por pantalla"
      ],
      "execution_count": 59,
      "outputs": [
        {
          "output_type": "stream",
          "text": [
            "p1( 23 ) =  9439    p2 ( 593 ) =  9439    distancia_min =  0\n"
          ],
          "name": "stdout"
        }
      ]
    },
    {
      "metadata": {
        "id": "tlbb-opBCPL9",
        "colab_type": "code",
        "outputId": "f0a8f8ec-2a6f-43a8-f656-c38b82284a05",
        "colab": {
          "base_uri": "https://localhost:8080/",
          "height": 35
        }
      },
      "cell_type": "code",
      "source": [
        "# Espacio de 2 dimensiones\n",
        "lista_2D = [[random.randint(1,1000),random.randint(1,1000)] for _ in range(N)]# Lista aleatoria 2D\n",
        "#print(lista_2D)\n",
        "\n",
        "resultados_cercanos_FuerzaBruta(lista_2D)#  Llama al algoritmo y muestra los resultados por pantalla"
      ],
      "execution_count": 47,
      "outputs": [
        {
          "output_type": "stream",
          "text": [
            "p1( 861 ) =  [693, 938]    p2 ( 936 ) =  [692, 938]    distancia_min =  1.0\n"
          ],
          "name": "stdout"
        }
      ]
    },
    {
      "metadata": {
        "id": "iG9zLOCMTvpi",
        "colab_type": "code",
        "outputId": "4d05fd60-0ad3-436d-e439-88913b406c58",
        "colab": {
          "base_uri": "https://localhost:8080/",
          "height": 35
        }
      },
      "cell_type": "code",
      "source": [
        "# Espacio de 3 dimensiones\n",
        "lista_3D = [[random.randint(1,1000),random.randint(1,1000),random.randint(1,1000)] for _ in range(N)]# Lista aleatoria 3D\n",
        "# print(lista_3D)\n",
        "\n",
        "resultados_cercanos_FuerzaBruta(lista_3D)#  Llama al algoritmo y muestra los resultados por pantalla"
      ],
      "execution_count": 46,
      "outputs": [
        {
          "output_type": "stream",
          "text": [
            "p1( 202 ) =  [40, 261, 976]    p2 ( 616 ) =  [39, 264, 974]    distancia_min =  3.7416573867739413\n"
          ],
          "name": "stdout"
        }
      ]
    },
    {
      "metadata": {
        "id": "pFKbV5-jzkjI",
        "colab_type": "text"
      },
      "cell_type": "markdown",
      "source": [
        "### 4.1.2. "
      ]
    },
    {
      "metadata": {
        "id": "TLuu-6ysz1FQ",
        "colab_type": "text"
      },
      "cell_type": "markdown",
      "source": [
        ""
      ]
    },
    {
      "metadata": {
        "id": "lPh-XDm17LTG",
        "colab_type": "text"
      },
      "cell_type": "markdown",
      "source": [
        "## 4.2. Divide y vencerás\n",
        "\n",
        "Obtener los dos puntos más cercanos mediante la técnica de divide y vencerás, y calcular la complejedad para una lista. Además estenderlo para otras dimensiones."
      ]
    },
    {
      "metadata": {
        "id": "C_aS0X3M-G81",
        "colab_type": "code",
        "colab": {}
      },
      "cell_type": "code",
      "source": [
        "def cercanos_DV(lista):\n",
        "  \n",
        "  if len(lista)==1: # No se puede calcular la distancia--> infinito\n",
        "    dist_min = 10000000\n",
        "    p1 = 0\n",
        "    p2 = 0\n",
        "    return p1,p2,dist_min\n",
        "  \n",
        "  elif len(lista)==2: # Distancia entre dos puntos \n",
        "    # 1D es una lista, 2D o mayores es una lista de listas. Para poder acceder a \n",
        "    # cada valor se usa un for que recorrela lista de listas. Por eso 1D no \n",
        "    # puede usar distancia_euclidia()\n",
        "    \n",
        "    p1 = lista[0]\n",
        "    p2 = lista[1]\n",
        "    \n",
        "    if isinstance(lista[0],int):# listas 1D\n",
        "      dist_min = abs(lista[0] - lista[1])\n",
        "      return p1,p2,dist_min\n",
        "    \n",
        "    else:# listas >= 2D\n",
        "      dist_min = distancia_euclidia(lista[0],lista[1])\n",
        "      return p1,p2,dist_min\n",
        "    \n",
        "  else: # Listas con mas de 2 valores\n",
        "    \n",
        "    # Ordenar la lista. De esta forma nos aseguramos de obtener las minimas \n",
        "    # distancias. \n",
        "    \n",
        "    lista = quick_sort(lista)# ordenar lista\n",
        "  \n",
        "    # Dividimos la lista en dos por la mitad\n",
        "    izq = lista[0:(len(lista)//2)] # mitad izquierda de la lista\n",
        "    der = lista[(len(lista)//2):] # mitad derecha de la lista\n",
        "    \n",
        "    # Recursividad\n",
        "    p1_I,p2_I,dist_min_I = cercanos_DV(izq)\n",
        "    p1_D,p2_D,dist_min_D = cercanos_DV(der)\n",
        "    \n",
        "    if dist_min_I < dist_min_D:\n",
        "      return p1_I,p2_I,dist_min_I\n",
        "    else:\n",
        "      return p1_D,p2_D,dist_min_D\n",
        "    \n",
        "def resultados_cercanos_DV(lista):\n",
        "  p1,p2,dist_min = cercanos_DV(lista)\n",
        "  print('p1(',lista.index(p1) ,') = ',p1,'   p2 (',lista.index(p2),') = ',p2, '   distancia_min = ',dist_min )\n",
        "  return\n",
        "  "
      ],
      "execution_count": 0,
      "outputs": []
    },
    {
      "metadata": {
        "id": "fX9ofZemOgu6",
        "colab_type": "text"
      },
      "cell_type": "markdown",
      "source": [
        "Comprobamos el correcto funionamiento del codigo comparando los resultados con el algoritmo de fuerza bruta:"
      ]
    },
    {
      "metadata": {
        "id": "pEoMvPZR_cd2",
        "colab_type": "code",
        "colab": {}
      },
      "cell_type": "code",
      "source": [
        "lista = [0,1021,100,30,60,91,224,1030]"
      ],
      "execution_count": 0,
      "outputs": []
    },
    {
      "metadata": {
        "id": "RUJEOYEfHT9r",
        "colab_type": "code",
        "colab": {
          "base_uri": "https://localhost:8080/",
          "height": 35
        },
        "outputId": "45c00db1-f79c-49f2-aca5-a68c0ce919af"
      },
      "cell_type": "code",
      "source": [
        "resultados_cercanos_FuerzaBruta(lista)"
      ],
      "execution_count": 79,
      "outputs": [
        {
          "output_type": "stream",
          "text": [
            "p1( 1 ) =  1021    p2 ( 7 ) =  1030    distancia_min =  9\n"
          ],
          "name": "stdout"
        }
      ]
    },
    {
      "metadata": {
        "id": "EZO-LFqgIEkv",
        "colab_type": "code",
        "colab": {
          "base_uri": "https://localhost:8080/",
          "height": 35
        },
        "outputId": "400dd3f2-5934-44d9-ef6f-c24ba823d798"
      },
      "cell_type": "code",
      "source": [
        "resultados_cercanos_DV(lista)"
      ],
      "execution_count": 94,
      "outputs": [
        {
          "output_type": "stream",
          "text": [
            "p1( 1 ) =  1021    p2 ( 7 ) =  1030    distancia_min =  9\n"
          ],
          "name": "stdout"
        }
      ]
    },
    {
      "metadata": {
        "id": "xJDIdhdXRVqs",
        "colab_type": "text"
      },
      "cell_type": "markdown",
      "source": [
        "![texto alternativo](https://)"
      ]
    }
  ]
}