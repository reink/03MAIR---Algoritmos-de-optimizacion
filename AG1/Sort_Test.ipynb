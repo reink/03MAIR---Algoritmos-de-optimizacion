{
  "nbformat": 4,
  "nbformat_minor": 0,
  "metadata": {
    "colab": {
      "name": "Sort_Test.ipynb",
      "version": "0.3.2",
      "provenance": [],
      "include_colab_link": true
    },
    "kernelspec": {
      "name": "python3",
      "display_name": "Python 3"
    }
  },
  "cells": [
    {
      "cell_type": "markdown",
      "metadata": {
        "id": "view-in-github",
        "colab_type": "text"
      },
      "source": [
        "<a href=\"https://colab.research.google.com/github/reink/03MAIR---Algoritmos-de-optimizacion/blob/master/AG1/Sort_Test.ipynb\" target=\"_parent\"><img src=\"https://colab.research.google.com/assets/colab-badge.svg\" alt=\"Open In Colab\"/></a>"
      ]
    },
    {
      "metadata": {
        "id": "LbqD-E3fjhrS",
        "colab_type": "code",
        "colab": {
          "base_uri": "https://localhost:8080/",
          "height": 181
        },
        "outputId": "82367f8a-a5d6-44eb-ee2f-eb5efd0bbbcd"
      },
      "cell_type": "code",
      "source": [
        "!pip install sorting"
      ],
      "execution_count": 2,
      "outputs": [
        {
          "output_type": "stream",
          "text": [
            "Collecting sorting\n",
            "  Downloading https://files.pythonhosted.org/packages/5f/c8/2d2318aa6697f8771371bdfb27c12bff5437f5b2f323a11563f2a8bf4fdf/sorting-1.0.2.tar.gz\n",
            "Building wheels for collected packages: sorting\n",
            "  Building wheel for sorting (setup.py) ... \u001b[?25ldone\n",
            "\u001b[?25h  Stored in directory: /root/.cache/pip/wheels/1d/69/7d/afb45b857f9cd6d7927312839c0928f20284f476cb4265474e\n",
            "Successfully built sorting\n",
            "Installing collected packages: sorting\n",
            "Successfully installed sorting-1.0.2\n"
          ],
          "name": "stdout"
        }
      ]
    },
    {
      "metadata": {
        "id": "2zZVhXvIlMu2",
        "colab_type": "text"
      },
      "cell_type": "markdown",
      "source": [
        "Este es mi primer código en github"
      ]
    },
    {
      "metadata": {
        "id": "Hc6-df8Ekxdf",
        "colab_type": "code",
        "colab": {}
      },
      "cell_type": "code",
      "source": [
        "import sorting"
      ],
      "execution_count": 0,
      "outputs": []
    },
    {
      "metadata": {
        "id": "ai5_JwIzkUAv",
        "colab_type": "code",
        "colab": {}
      },
      "cell_type": "code",
      "source": [
        "lista = [1,2,5,7,8,4,6,10]\n",
        "lista_ordenada = sorting.bubble(lista)"
      ],
      "execution_count": 0,
      "outputs": []
    },
    {
      "metadata": {
        "id": "FuxNn4E3kpKS",
        "colab_type": "code",
        "colab": {
          "base_uri": "https://localhost:8080/",
          "height": 35
        },
        "outputId": "48cc8c6b-8574-4298-c617-5a705af582d6"
      },
      "cell_type": "code",
      "source": [
        "print(lista_ordenada)"
      ],
      "execution_count": 4,
      "outputs": [
        {
          "output_type": "stream",
          "text": [
            "[1, 2, 4, 5, 6, 7, 8, 10]\n"
          ],
          "name": "stdout"
        }
      ]
    }
  ]
}