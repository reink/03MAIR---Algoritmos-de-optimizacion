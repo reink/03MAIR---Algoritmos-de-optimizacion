{
  "nbformat": 4,
  "nbformat_minor": 0,
  "metadata": {
    "colab": {
      "name": "AG2-Daniel_Gonzalez.ipynb",
      "version": "0.3.2",
      "provenance": [],
      "collapsed_sections": [
        "XceZUfZnCyvX",
        "DVF1Qq7XZruB"
      ],
      "include_colab_link": true
    },
    "kernelspec": {
      "name": "python3",
      "display_name": "Python 3"
    }
  },
  "cells": [
    {
      "cell_type": "markdown",
      "metadata": {
        "id": "view-in-github",
        "colab_type": "text"
      },
      "source": [
        "<a href=\"https://colab.research.google.com/github/reink/03MAIR---Algoritmos-de-optimizacion/blob/master/AG2/AG2_Daniel_Gonzalez.ipynb\" target=\"_parent\"><img src=\"https://colab.research.google.com/assets/colab-badge.svg\" alt=\"Open In Colab\"/></a>"
      ]
    },
    {
      "metadata": {
        "id": "Xmb216wh1oeZ",
        "colab_type": "text"
      },
      "cell_type": "markdown",
      "source": [
        "AG - Actividad Guiada 2\n",
        "\n",
        "Daniel González\n",
        "\n",
        "https://github.com/reink/03MAIR---Algoritmos-de-optimizacion/tree/master/AG2)"
      ]
    },
    {
      "metadata": {
        "id": "JDX67e-eHqsK",
        "colab_type": "text"
      },
      "cell_type": "markdown",
      "source": [
        "---"
      ]
    },
    {
      "metadata": {
        "id": "nkipfYP3wBs9",
        "colab_type": "text"
      },
      "cell_type": "markdown",
      "source": [
        "**Nota:**  Me parece interisante tener el código original (realizado por el profesor en clase) y el modificado para mejorarlo, para ver distintas formas de abordar un mismo problema. Creo que esta bien para estudiar. Por esta razón, en algunos ejercicios  habrá un primer apartado con el código original (comentado) y otro con las mejoras introducidas."
      ]
    },
    {
      "metadata": {
        "id": "akX17L_pCunm",
        "colab_type": "text"
      },
      "cell_type": "markdown",
      "source": [
        "# 1. Dos puntos más cercanos\n",
        "\n",
        "El problema del par de puntos más cercano es  consiste en obtener  la distancia más pequeña entre dos  puntos del conjunto de puntos del espacio. \n"
      ]
    },
    {
      "metadata": {
        "id": "UL128_3hjH98",
        "colab_type": "text"
      },
      "cell_type": "markdown",
      "source": [
        "## 1.1. Fuerza bruta\n",
        " El algoritmo diseñado puede trabajar con cualquier espacio de coordenadas ( 1D, 2D, 3D, ...)"
      ]
    },
    {
      "metadata": {
        "id": "nGbHfoT1mEuq",
        "colab_type": "text"
      },
      "cell_type": "markdown",
      "source": [
        "\n",
        "Mejoras:\n",
        "\n",
        "-  \"math.sqrt(sum([(A[i]-B[i]) ** 2 for i in range(len(A))]))\" usa un bucle más otro bucle interno que tiene \"sum()\", es mejor usar solo un for y usando memoria\n",
        "-  Devuelve la distancia mínima (puede ser de interes). Antes no se devolvía, por lo que en cada iteración usaba el valor almacenado en memoria, lo cual no es una buena práctica.\n",
        "-  Función de visualización de los resultados"
      ]
    },
    {
      "metadata": {
        "id": "QqBNeRFK7JVU",
        "colab_type": "code",
        "colab": {}
      },
      "cell_type": "code",
      "source": [
        "import math\n",
        "def distancia_euclidia(a,b):\n",
        "  # cuando a y b son enteros o flotantes, tenemos 1D. Como para dimensiones \n",
        "  # mayores necesitamos un bucle para calcuar la distancia euclidea. No podemos\n",
        "  # usar la misma función, porque no podemos iterar sobre un numero\n",
        "  \n",
        "  # Por esta razon solo podemos usar la funcion para > 2D\n",
        "  \n",
        "  if type(a) is int or type(a) is float:# 1D\n",
        "      return abs(a-b)\n",
        "  \n",
        "  else: # Distancia euclidea 2D,...,ND\n",
        "    # return math.sqrt(sum([(A[i]-B[i])**2 for i in range(len(A))]))            # 2n (minimo)\n",
        "  \n",
        "      solucion = 0 # acumula suma                                               # 1\n",
        "\n",
        "      for i in range(len(a)):                                                   # n = N (n dimensiones)\n",
        "        solucion = solucion + (a[i]-b[i])**2                                    # 4\n",
        "  \n",
        "      dist = math.sqrt(solucion)                                                # 3 \n",
        "      return dist                                                               # Total = N + 8 = K\n",
        "  \n",
        "def cercanos_FuerzaBruta(lista):\n",
        "  \n",
        "  distancia_min = 10000000\n",
        "  \n",
        "  for i in range(len(lista)):                                                   # n\n",
        "    for j in range(i+1, len(lista)):                                            # n*m\n",
        "      dist = distancia_euclidia(lista[i],lista[j])                              # (n*m)*(K)\n",
        "      \n",
        "      # Comparamos la minima distancia almacenada con la calculada              # n*m\n",
        "      if (dist < distancia_min):\n",
        "        distancia_min = dist # nueva minima distancia\n",
        "        p1 = lista[i] # punto 1\n",
        "        p2 = lista[j] # punto 2\n",
        "        \n",
        "  return p1,p2, distancia_min\n",
        "\n",
        "def resultados_cercanos_FuerzaBruta(lista): # Representar datos\n",
        "  p1,p2, distancia_min = cercanos_FuerzaBruta(lista)\n",
        "  print('p1 = ',p1,'   p2 = ',p2, '   distancia_min = ',distancia_min )\n",
        "  return"
      ],
      "execution_count": 0,
      "outputs": []
    },
    {
      "metadata": {
        "id": "1KX980K-qiWA",
        "colab_type": "text"
      },
      "cell_type": "markdown",
      "source": [
        "### 1.1.1. Pruebas"
      ]
    },
    {
      "metadata": {
        "id": "txW5v7IdBg-b",
        "colab_type": "code",
        "colab": {}
      },
      "cell_type": "code",
      "source": [
        "import random # Necesario para crear listas aleatorias para espacios de k dimensiones "
      ],
      "execution_count": 0,
      "outputs": []
    },
    {
      "metadata": {
        "id": "T5N-qjL_yY6l",
        "colab_type": "code",
        "colab": {}
      },
      "cell_type": "code",
      "source": [
        "N = 999 # numero de puntos en el espacio "
      ],
      "execution_count": 0,
      "outputs": []
    },
    {
      "metadata": {
        "id": "RqemA2F4Br0m",
        "colab_type": "code",
        "colab": {
          "base_uri": "https://localhost:8080/",
          "height": 35
        },
        "outputId": "ff7d1d59-93b6-4147-9e41-2b823cdb6e9f"
      },
      "cell_type": "code",
      "source": [
        "# Espacio de una dimensión\n",
        "lista_1D = [random.randrange(1,1000) for _ in range(N)]# Lista aleatoria 1D\n",
        "# print(lista_1D)\n",
        "\n",
        "resultados_cercanos_FuerzaBruta(lista_1D)#  Llama al algoritmo y muestra los resultados por pantalla"
      ],
      "execution_count": 4,
      "outputs": [
        {
          "output_type": "stream",
          "text": [
            "p1 =  391    p2 =  391    distancia_min =  0\n"
          ],
          "name": "stdout"
        }
      ]
    },
    {
      "metadata": {
        "id": "tlbb-opBCPL9",
        "colab_type": "code",
        "colab": {
          "base_uri": "https://localhost:8080/",
          "height": 35
        },
        "outputId": "d73a20b6-226f-4842-a7ce-d32d96a10276"
      },
      "cell_type": "code",
      "source": [
        "# Espacio de 2 dimensiones\n",
        "lista_2D = [[random.randrange(1,1000),random.randrange(1,1000)] for _ in range(N)]# Lista aleatoria 2D\n",
        "#print(lista_2D)\n",
        "\n",
        "resultados_cercanos_FuerzaBruta(lista_2D)#  Llama al algoritmo y muestra los resultados por pantalla"
      ],
      "execution_count": 5,
      "outputs": [
        {
          "output_type": "stream",
          "text": [
            "p1 =  [643, 211]    p2 =  [643, 211]    distancia_min =  0.0\n"
          ],
          "name": "stdout"
        }
      ]
    },
    {
      "metadata": {
        "id": "iG9zLOCMTvpi",
        "colab_type": "code",
        "colab": {
          "base_uri": "https://localhost:8080/",
          "height": 35
        },
        "outputId": "b64e820c-b9d5-4347-cfd3-f7ab064d615a"
      },
      "cell_type": "code",
      "source": [
        "# Espacio de 3 dimensiones\n",
        "lista_3D = [[random.randrange(1,1000),random.randrange(1,1000),random.randrange(1,1000)] for _ in range(N)]# Lista aleatoria 3D\n",
        "# print(lista_3D)\n",
        "\n",
        "resultados_cercanos_FuerzaBruta(lista_3D)#  Llama al algoritmo y muestra los resultados por pantalla"
      ],
      "execution_count": 6,
      "outputs": [
        {
          "output_type": "stream",
          "text": [
            "p1 =  [491, 920, 162]    p2 =  [494, 922, 156]    distancia_min =  7.0\n"
          ],
          "name": "stdout"
        }
      ]
    },
    {
      "metadata": {
        "id": "KcvVFKnqsGyI",
        "colab_type": "text"
      },
      "cell_type": "markdown",
      "source": [
        "### 1.1.2. Complejidad\n",
        "\n",
        "El algoritmo de fuerza bruta nos da un orden de O(n²) para todos los casos:\n",
        "   \n",
        "\n",
        "*   n  (primer bucle)\n",
        "*   n * m  (segundo bucle)\n",
        "*   (n * m) * K  (calculo de la distancia)\n",
        "*   n * m  (condicional, comparar distancia mínima con la calculada)\n",
        "*   C (Cosntantes. Resto de asignaciones)\n",
        "\n",
        "TOTAL : (K+2)(n * m) + n + C = O(n²)"
      ]
    },
    {
      "metadata": {
        "id": "KxDrGOQjIjeH",
        "colab_type": "text"
      },
      "cell_type": "markdown",
      "source": [
        "## 1.2. Divide y vencerás \n",
        "\n",
        "Esta técnica consiste en resolver el problema a partir de las soluciones que proporcionan los subproblemas del mismo pero de menor tamaño. Al dividir el problema en subproblemas, llegamos a una solución sencilla. \n",
        "\n",
        "Para reconocer un problema que se puede resolver mediante esta técnica debemos de identificar:\n",
        "\n",
        "1.   Es podible descomponer el problema en subproblemas del mismo tipo\n",
        "2.   Los problemas se pueden resolver de forma directa (son sencillos) o mediante recursividad\n",
        "3.   Es posible combinar las solucione de los subproblemas para obtener la soluciñon del problema original.\n"
      ]
    },
    {
      "metadata": {
        "id": "w42exgTjMb7s",
        "colab_type": "text"
      },
      "cell_type": "markdown",
      "source": [
        "### 1.2.1. Puntos de 1D\n",
        "\n",
        "Para buscar la distancia mínima entre dos puntos dividimos la lista por la mitad, y obtenemos dos sublistas. Para cada sublista obtenemos la distancia mínima y luego las comparamos para quedarnos con la menor. "
      ]
    },
    {
      "metadata": {
        "id": "r_clU5LEhsfh",
        "colab_type": "text"
      },
      "cell_type": "markdown",
      "source": [
        "![texto alternativo](https://www.cs.mcgill.ca/~cs251/ClosestPair/figure2.1.gif)\n",
        "\n",
        "[Fuente](https://www.cs.mcgill.ca/~cs251/ClosestPair/ClosestPair1D.html)"
      ]
    },
    {
      "metadata": {
        "id": "8Gc7im9Ribom",
        "colab_type": "text"
      },
      "cell_type": "markdown",
      "source": [
        "Pero hay una cosa que debemos de tener en cuenta, y es que no estamos teniendo en cuenta que la distancia mínima puede estar entre los puntos situados cerca de donde hemos realizado la división. Es decir, los ultimos valores de la sublista izquierda, y los primeros de la derecha. Veamos un ejemplo teórico:\n",
        "\n",
        "- I1 y I2: puntos mínima distancia sublista izquierda\n",
        "- D1 y D2: puntos mínima distancia sublista derecha\n",
        "- \"-\": 1 unidad de distancia\n",
        "- \"|\": división de la lista en sublistas\n",
        "\n",
        "--------------------i1--------i2--|--d1----------d2---------------------\n",
        "\n",
        "- Distancia entre i1 e i2 = 8 unidades\n",
        "- Distancia entre d1 e d2 = 10 unidades\n",
        "- Distancia entre i2 y d1 = 4 unidades\n",
        "\n",
        "Podemos ver que la distancia mímina se produce entre dos puntos de listas distintas. Por lo tanto debemos de buscar un modo de calcular la distancia entre puntos de las dos listas."
      ]
    },
    {
      "metadata": {
        "id": "wlF_orG9i_7F",
        "colab_type": "text"
      },
      "cell_type": "markdown",
      "source": [
        "**Ejemplo prácrico:**\n",
        "\n",
        "Definimos una función que se queda con el menor valor encontrado en una de las sublistas:"
      ]
    },
    {
      "metadata": {
        "id": "57tJr4dpjegC",
        "colab_type": "code",
        "colab": {}
      },
      "cell_type": "code",
      "source": [
        "def cercanos_ejemplo_1D(lista):\n",
        "  # si hay una lista muy pequeña --> Fuerza bruta\n",
        "  if len(lista)<10:# valor pequeño al azar\n",
        "    return cercanos_FuerzaBruta(lista)\n",
        "    \n",
        "  # oredenar list\n",
        "  print('Lista recibida: ',lista)\n",
        "  lista_ord = sorted(lista)\n",
        "  \n",
        "  # dividir las dos listas por la mitad\n",
        "  izq = lista_ord [:len(lista_ord)//2]\n",
        "  der = lista_ord[(len(lista_ord)//2):]\n",
        "  \n",
        "  print('izq: ',izq)\n",
        "  print('der:',der)\n",
        "  print('\\n')\n",
        "  \n",
        "  # Recursiva\n",
        "  p1_d,p2_d, dist_min_d = cercanos_ejemplo_1D(der)                              # T(n) =2·T(n/2)\n",
        "  p1_i,p2_i, dist_min_i = cercanos_ejemplo_1D(izq)\n",
        "  \n",
        "  # Devolvemos el menor de la las sublistas\n",
        "    \n",
        "  if dist_min_i < dist_min_d:\n",
        "    return p1_i,p2_i, dist_min_i\n",
        "  else:\n",
        "    return p1_d,p2_d, dist_min_d\n",
        "  "
      ],
      "execution_count": 0,
      "outputs": []
    },
    {
      "metadata": {
        "id": "6HuxDUIOkMor",
        "colab_type": "text"
      },
      "cell_type": "markdown",
      "source": [
        "Definimos una lista pequeña para ver lo que esta sucediendo:"
      ]
    },
    {
      "metadata": {
        "id": "jLTYUdUpkNRE",
        "colab_type": "code",
        "colab": {}
      },
      "cell_type": "code",
      "source": [
        "lista = [0,10,20,1021,100,30,60,40,95,224,1030,1040,1050,2000] "
      ],
      "execution_count": 0,
      "outputs": []
    },
    {
      "metadata": {
        "id": "15xlfBpOkeNq",
        "colab_type": "text"
      },
      "cell_type": "markdown",
      "source": [
        "Como podemos ver la distancia mínima es 5, y se produce entre los puntos 95 y 100:"
      ]
    },
    {
      "metadata": {
        "id": "hgZMpT2HkXMp",
        "colab_type": "code",
        "colab": {
          "base_uri": "https://localhost:8080/",
          "height": 35
        },
        "outputId": "548991ed-90e0-479e-ff5a-7cb39f8e47c5"
      },
      "cell_type": "code",
      "source": [
        "resultados_cercanos_FuerzaBruta(lista)# Metodo Fuerza bruta"
      ],
      "execution_count": 9,
      "outputs": [
        {
          "output_type": "stream",
          "text": [
            "p1 =  100    p2 =  95    distancia_min =  5\n"
          ],
          "name": "stdout"
        }
      ]
    },
    {
      "metadata": {
        "id": "RSKGtIM3k4hW",
        "colab_type": "text"
      },
      "cell_type": "markdown",
      "source": [
        "Veamos que ocurre al utilizar la función diseñada por el método divide y vencerás:"
      ]
    },
    {
      "metadata": {
        "id": "nAoEUj9MlIHP",
        "colab_type": "code",
        "colab": {
          "base_uri": "https://localhost:8080/",
          "height": 125
        },
        "outputId": "c793089d-060a-4a58-c144-4465cc3ae90a"
      },
      "cell_type": "code",
      "source": [
        "p1,p2, distancia_min = cercanos_ejemplo_1D(lista)\n",
        "print('p1 = ',p1,'   p2 = ',p2, '   distancia_min = ',distancia_min )"
      ],
      "execution_count": 12,
      "outputs": [
        {
          "output_type": "stream",
          "text": [
            "Lista recibida:  [0, 10, 20, 1021, 100, 30, 60, 40, 95, 224, 1030, 1040, 1050, 2000]\n",
            "izq:  [0, 10, 20, 30, 40, 60, 95]\n",
            "der: [100, 224, 1021, 1030, 1040, 1050, 2000]\n",
            "\n",
            "\n",
            "p1 =  1021    p2 =  1030    distancia_min =  9\n"
          ],
          "name": "stdout"
        }
      ]
    },
    {
      "metadata": {
        "id": "VIoqZ-kpmXZR",
        "colab_type": "text"
      },
      "cell_type": "markdown",
      "source": [
        "Podemos ver como en primera división de la lista, el punto 95 esta en la sublista de la izquierda y 100 esta en la sublista de la derecha. Por esta razon no es capaz de obtener la mínima distancia, pues no compara valores cercanos a la intersección.\n",
        "\n",
        "\n",
        "Para solucionar este problema, en 1D es muy sencillo. Si tenemos en cuenta que la lista esta ordenada antes de devidirse, la distancia mínima  si se produce se se producirá en  la intersección de ambas, pues las posibilidades para una misma sublista ya estan comprobadas. Si cogemos el último elemento de la sublista izquierda y el primero de la derecha obtendremos la distancia de la intersección para 1D (esto es así para 1D, para D>1 no es así aunque este ordenada la lista)"
      ]
    },
    {
      "metadata": {
        "id": "NeV5-n_FeWCL",
        "colab_type": "code",
        "colab": {}
      },
      "cell_type": "code",
      "source": [
        "def cercanos_DV_1D(lista):\n",
        "  # LISTAS PEQUEÑAS --> Fuerza bruta\n",
        "  if len(lista)<10:# valor pequeño al azar\n",
        "    return cercanos_FuerzaBruta(lista)\n",
        "    \n",
        "  # ORDENAR LISTA\n",
        "  lista_ord = sorted(lista)\n",
        "  \n",
        "  # DIVIDIR LA LISTA EN 2 POR LA MITAD\n",
        "  izq = lista_ord [:len(lista_ord)//2]\n",
        "  der = lista_ord[(len(lista_ord)//2):]\n",
        "  \n",
        "  # LLAMADAS RECURSIVAS --> Obtenemos la ditancia mínima para cada sublista\n",
        "  p1_d,p2_d, dist_min_d = cercanos_DV_1D(der)                                   # T(n) =2·T(n/2)\n",
        "  p1_i,p2_i, dist_min_i = cercanos_DV_1D(izq)\n",
        "  \n",
        "  # INTERSECCION\n",
        "  \n",
        "  # Puede que en la interseccion de las sublistas se produzca la distancia \n",
        "  # minima.\n",
        "  \n",
        "  # Calculamos la distancia para el ultimo punto de la sublista 'izq', y el \n",
        "  # primero de 'der'. (Las sublistas estan ordenadas de menor a mayor y solo\n",
        "  # es 1D)\n",
        "  \n",
        "  p1_inter = izq[len(izq)-1]\n",
        "  p2_inter = der[0]\n",
        "  \n",
        "  d_interseccion = distancia_euclidia(p1_inter,p2_inter)\n",
        "  \n",
        "  # DEVOLVER DISTANCIA MINIMA\n",
        "  if dist_min_i < dist_min_d: # min dist en sublista de la izquierda\n",
        "    return p1_i,p2_i, dist_min_i\n",
        "  \n",
        "  elif dist_min_d < d_interseccion: # min dist en sublista de la izquierda\n",
        "    return p1_d,p2_d, dist_min_d\n",
        "  \n",
        "  else: # min dist en interseccion\n",
        "    return p1_inter,p2_inter, d_interseccion\n",
        "  \n",
        "\n",
        "  \n",
        "def resultados_cercanos_DV_1D(lista): # Representar datos\n",
        "  p1,p2, distancia_min = cercanos_DV_1D(lista)\n",
        "  print('p1 = ',p1,'   p2 = ',p2, '   distancia_min = ',distancia_min )\n",
        "  return\n"
      ],
      "execution_count": 0,
      "outputs": []
    },
    {
      "metadata": {
        "id": "R-Toc6DMtE50",
        "colab_type": "text"
      },
      "cell_type": "markdown",
      "source": [
        "Podemos comprobar que el resultado que obtenemos ahora es el correcto (ejemplo anterior 'lista'):"
      ]
    },
    {
      "metadata": {
        "id": "X3Whtb78rkr4",
        "colab_type": "code",
        "colab": {
          "base_uri": "https://localhost:8080/",
          "height": 35
        },
        "outputId": "44ec6989-5973-4a53-9c77-2d87f8a8a7c3"
      },
      "cell_type": "code",
      "source": [
        "resultados_cercanos_DV_1D(lista)"
      ],
      "execution_count": 14,
      "outputs": [
        {
          "output_type": "stream",
          "text": [
            "p1 =  95    p2 =  100    distancia_min =  5\n"
          ],
          "name": "stdout"
        }
      ]
    },
    {
      "metadata": {
        "colab_type": "code",
        "id": "yEmnx8wOvGLd",
        "colab": {}
      },
      "cell_type": "code",
      "source": [
        "import random # Necesario para crear listas aleatorias para espacios de k dimensiones "
      ],
      "execution_count": 0,
      "outputs": []
    },
    {
      "metadata": {
        "colab_type": "code",
        "id": "GbtDXTTOvGLm",
        "colab": {}
      },
      "cell_type": "code",
      "source": [
        "N = 999 # numero de puntos en el espacio "
      ],
      "execution_count": 0,
      "outputs": []
    },
    {
      "metadata": {
        "colab_type": "code",
        "id": "FhNUfgCIvGLp",
        "colab": {
          "base_uri": "https://localhost:8080/",
          "height": 35
        },
        "outputId": "f426ef96-c3f6-4a7f-bbe4-081aa3c2f35c"
      },
      "cell_type": "code",
      "source": [
        "# Espacio de una dimensión\n",
        "lista_1D = [random.randrange(1,1000) for _ in range(N)]# Lista aleatoria 1D\n",
        "# print(lista_1D)\n",
        "\n",
        "resultados_cercanos_FuerzaBruta(lista_1D)#  Llama al algoritmo y muestra los resultados por pantalla"
      ],
      "execution_count": 17,
      "outputs": [
        {
          "output_type": "stream",
          "text": [
            "p1 =  890    p2 =  890    distancia_min =  0\n"
          ],
          "name": "stdout"
        }
      ]
    },
    {
      "metadata": {
        "id": "wvttef7FvddT",
        "colab_type": "text"
      },
      "cell_type": "markdown",
      "source": [
        "La distancia minima es 0 casi siempre porque random repite valores, podemos eliminar laos valores repetidos para comrpobar que funciona correctamente:"
      ]
    },
    {
      "metadata": {
        "id": "xGdTHSZfvva8",
        "colab_type": "code",
        "colab": {
          "base_uri": "https://localhost:8080/",
          "height": 35
        },
        "outputId": "f8fc00d7-a8df-4408-b1ef-3ea0fd4d8e45"
      },
      "cell_type": "code",
      "source": [
        "A = set(lista_1D)\n",
        "resultados_cercanos_FuerzaBruta(list(A))"
      ],
      "execution_count": 18,
      "outputs": [
        {
          "output_type": "stream",
          "text": [
            "p1 =  3    p2 =  4    distancia_min =  1\n"
          ],
          "name": "stdout"
        }
      ]
    },
    {
      "metadata": {
        "id": "jaxccVgWuqMI",
        "colab_type": "text"
      },
      "cell_type": "markdown",
      "source": [
        "Por lo tanto las mejoras realizadas son:\n",
        "-  Función de representación de los resultados\n",
        "-  Forma en la que tratamos los puntos de la intersección"
      ]
    },
    {
      "metadata": {
        "id": "2W4iYQs3yHmJ",
        "colab_type": "text"
      },
      "cell_type": "markdown",
      "source": [
        "### 1.2.1.1. Complejidad\n",
        "\n",
        "Es complicada de calcular pues  se mezcla el algoritmo de divide y vencerás con el de fuerza bruta. Lo  que si se ve facil mente es que la ecuación de recurrencia es del tipo T(n) =2·T(n/2)"
      ]
    },
    {
      "metadata": {
        "id": "tqKq3Y7NiqCh",
        "colab_type": "text"
      },
      "cell_type": "markdown",
      "source": [
        "### 1.2.2. Puntos de 2D"
      ]
    },
    {
      "metadata": {
        "id": "TXZDjggZ0W5F",
        "colab_type": "text"
      },
      "cell_type": "markdown",
      "source": [
        "Para el caso de 2D seguimos teniendo el problema de calcular las distancias entre puntos de las dos sublistas creadas. En este caso la ordenación de las listas se ha realizado teniendo en cuenta únicamente la primera coordenada, por lo que no nos vale realizar el mismo procedimiento que para 1D, pues aquí tenemos 2 coordenadas. \n",
        "\n",
        "Conocidas las minimas distancias para las sublistas de la izquierda (δ1=di) y derecha (δ2=dd), obtenemos la distancia minima como dmin = δ = min (δ1, δ2). Si existe una idstancia entre la combinación de puntos de ambas sublistas,  los puntos deberan de estas a una distancia igual o inferior a la distancia mínima (dmin = δ) de la línea vertical imaginaria (L) que separa las dos sublistas.\n",
        "\n",
        "\n",
        "\n",
        "\n"
      ]
    },
    {
      "metadata": {
        "id": "FGxmdR54gyBW",
        "colab_type": "text"
      },
      "cell_type": "markdown",
      "source": [
        "![texto alternativo](http://www.algoritmia.net/articles/divide/div3.gif)\n",
        "\n",
        "[Fuente](https://sites.google.com/site/ingmect29/home/hoja-de-calculo-electonica-y-algoritmos)"
      ]
    },
    {
      "metadata": {
        "id": "uZPmqoVTn1d8",
        "colab_type": "text"
      },
      "cell_type": "markdown",
      "source": [
        "Por lo tanto, en el caso de existir dospuntos de distancia inferior a δ, debe de estar comprendidos en la banda vertical de anchura 2δ ( o lo que es lo mismo 2·dmin). Llamemos Bi y Bd a los puntos de dicha banda respectivamente a la izquierda y a la derecha de L.\n",
        "\n",
        " en la banda vertical de anchura 2δ y centrada en l\n",
        "\n",
        "Por lo tanto si existen dos puntos de subconjuntos distintos con distancia menor a la mínima de los subconjuntos, deberá de estan dentro de"
      ]
    },
    {
      "metadata": {
        "id": "j-c8KYNTlU6D",
        "colab_type": "text"
      },
      "cell_type": "markdown",
      "source": [
        "Definimos δ = min (δ1, δ2), donde δ1 es la distancia mínima obtenida para la sublista de la izquierda, y δ2 lo es para la derecha. En cada par candidato (p, q), donde p ∈ S1 y q ∈ S2, los puntos p, q deben estar ambos dentro de la interseccion +-δ."
      ]
    },
    {
      "metadata": {
        "id": "KEWtNsMBi7yV",
        "colab_type": "text"
      },
      "cell_type": "markdown",
      "source": [
        "![texto alternativo](http://staff.ustc.edu.cn/~csli/graduate/algorithms/book6/910_a.gif)\n",
        "\n",
        "[Fuente](http://staff.ustc.edu.cn/~csli/graduate/algorithms/book6/chap35.htm)"
      ]
    },
    {
      "metadata": {
        "id": "s3JT9fW7Byag",
        "colab_type": "text"
      },
      "cell_type": "markdown",
      "source": [
        "Tras pelearme bastante con el código, no he conseguido sacar un codigo eficiente a pesar de la explicación anterior que es la que da la solución. A pesar de ello no es sencilla. Debido a que el curso es de un més y tenemos muchas cosas por aprender he decidido dejarlo y seguir en un futuro. Por esta razón pongo el **código realizado en clase:**"
      ]
    },
    {
      "metadata": {
        "id": "ph2h8o5Bm3Ln",
        "colab_type": "code",
        "colab": {}
      },
      "cell_type": "code",
      "source": [
        "def cercanos_DV_2D(lista):\n",
        "  # LISTAS PEQUEÑAS --> Fuerza bruta\n",
        "  if len(lista)<10:# valor pequeño al azar\n",
        "    return cercanos_FuerzaBruta(lista)\n",
        "    \n",
        "  # ORDENAR LISTA\n",
        "  lista_ord = sorted(lista)\n",
        "  \n",
        "  # DIVIDIR LA LISTA EN 2 POR LA MITAD\n",
        "  izq = lista_ord [:len(lista_ord)//2]\n",
        "  der = lista_ord[(len(lista_ord)//2):]\n",
        "  \n",
        "  # LLAMADAS RECURSIVAS --> Obtenemos la ditancia mínima para cada sublista\n",
        "  p1_d,p2_d, dist_min_d = cercanos_DV_2D(der)                                   # T(n) =2·T(n/2)\n",
        "  p1_i,p2_i, dist_min_i = cercanos_DV_2D(izq)\n",
        "  \n",
        "  # calculamos Ferza bruta entre los puntos para los que emos obtenido \n",
        "  # la minima distancia en ambos casos\n",
        "  return cercanos_FuerzaBruta([p1_d,p2_d,p1_i,p2_i]) \n",
        "  \n",
        "  \n",
        "def resultados_cercanos_DV_2D(lista): # Representar datos\n",
        "  p1,p2, distancia_min = cercanos_DV_2D(lista)\n",
        "  print('p1 = ',p1,'   p2 = ',p2, '   distancia_min = ',distancia_min )\n",
        "  return\n"
      ],
      "execution_count": 0,
      "outputs": []
    },
    {
      "metadata": {
        "id": "ngBXzczh2dAA",
        "colab_type": "code",
        "colab": {}
      },
      "cell_type": "code",
      "source": [
        "import random # Necesario para crear listas aleatorias para espacios de k dimensiones "
      ],
      "execution_count": 0,
      "outputs": []
    },
    {
      "metadata": {
        "id": "p15PWouxzo1W",
        "colab_type": "code",
        "colab": {}
      },
      "cell_type": "code",
      "source": [
        "N = 999 # numero de puntos en el espacio "
      ],
      "execution_count": 0,
      "outputs": []
    },
    {
      "metadata": {
        "id": "LZmvZLAgEnUd",
        "colab_type": "code",
        "colab": {
          "base_uri": "https://localhost:8080/",
          "height": 35
        },
        "outputId": "1e070a26-fdfb-4b8a-a269-500276e9481f"
      },
      "cell_type": "code",
      "source": [
        "# Espacio de 2 dimensiones\n",
        "lista_2D = [[random.randrange(1,1000),random.randrange(1,1000)] for _ in range(N)]# Lista aleatoria 2D\n",
        "#print(lista_2D)\n",
        "\n",
        "resultados_cercanos_DV_2D(lista_2D)"
      ],
      "execution_count": 24,
      "outputs": [
        {
          "output_type": "stream",
          "text": [
            "p1 =  [312, 615]    p2 =  [313, 615]    distancia_min =  1.0\n"
          ],
          "name": "stdout"
        }
      ]
    },
    {
      "metadata": {
        "id": "uSCHdMymQEIM",
        "colab_type": "code",
        "colab": {
          "base_uri": "https://localhost:8080/",
          "height": 35
        },
        "outputId": "61c4f614-5697-42a4-8bea-a11583b1fcf0"
      },
      "cell_type": "code",
      "source": [
        "# Espacio de 3 dimensiones\n",
        "lista_3D = [[random.randrange(1,1000),random.randrange(1,1000),random.randrange(1,1000)] for _ in range(N)]# Lista aleatoria 3D\n",
        "# print(lista_3D)\n",
        "\n",
        "resultados_cercanos_DV_2D(lista_3D)#  Llama al algoritmo y muestra los resultados por pantalla"
      ],
      "execution_count": 25,
      "outputs": [
        {
          "output_type": "stream",
          "text": [
            "p1 =  [675, 784, 531]    p2 =  [677, 787, 526]    distancia_min =  6.164414002968976\n"
          ],
          "name": "stdout"
        }
      ]
    },
    {
      "metadata": {
        "id": "XceZUfZnCyvX",
        "colab_type": "text"
      },
      "cell_type": "markdown",
      "source": [
        "# 2. Viaje por el río\n",
        "\n",
        "En ocasiones la recursividad puede convertir un proceso en exponencial, en términos de complejidad. Un ejemplo es la resolución de  de la sucesión de Fibomacci a través de la técnica *Divide y venceras*. Para cada el cálculo de  de cada término depende de los dos anteriores, y nos vemos obligados a repetir cálculos para todos los términos.\n",
        "\n",
        "Mediante la **programación dinámica**, evitamos estas situaciones a costa de coste de almacenamiento. Al almacenar cálculos anteriores en una tabla, evitamos repeticiones de cálculos ya realizados.\n",
        "\n",
        "**Condiciones generales** para tratar un problema por programación dinámica:\n",
        "\n",
        "-  Se puede alcanzar una solución a través de una secuencia de decisiones\n",
        "\n",
        "-  Se cumple el principio de optimalidad\n",
        "\n",
        "Una subestructura óptima significa que se pueden usar soluciones óptimas de subproblemas para encontrar la solución óptima del problema en su conjunto\n",
        "\n",
        "El **diseño** de un algoritmo de Programación Dinámica consta de los siguientes pasos:\n",
        "\n",
        "1.  Planteamiento de la solución como una sucesión de decisiones y verificación de que ésta cumple el principio de óptimo.\n",
        "2.  Definición recursiva de la solución.\n",
        "3.  Cálculo del valor de la solución óptima mediante una tabla en donde se almacenan soluciones a problemas parciales para reutilizar los cálculos.\n",
        "4.  Construcción de la solución óptima haciendo uso de la información contenida\n",
        "en la tabla anterior. \n",
        "\n",
        "Un ejemplo de esta técnica es el rpoblema del **Viaje por el río**:. \n",
        "\n",
        "En un río hay n embarcaderos y debemos desplazarnos río abajo (no hay posibilidad de remontar) desde un embarcadero a otro. Cada embarcadero tiene precios diferentes para ir de un embarcadero a otro situado más abajo. Para ir del embarcadero i al j, puede ocurrir que sea más barato hacer un trasbordo por un embarcadero intermedio k. El problema consiste en determinar la **combinación más barata**.\n"
      ]
    },
    {
      "metadata": {
        "id": "DVF1Qq7XZruB",
        "colab_type": "text"
      },
      "cell_type": "markdown",
      "source": [
        "## 2.1. Código relizado en clase"
      ]
    },
    {
      "metadata": {
        "id": "gl3DNLNqCzHi",
        "colab_type": "code",
        "colab": {}
      },
      "cell_type": "code",
      "source": [
        "def precios(tarifas):\n",
        "  N = len(tarifas)# Numero de puntos = numero de embarcaderos\n",
        "  # Cada embarcadero tiene precios diferentes para desplazarse de un embarcadero \n",
        "  # a otro situado más abajo.\n",
        "  \n",
        "  # Si no es posible desplazarse desde un embarcadero a otro, entonces \n",
        "  # configoramos un valor alto (9999) en la tabla de precios. A medida que \n",
        "  # encontremos valores más bajos los sustituimos\n",
        "  \n",
        "  # Costes de ir de un punto a otro:\n",
        "  tabla_precios = [[9999]*N for i in [9999]*N ]# Matriz de N*N\n",
        "  # [9999]*N --> Devuelve una lista de N numeros iguales a 9999\n",
        "  # En el for no tiene sentido multiplicar [9999]*N, basta con hacer:\n",
        "  # [[9999]*N for i in range(N) ]\n",
        "  \n",
        "  # Nodos de incio y fin\n",
        "  tabla_rutas = [[\"\"]*N for i in [9999]*N ]\n",
        "  \n",
        "  #inicializar\n",
        "  for i in range(N-1): # hasta el penultimo\n",
        "    # 'i' recorre el punto en el que nos encontramos. \n",
        "    # Como no podemos volver hacia atras, el ultimo punto nu tiene sentido \n",
        "    # tratarlo, pues solo puede ir hacia el mismo\n",
        "    for j in range(i+1,N):# desde el segundo hasta el ultimo\n",
        "      # Como no podemos ir hacia atras, el coste que debemos de mirar es desde\n",
        "      # el punto altual 'i+1' hasta el ultimo punto 'N-1'\n",
        "      \n",
        "      # minimo para ir al resto\n",
        "      minimo = tarifas[i][j]\n",
        "      \n",
        "      # la ruta para ir de i hasta j es i\n",
        "      tabla_rutas[i][j] = i\n",
        "      \n",
        "      # Recorrer toda la tabla de precios para aplicar la funcion  \"C\" de la pag 36\n",
        "      \n",
        "      # Recorrelos puntos intermedios entre 'i' y 'j' para calcular el minimo \n",
        "      # entre la tarifa de ir de 'i' a 'j' directo o de pasar por pasos intermedios\n",
        "      for k in range(i,j):\n",
        "        \n",
        "        # comparamos el minimo almacenado con el minimo con el que tiene pasos \n",
        "        # intermedios\n",
        "        if tabla_precios[i][k] + tarifas[k][j] < minimo:\n",
        "          \n",
        "          minimo = min(minimo,tabla_precios[i][k] + tarifas[k][j] )# nuevo precio minimo\n",
        "          tabla_rutas[i][j] = k # la ruta de 'i' a 'j' debe de pasar por k (min)\n",
        "          \n",
        "      tabla_precios[i][j] = minimo # coste minimo  para ir de 'i' a 'j'\n",
        "      \n",
        "  return tabla_precios,tabla_rutas\n",
        "\n",
        "def calcular_ruta_clase(RUTA, desde, hasta):\n",
        "  if desde == hasta:\n",
        "    #print(\"Ir a :\" + str(desde))\n",
        "    return desde \n",
        "  else:\n",
        "    \n",
        "    return str(calcular_ruta_clase(RUTA, desde, RUTA[desde][hasta])) +  ',' + str(RUTA[desde][hasta]) \n"
      ],
      "execution_count": 0,
      "outputs": []
    },
    {
      "metadata": {
        "id": "zOfoqlkDJFf9",
        "colab_type": "text"
      },
      "cell_type": "markdown",
      "source": [
        "En primer lugar creamos las tarifas de ir desde un perto a otro. Para facilitar la comprensión he realizado la siguiente tabla donde \"-\" significa que no podemos ir al puerto:"
      ]
    },
    {
      "metadata": {
        "id": "SWmVMfmQ3vp1",
        "colab_type": "text"
      },
      "cell_type": "markdown",
      "source": [
        "<table>\n",
        "    \n",
        "<thead>\n",
        "<tr>\n",
        "\t<th>Tarifas </th>\n",
        "</tr>\n",
        "</thead>\n",
        "<tbody>\n",
        "    \n",
        "<tr> \n",
        "\t<th> - </th>\n",
        "  <th> Ir a 0</th>\n",
        "  <th> Ir a 1</th>\n",
        "  <th> Ir a 2</th>\n",
        "  <th> Ir a 3</th>\n",
        "  <th> Ir a 4</th>\n",
        "  <th> Ir a 5</th>\n",
        "  <th> Ir a 6</th>\n",
        "  \n",
        "</tr>\n",
        "\n",
        "<tr>\n",
        "\t<th> De 0</th> \n",
        "\t<td>0</td>\n",
        "  <td>5</td>\n",
        "  <td>4</td>\n",
        "  <td>3</td>\n",
        "  <td>-</td>\n",
        "  <td>-</td>\n",
        "  <td>-</td>\n",
        "</tr>\n",
        "\n",
        "<tr>\n",
        "\t<th> De 1</th> \n",
        "\t<td>-</td>\n",
        "  <td>0</td>\n",
        "  <td>-</td>\n",
        "  <td>2</td>\n",
        "  <td>3</td>\n",
        "  <td>-</td>\n",
        "  <td>11</td>\n",
        "</tr>\n",
        "  \n",
        "<tr>\n",
        "\t<th> De 2</th>  \n",
        "\t<td>-</td>\n",
        "  <td>-</td>\n",
        "  <td>0</td>\n",
        "  <td>1</td>\n",
        "  <td>-</td>\n",
        "  <td>4</td>\n",
        "  <td>10</td>\n",
        "</tr>\n",
        "  \n",
        "<tr>\n",
        "\t<th> De 3</th> \n",
        "\t<td>-</td>\n",
        "  <td>-</td>\n",
        "  <td>-</td>\n",
        "  <td>0</td>\n",
        "  <td>5</td>\n",
        "  <td>6</td>\n",
        "  <td>9</td>\n",
        "</tr>\n",
        "  \n",
        "<tr>\n",
        "\t<th> De 4</th>  \n",
        "  <td>-</td>\n",
        "  <td>-</td>\n",
        "  <td>-</td>\n",
        "  <td>-</td>\n",
        "  <td>0</td>\n",
        "  <td>-</td>\n",
        "  <td>4</td>\n",
        "</tr>\n",
        "\n",
        "<tr>\n",
        "\t<th> De 5</th> \n",
        "\t<td>-</td>\n",
        "  <td>-</td>\n",
        "  <td>-</td>\n",
        "  <td>-</td>\n",
        "  <td>-</td>\n",
        "  <td>0</td>\n",
        "  <td>3</td>\n",
        "</tr>\n",
        "  \n",
        "<tr>\n",
        "\t<th> De 6</th> \n",
        "  <td>-</td>\n",
        "  <td>-</td>\n",
        "  <td>-</td>\n",
        "  <td>-</td>\n",
        "  <td>-</td>\n",
        "  <td>-</td>\n",
        "  <td>0</td>\n",
        "</tr>\n",
        "\n",
        "</tbody>\n",
        "</table>\n"
      ]
    },
    {
      "metadata": {
        "id": "_qx-E0_7WSOx",
        "colab_type": "code",
        "colab": {}
      },
      "cell_type": "code",
      "source": [
        "TARIFAS = [\n",
        "[0,5,4,3,999,999,999],\n",
        "[999,0,999,2,3,999,11],\n",
        "[999,999, 0,1,999,4,10],\n",
        "[999,999,999, 0,5,6,9],\n",
        "[999,999, 999,999,0,999,4],\n",
        "[999,999, 999,999,999,0,3],\n",
        "[999,999,999,999,999,999,0]\n",
        "]"
      ],
      "execution_count": 0,
      "outputs": []
    },
    {
      "metadata": {
        "id": "WC5PZtyQJeNR",
        "colab_type": "text"
      },
      "cell_type": "markdown",
      "source": [
        "Obtenemos los precios y las rutas:"
      ]
    },
    {
      "metadata": {
        "id": "1d1qfSvLWUvV",
        "colab_type": "code",
        "colab": {}
      },
      "cell_type": "code",
      "source": [
        "PRECIOS, RUTAS = precios(TARIFAS)"
      ],
      "execution_count": 0,
      "outputs": []
    },
    {
      "metadata": {
        "id": "iygm6WBDKg_K",
        "colab_type": "text"
      },
      "cell_type": "markdown",
      "source": [
        "**PRECIOS** \n",
        "\n",
        "La fila es el puerto del que partimos y la columna el puerto donde queremos ir. Ejemplos\n",
        "\n",
        " -   Si quiero ir desde \"0\" a \"6\", tendré un precio mínimo de 11\n",
        " -   Si quiero ir desde \"2\" a \"0\",  no pordre ir porque tengo que retroceder. Por eso el coste es de 9999\n",
        " -   Si quiero ir desde \"3\" a \"5\", tendré un precio mínimo de 6"
      ]
    },
    {
      "metadata": {
        "id": "z7kFHORrW3u9",
        "colab_type": "code",
        "colab": {
          "base_uri": "https://localhost:8080/",
          "height": 143
        },
        "outputId": "cafcdd17-5542-4427-f39a-1d371cdd394d"
      },
      "cell_type": "code",
      "source": [
        "PRECIOS"
      ],
      "execution_count": 31,
      "outputs": [
        {
          "output_type": "execute_result",
          "data": {
            "text/plain": [
              "[[9999, 5, 4, 3, 8, 8, 11],\n",
              " [9999, 9999, 999, 2, 3, 8, 7],\n",
              " [9999, 9999, 9999, 1, 6, 4, 7],\n",
              " [9999, 9999, 9999, 9999, 5, 6, 9],\n",
              " [9999, 9999, 9999, 9999, 9999, 999, 4],\n",
              " [9999, 9999, 9999, 9999, 9999, 9999, 3],\n",
              " [9999, 9999, 9999, 9999, 9999, 9999, 9999]]"
            ]
          },
          "metadata": {
            "tags": []
          },
          "execution_count": 31
        }
      ]
    },
    {
      "metadata": {
        "id": "THMk1KgeNZuV",
        "colab_type": "text"
      },
      "cell_type": "markdown",
      "source": [
        "**RUTAS**\n",
        "\n",
        "La fila es el puerto del que partimos y la columna el puerto donde queremos ir. Obciones valores:\n",
        "\n",
        "-   ' ' : No podemos ir\n",
        "-  número: Ultimo puerto para ir al destino, con el mínimo coste\n",
        "\n",
        "Ejemplos: \n",
        "\n",
        "-   **Estamos en \" 0\" y queremos ir a \"1\":** El último puerto es el \"0\", es decir, en el que estamos pues es un camini directo. Podemos comprobarlo en el grafo de las transparencias que es así. Ocurre lo mismo para ir a \"2\" y \"3\".\n",
        "\n",
        "-    **Estamos en \"2\" y queremos ir a \"4\":**  Como tenemos que pasar por 3 y es el último eso nos devuelve"
      ]
    },
    {
      "metadata": {
        "id": "zmspL9MsZV3R",
        "colab_type": "code",
        "colab": {
          "base_uri": "https://localhost:8080/",
          "height": 143
        },
        "outputId": "c22f3771-b507-444d-8ed2-8f295053f4fd"
      },
      "cell_type": "code",
      "source": [
        "RUTAS"
      ],
      "execution_count": 32,
      "outputs": [
        {
          "output_type": "execute_result",
          "data": {
            "text/plain": [
              "[['', 0, 0, 0, 1, 2, 5],\n",
              " ['', '', 1, 1, 1, 3, 4],\n",
              " ['', '', '', 2, 3, 2, 5],\n",
              " ['', '', '', '', 3, 3, 3],\n",
              " ['', '', '', '', '', 4, 4],\n",
              " ['', '', '', '', '', '', 5],\n",
              " ['', '', '', '', '', '', '']]"
            ]
          },
          "metadata": {
            "tags": []
          },
          "execution_count": 32
        }
      ]
    },
    {
      "metadata": {
        "id": "Pz59frfkfdCr",
        "colab_type": "text"
      },
      "cell_type": "markdown",
      "source": [
        "### 2.1.1. Pruebas"
      ]
    },
    {
      "metadata": {
        "id": "3OTiCIspfkQk",
        "colab_type": "text"
      },
      "cell_type": "markdown",
      "source": [
        "Veamos un ejemplo donde pretendemos ir del puerto  0 al 6:"
      ]
    },
    {
      "metadata": {
        "id": "LQcRVSw5fhSD",
        "colab_type": "code",
        "colab": {
          "base_uri": "https://localhost:8080/",
          "height": 71
        },
        "outputId": "2c699008-cbba-45cf-a754-5a627b904b81"
      },
      "cell_type": "code",
      "source": [
        "print(\"\\nLa ruta es:\")  \n",
        "calcular_ruta_clase(RUTAS, 0,6)"
      ],
      "execution_count": 33,
      "outputs": [
        {
          "output_type": "stream",
          "text": [
            "\n",
            "La ruta es:\n"
          ],
          "name": "stdout"
        },
        {
          "output_type": "execute_result",
          "data": {
            "text/plain": [
              "'0,0,2,5'"
            ]
          },
          "metadata": {
            "tags": []
          },
          "execution_count": 33
        }
      ]
    },
    {
      "metadata": {
        "id": "bOnBnn1QgQ2I",
        "colab_type": "text"
      },
      "cell_type": "markdown",
      "source": [
        "Podemos ver que el  resultado es ir de 0 a 2, de 2 a 5 y despues de 5 a 6, es decir nuestro puerto de destino. El primer número debemos de no tenerlo en cuanta, por el diseño repite el primer puerto.\n",
        "\n",
        "Si vemos el precio es 11, y si lo comparamos con el grafo es el menor precio para ir hasta 6 desde 0. "
      ]
    },
    {
      "metadata": {
        "id": "37F6RAZbmK_9",
        "colab_type": "text"
      },
      "cell_type": "markdown",
      "source": [
        "Para el ejemplo de ir de 2 a 6, el coste en la matriz \"precios \" es 7, y la ruta es ir de 2 a 5 y de 5 a 6:\n"
      ]
    },
    {
      "metadata": {
        "id": "DYixNK9BWkFr",
        "colab_type": "code",
        "colab": {
          "base_uri": "https://localhost:8080/",
          "height": 71
        },
        "outputId": "f3b8e6ff-a164-4b68-b401-b2766e0556cf"
      },
      "cell_type": "code",
      "source": [
        "print(\"\\nLa ruta es:\")  \n",
        "calcular_ruta_clase(RUTAS, 2,6)"
      ],
      "execution_count": 34,
      "outputs": [
        {
          "output_type": "stream",
          "text": [
            "\n",
            "La ruta es:\n"
          ],
          "name": "stdout"
        },
        {
          "output_type": "execute_result",
          "data": {
            "text/plain": [
              "'2,2,5'"
            ]
          },
          "metadata": {
            "tags": []
          },
          "execution_count": 34
        }
      ]
    },
    {
      "metadata": {
        "id": "A6Jso584bSxN",
        "colab_type": "text"
      },
      "cell_type": "markdown",
      "source": [
        "## 2.2. Código mejorado"
      ]
    },
    {
      "metadata": {
        "id": "lwFcNjWXbX_a",
        "colab_type": "text"
      },
      "cell_type": "markdown",
      "source": [
        "Mejoras en el calculo de precios y rutas:\n",
        "\n",
        "-  Sustitución de  \" [9999]  · N  \" por  \" range(N)\" en la inicializacion de las listas por python comprehension en \"Precios\". Como esta ahora es menos intuitivo que poner: [[9999] · N for i in range(N) ]\n",
        "\n",
        "- Siempre se cumple  \"minimo = min(minimo,tabla_precios[i][k] + tarifas[k][j] )\" es \"tabla_precios[i][k] + tarifas[k][j] \" pues lo comprobamos en el condicional\n",
        "\n",
        "Además: \n",
        "\n",
        "-  Creación de una función para representar los datos de una forma más legible y entendible"
      ]
    },
    {
      "metadata": {
        "id": "9LcGCoylIewI",
        "colab_type": "code",
        "colab": {}
      },
      "cell_type": "code",
      "source": [
        "def calcula_Precios_Y_Rutas(tarifas):\n",
        "  N = len(tarifas)# Numero de puntos = numero de embarcaderos\n",
        "  # Cada embarcadero tiene precios diferentes para desplazarse de un embarcadero \n",
        "  # a otro situado más abajo.\n",
        "  \n",
        "  # Si no es posible desplazarse desde un embarcadero a otro, entonces \n",
        "  # configoramos un valor alto (9999) en la tabla de precios. A medida que \n",
        "  # encontremos valores más bajos los sustituimos\n",
        "  \n",
        "  # Costes de ir de un punto a otro:\n",
        "  tabla_precios = [[9999]*N for i in range(N) ]# Matriz de N*N\n",
        "  # [9999]*N --> Devuelve una lista de N numeros iguales a 9999\n",
        "  \n",
        "  # Nodos de incio y fin\n",
        "  tabla_rutas = [[\"\"]*N for i in range(N)]\n",
        "  \n",
        "  #inicializar\n",
        "  for i in range(N-1): # hasta el penultimo                                     # n\n",
        "    # 'i' recorre el punto en el que nos encontramos. \n",
        "    # Como no podemos volver hacia atras, el ultimo punto nu tiene sentido \n",
        "    # tratarlo, pues solo puede ir hacia el mismo\n",
        "    for j in range(i+1,N):# desde el segundo hasta el ultimo                    # n*m (aprox)\n",
        "      # Como no podemos ir hacia atras, el coste que debemos de mirar es desde\n",
        "      # el punto altual 'i+1' hasta el ultimo punto 'N-1'\n",
        "      \n",
        "      # minimo para ir al resto\n",
        "      minimo = tarifas[i][j]                                                    \n",
        "      \n",
        "      # la ruta para ir de i hasta j es i\n",
        "      tabla_rutas[i][j] = i\n",
        "      \n",
        "      # Recorrer toda la tabla de precios para aplicar la funcion  \"C\" de la pag 36\n",
        "      \n",
        "      # Recorrelos puntos intermedios entre 'i' y 'j' para calcular el minimo \n",
        "      # entre la tarifa de ir de 'i' a 'j' directo o de pasar por pasos intermedios\n",
        "      for k in range(i,j):\n",
        "        \n",
        "        # comparamos el minimo almacenado con el minimo con el que tiene pasos \n",
        "        # intermedios\n",
        "        if tabla_precios[i][k] + tarifas[k][j] < minimo:\n",
        "          \n",
        "          minimo = tabla_precios[i][k] + tarifas[k][j]# nuevo precio minimo\n",
        "          tabla_rutas[i][j] = k # la ruta de 'i' a 'j' debe de pasar por k (min)\n",
        "          \n",
        "      tabla_precios[i][j] = minimo # coste minimo  para ir de 'i' a 'j'\n",
        "      \n",
        "  return tabla_precios,tabla_rutas\n",
        "\n",
        "def calcular_Ruta_mas_barata(RUTA, desde, hasta):\n",
        "  if desde == hasta:\n",
        "    return desde \n",
        "  \n",
        "  else:\n",
        "    # Acumula en un str los puertos donde ha estado\n",
        "    string_puertos = calcular_Ruta_mas_barata(RUTA, desde, RUTA[desde][hasta])\n",
        "        \n",
        "    # Ultimo puerto visitado antes de el destino\n",
        "    ultimo_punto = RUTA[desde][hasta]\n",
        "    \n",
        "    return str(string_puertos)+  ',' + str(ultimo_punto)\n",
        "  \n",
        "def resultados_ruta_mas_barata(salida,destino):\n",
        "  print(\"\\nLA RUTA ES:\")  \n",
        "  string_puertos = calcular_Ruta_mas_barata(RUTAS, salida,destino)\n",
        "  \n",
        "  if type(string_puertos) is int:# Si salida==destino --> duvuelve un entero\n",
        "    print(\"  - No necesitas desplazarte, estas en tu destino\")\n",
        "    print(\"--> Coste = 0\")\n",
        "    \n",
        "  else:# hay desplazamiento\n",
        "  \n",
        "    lista_puertos = string_puertos.split(\",\")# convertimos el str a lista\n",
        "    \n",
        "    if len(lista_puertos) == 2:\n",
        "      # Cuando llega al final calcular_Ruta_mas_barata() es decir, \n",
        "      # \"desde == hasta\", devuelve el punto y como en la llamada recursiva se \n",
        "      # devuelve los puertos visitados + el ultimo en siempre se repite el primer\n",
        "      # puerto.\n",
        "      \n",
        "      # No es facil de ver pero es asi como esta diseñado\n",
        "      print(\"  - Trayecto directo de\", salida,\" a \",destino)\n",
        "      print(\"--> Coste = \",PRECIOS[salida][destino])\n",
        "      \n",
        "    else:\n",
        "      lista_puertos.append(destino) # añadimos el destino a la lista de puertos\n",
        "      \n",
        "      for i in range(2,len(lista_puertos)):\n",
        "        SALIDA = lista_puertos[i-1]\n",
        "        DESTINO = lista_puertos[i]\n",
        "        print(\"  - Trayecto de\", SALIDA,\" a \",lista_puertos[i],end=' ')\n",
        "        print(\"--> Coste = \",PRECIOS[int(SALIDA)][int(DESTINO)])\n",
        "        \n",
        "        \n",
        "      print(\"Coste TOTAL = \", PRECIOS[salida][destino] )\n",
        "        \n",
        "      \n",
        "    "
      ],
      "execution_count": 0,
      "outputs": []
    },
    {
      "metadata": {
        "id": "qmZIpGLy5QwE",
        "colab_type": "text"
      },
      "cell_type": "markdown",
      "source": [
        "### 2.2.1. Pruebas"
      ]
    },
    {
      "metadata": {
        "id": "LYO1X_EM4Vvy",
        "colab_type": "code",
        "colab": {}
      },
      "cell_type": "code",
      "source": [
        "# No es necesario ejecutarlo si ya se han obtenido con el código de clase\n",
        "TARIFAS = [\n",
        "[0,5,4,3,999,999,999],\n",
        "[999,0,999,2,3,999,11],\n",
        "[999,999, 0,1,999,4,10],\n",
        "[999,999,999, 0,5,6,9],\n",
        "[999,999, 999,999,0,999,4],\n",
        "[999,999, 999,999,999,0,3],\n",
        "[999,999,999,999,999,999,0]\n",
        "]\n",
        "\n",
        "PRECIOS, RUTAS = calcula_Precios_Y_Rutas(TARIFAS)"
      ],
      "execution_count": 0,
      "outputs": []
    },
    {
      "metadata": {
        "id": "mOC1IUn4sh07",
        "colab_type": "code",
        "colab": {
          "base_uri": "https://localhost:8080/",
          "height": 107
        },
        "outputId": "75a02884-ef24-47c6-d87b-bbea3878c18f"
      },
      "cell_type": "code",
      "source": [
        "resultados_ruta_mas_barata(1,5) # Ir del puerto 1 al puerto 5"
      ],
      "execution_count": 37,
      "outputs": [
        {
          "output_type": "stream",
          "text": [
            "\n",
            "LA RUTA ES:\n",
            "  - Trayecto de 1  a  3 --> Coste =  2\n",
            "  - Trayecto de 3  a  5 --> Coste =  6\n",
            "Coste TOTAL =  8\n"
          ],
          "name": "stdout"
        }
      ]
    },
    {
      "metadata": {
        "id": "3xJLjNLD3lsi",
        "colab_type": "code",
        "colab": {
          "base_uri": "https://localhost:8080/",
          "height": 89
        },
        "outputId": "3a53ea6a-ab55-42a4-9fb5-2aa6f327d63b"
      },
      "cell_type": "code",
      "source": [
        "resultados_ruta_mas_barata(3,6) # Ir del puerto 1 al puerto 5"
      ],
      "execution_count": 38,
      "outputs": [
        {
          "output_type": "stream",
          "text": [
            "\n",
            "LA RUTA ES:\n",
            "  - Trayecto directo de 3  a  6\n",
            "--> Coste =  9\n"
          ],
          "name": "stdout"
        }
      ]
    },
    {
      "metadata": {
        "id": "vKGSdBZc3wmW",
        "colab_type": "code",
        "colab": {
          "base_uri": "https://localhost:8080/",
          "height": 89
        },
        "outputId": "571479f3-ea58-4ceb-92f9-d5c86c695f87"
      },
      "cell_type": "code",
      "source": [
        "resultados_ruta_mas_barata(4,4) # Ir del puerto 1 al puerto 5"
      ],
      "execution_count": 39,
      "outputs": [
        {
          "output_type": "stream",
          "text": [
            "\n",
            "LA RUTA ES:\n",
            "  - No necesitas desplazarte, estas en tu destino\n",
            "--> Coste = 0\n"
          ],
          "name": "stdout"
        }
      ]
    }
  ]
}