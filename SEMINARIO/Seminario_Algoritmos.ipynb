{
  "nbformat": 4,
  "nbformat_minor": 0,
  "metadata": {
    "colab": {
      "name": "Seminario - Algoritmos.ipynb",
      "version": "0.3.2",
      "provenance": [],
      "collapsed_sections": [
        "uvGWhnhu3U-u",
        "tkTfhcj3Uv8O",
        "i3zRyPO4iJZO",
        "1I0hwqc13hHD",
        "Ni3GnKOXHgjF",
        "e3131_V4Hwjl",
        "bmaqAbiItrDy",
        "dh0o2hxkvQ7u",
        "BcxZZ2433reT",
        "Yb2xYFuo3u8F",
        "nGYpsrUJ3xdm",
        "dmfm1_7J38PD",
        "faAtKWyb3-Z4"
      ],
      "include_colab_link": true
    },
    "kernelspec": {
      "name": "python3",
      "display_name": "Python 3"
    }
  },
  "cells": [
    {
      "cell_type": "markdown",
      "metadata": {
        "id": "view-in-github",
        "colab_type": "text"
      },
      "source": [
        "<a href=\"https://colab.research.google.com/github/reink/03MAIR---Algoritmos-de-optimizacion/blob/master/SEMINARIO/Seminario_Algoritmos.ipynb\" target=\"_parent\"><img src=\"https://colab.research.google.com/assets/colab-badge.svg\" alt=\"Open In Colab\"/></a>"
      ]
    },
    {
      "metadata": {
        "id": "hVbXYX-RfPWh",
        "colab_type": "text"
      },
      "cell_type": "markdown",
      "source": [
        "# Algoritmos de optimización - Seminario<br>\n",
        "**Nombre y Apellidos:**  Daniel González García <br>\n",
        "**Url:**  https://github.com/reink/03MAIR---Algoritmos-de-optimizacion/tree/master/SEMINARIO<br>\n",
        "\n",
        "**Problema:** 2. Organizar los horarios de partidos de La Liga\n",
        "\n",
        "**Descripción del problema:**                                      "
      ]
    },
    {
      "metadata": {
        "id": "P232edrm6I-c",
        "colab_type": "text"
      },
      "cell_type": "markdown",
      "source": [
        "Desde la La Liga de fútbol profesional se pretende organizar los horarios de los partidos de liga de de cada jornada. Se conocen algunos datos que nos deben llevar a diseñar un algoritmo que realice la asignación de los partidos a los horarios que maximice la audiencia.\n",
        "\n",
        "Los horarios disponibles se conocen a priori y son los siguientes:"
      ]
    },
    {
      "metadata": {
        "id": "db7m5kRf7iJU",
        "colab_type": "text"
      },
      "cell_type": "markdown",
      "source": [
        "<table>\n",
        "    \n",
        "<thead>\n",
        "<tr>\n",
        "\t<th></th>\n",
        "</tr>\n",
        "</thead>\n",
        "<tbody>\n",
        "    \n",
        "  <tr> \n",
        "\t<th> Día</th>\n",
        "  <th>Hora</th>\n",
        "</tr>\n",
        "  \n",
        "<tr> \n",
        "\t<th> Viernes</th>\n",
        "  <td>20</td>\n",
        "</tr>\n",
        "\n",
        "<tr> \n",
        "\t<th> Sábado</th>\n",
        "  <td>12, 16, 18, 20</td>\n",
        "</tr>\n",
        "  <tr> \n",
        "\t<th> Domingo</th>\n",
        "  <td>12, 16, 18, 20</td>\n",
        "</tr>\n",
        "  \n",
        "  <tr> \n",
        "\t<th> Lunes</th>\n",
        "  <td>20</td>\n",
        "</tr>\n",
        "  \n",
        "</tbody>\n",
        "</table>"
      ]
    },
    {
      "metadata": {
        "id": "Bpffwwb98DR-",
        "colab_type": "text"
      },
      "cell_type": "markdown",
      "source": [
        "En primer lugar se clasifican los equipos en tres categorías según el numero de seguidores que tienen relación directa con la audiencia. Hay **4 equipos en la categoría A, 10 equipos de categoría B y 6 equipos de categoría C**\n",
        "\n",
        "Se conoce estadísticamente la audiencia que genera cada partido según los equipos que se enfrentan y en horario de sábado a las 20h (el mejor en todos los casos):"
      ]
    },
    {
      "metadata": {
        "id": "kI2Znn8u8Z4L",
        "colab_type": "text"
      },
      "cell_type": "markdown",
      "source": [
        "<table>\n",
        "    \n",
        "<thead>\n",
        "<tr>\n",
        "\t<th></th>\n",
        "</tr>\n",
        "</thead>\n",
        "<tbody>\n",
        "    \n",
        "  <tr> \n",
        "   <th> - </th>\n",
        "\t<th> Categoría A</th>\n",
        "  <th>Categoría  B</th>\n",
        "  <th>Categoría  C</th>\n",
        "</tr>\n",
        "  \n",
        "<tr> \n",
        "\t<th>Categoría A</th>\n",
        "  <td>2 M</td>\n",
        "  <td>1.3 M</td>\n",
        "  <td>1 M</td>\n",
        "</tr>\n",
        "\n",
        "<tr> \n",
        "\t<th>Categoría B</th>\n",
        "  <td> ... </td>\n",
        "  <td>0.9 M</td>\n",
        "  <td>0.75 M</td>\n",
        "</tr>\n",
        "  \n",
        "  <tr> \n",
        "\t<th>Categoría C</th>\n",
        "  <td>...</td>\n",
        "  <td>...</td>\n",
        "  <td>0.47 M</td>\n",
        "</tr>\n",
        "  \n",
        "</tbody>\n",
        "</table>"
      ]
    },
    {
      "metadata": {
        "id": "zyY4RnO19eja",
        "colab_type": "text"
      },
      "cell_type": "markdown",
      "source": [
        "Si el horario del partido no se realiza a las 20 horas del sábado se sabe que **se reduce según los coeficientes** de la siguiente tabla:"
      ]
    },
    {
      "metadata": {
        "id": "4RqoyQYb9nJx",
        "colab_type": "text"
      },
      "cell_type": "markdown",
      "source": [
        "<table>\n",
        "    \n",
        "<thead>\n",
        "<tr>\n",
        "\t<th></th>\n",
        "</tr>\n",
        "</thead>\n",
        "<tbody>\n",
        "    \n",
        "  <tr> \n",
        "   <th> - </th>\n",
        "\t<th> Viernes</th>\n",
        "  <th>Sábado</th>\n",
        "  <th>Domingo</th>\n",
        "   <th>Lunes</th> \n",
        "</tr>\n",
        "  \n",
        "<tr> \n",
        "\t<th> 12 h</th>\n",
        "  <td>...</td>\n",
        "  <td>0.55</td>\n",
        "  <td>0.45</td>\n",
        "  <td>...</td>\n",
        "</tr>\n",
        "  \n",
        "  <tr> \n",
        "\t<th> 16 h</th>\n",
        "  <td>...</td>\n",
        "  <td>0.7</td>\n",
        "  <td>0.75</td>\n",
        "  <td>...</td>\n",
        "</tr>\n",
        "  \n",
        "  <tr> \n",
        "\t<th> 18 h</th>\n",
        "  <td>...</td>\n",
        "  <td>0.8</td>\n",
        "  <td>0.85</td>\n",
        "  <td>...</td>\n",
        "</tr>\n",
        "  \n",
        "  <tr> \n",
        "\t<th> 20 h</th>\n",
        "  <td>0.4</td>\n",
        "  <td>1</td>\n",
        "  <td>1</td>\n",
        "  <td>0.4</td>\n",
        "</tr>\n",
        "\n",
        "\n",
        "  \n",
        "</tbody>\n",
        "</table>"
      ]
    },
    {
      "metadata": {
        "id": "fK_0B5Jb-krb",
        "colab_type": "text"
      },
      "cell_type": "markdown",
      "source": [
        "Debemos asignar obligatoriamente siempre un partido el viernes y un partido el lunes.\n",
        "\n",
        "Es posible la coincidencia de horarios pero en este caso la audiencia se verá afectada(no se acumula) y se repartirá según los siguientes criterios:\n",
        "- se tomará la mejor audiencia y se repartirá según la siguiente ponderación:\n",
        "\n",
        "> A = 4 puntos<br>\n",
        ">B = 2 puntos<br>\n",
        ">C = 1 punto<br>\n",
        "\n",
        "\n",
        "- Si hay una coincidencia de horario (en sabado a las 20h) para dos partidos por ejemplo :  AB y BC\n",
        "\n",
        "> Total puntos: 4(A)+2(B) + 2(B)+1(C) =9 <br>\n",
        "> - La audiencia máxima para ese horario será la de AB = 1.3 Millones <br>\n",
        "> - La audiencia (1.3 Millones) se reparte en :\n",
        ">> Para AB:  (6/9) ·1.3 M = 0 . 87 Millones<br>\n",
        ">> Para BC:  (3/9) · 1.3 M = 0 . 43 Millones<br>"
      ]
    },
    {
      "metadata": {
        "id": "zSIAMgIS6G3q",
        "colab_type": "text"
      },
      "cell_type": "markdown",
      "source": [
        "....\n",
        "\n",
        "<font color='red'>Nota: </font>\n",
        "\n",
        "(*) La respuesta es obligatoria"
      ]
    },
    {
      "metadata": {
        "id": "AiskKkzZfy4e",
        "colab_type": "code",
        "colab": {}
      },
      "cell_type": "code",
      "source": [
        ""
      ],
      "execution_count": 0,
      "outputs": []
    },
    {
      "metadata": {
        "id": "NWJlG8sN3L0U",
        "colab_type": "text"
      },
      "cell_type": "markdown",
      "source": [
        "---"
      ]
    },
    {
      "metadata": {
        "id": "ZE2034Ud29_t",
        "colab_type": "text"
      },
      "cell_type": "markdown",
      "source": [
        "# EJERCICIO 1 (*)"
      ]
    },
    {
      "metadata": {
        "id": "3_-exlrTgLd-",
        "colab_type": "text"
      },
      "cell_type": "markdown",
      "source": [
        "(*)¿Cuantas posibilidades hay sin tener en cuenta las restricciones?<br>\n",
        "\n",
        "\n",
        "\n",
        "¿Cuantas posibilidades hay teniendo en cuenta todas las restricciones.\n",
        "\n",
        "\n"
      ]
    },
    {
      "metadata": {
        "id": "WfCUqJyKhPcw",
        "colab_type": "text"
      },
      "cell_type": "markdown",
      "source": [
        "**Respuesta**"
      ]
    },
    {
      "metadata": {
        "id": "m75WELce2uLC",
        "colab_type": "text"
      },
      "cell_type": "markdown",
      "source": [
        "Se dispone de 20 equipos, por lo que se celebran 10 partidos. Las **obligaciones** que nos pone el enunciado son:\n",
        "\n",
        "- Obtener la **máxima audiencia** para la jornada\n",
        "\n",
        "- Se tiene que jugar un partido el **viernes** y un partido el **lunes**\n",
        "\n",
        "Además nos da la **posibilidad ( que no obligación) de jugar en un mismo horraio más de un partido**. Realmente esta opción **no aporta nada al problema.** Pues si la finalidad es obtener la máxima audiencia para una jornada, y los horarios disponibles coinciden con el número de partidos (10), por muy poca audiencia que aporte un partido en una jornada a porta más a la audiencia de la jornada (total), que coincidiendo con otro partido.  Al coincidir los partidos, se genera únicamente la audiencia del partido con mayor audiencia (aunque se divide entre los dos partidos, la suma es la máxima audiencia de los dos partidos, es decir, el total de audiencia en ese horario). Si aumentara en algo la audiencia del horario, tendría sentido usar esta opción, **pues la finalidad es conseguir la audiencia máxima para la jornada.** Se podría dar la opción de que coincidan en horario dos partidos, como opción por si el cliente lo quisiera usar en un futuro. Pero esto sería una mejora que añadimos a lo que nos solicitan.\n",
        "\n",
        "La finalidad es **organizar la jornada de forma que se maximice la audiencia de la jornada.** Por lo tanto N es el número de partidos. \n",
        "\n",
        "Se conoce estadísticamente la audiencia que genera cada partido según los equipos que se enfrentan y en horario de sábado a las 20h (el mejor en todos los casos).  Y si el horario del partido no se realiza a las 20 horas del sábado se sabe que se reduce según los coeficientes\n",
        "\n",
        "Realmente **el ejercicio consiste asignar el máximo coeficiente de reducción disponible, a el partido, de los disponibles, con mayor audiencia.** Es decir, se trata de aplicar un **algoritmo de ordenación** para:\n",
        "\n",
        "- Ordenar los partidos de mayor a menor audiencia\n",
        "- Ordenar los coeficientes de mayor a menor\n",
        "\n",
        "Por lo tanto, en función de la complejidad de el algoritmo de ordenación, obtendremos la complejidad de nuestro problema.  Como hemos visto en clase, en el peor caso obtendremos una complejidad de **O(n²)**."
      ]
    },
    {
      "metadata": {
        "id": "9gxuchOSgkMJ",
        "colab_type": "text"
      },
      "cell_type": "markdown",
      "source": [
        "En cuanto al número posible de soluciones, para el primer caso tenemos 10 posibilidades, en el segundo 9, para el tercer.... , es decir,  **N! posibles solucines**"
      ]
    },
    {
      "metadata": {
        "id": "uvGWhnhu3U-u",
        "colab_type": "text"
      },
      "cell_type": "markdown",
      "source": [
        "# EJERCICIO 2 (*)"
      ]
    },
    {
      "metadata": {
        "id": "dzynfVJahHoY",
        "colab_type": "text"
      },
      "cell_type": "markdown",
      "source": [
        "Modelo para el espacio de soluciones<br>\n",
        "(*) ¿Cual es la estructura de datos que mejor se adapta al problema? Argumentalo.(Es posible que hayas elegido una al principio y veas la necesidad de cambiar, arguentalo)\n"
      ]
    },
    {
      "metadata": {
        "id": "xFIJrOwKi2Ti",
        "colab_type": "text"
      },
      "cell_type": "markdown",
      "source": [
        "**Respuesta**"
      ]
    },
    {
      "metadata": {
        "id": "j8jp9fHmkMoc",
        "colab_type": "text"
      },
      "cell_type": "markdown",
      "source": [
        "El algoritmo a diseñar es para la Liga de fútbol,  es decir, una empresa. En este caso creo que debemos de anteponer una buena presentación de los resultados  frente a cualquier otro aspecto como puede ser el espacio en memoria (para el que no se especifica ninguna restricción).\n",
        "\n",
        "Dicho esto creo que la estructura que nos ofrece trabajar con unos datos bien estructurados, y que nos permite mostrar los datos de forma comprensible para cualquier público, es la estructura de datos DataFrame (DF) de pandas. Por esta razón va a ser la estructura de datos principal que utilizaremos."
      ]
    },
    {
      "metadata": {
        "id": "IBvwIyxYhB-H",
        "colab_type": "text"
      },
      "cell_type": "markdown",
      "source": [
        "## 2.1. Importar librerías"
      ]
    },
    {
      "metadata": {
        "id": "7FIy-bU1IEi9",
        "colab_type": "code",
        "colab": {}
      },
      "cell_type": "code",
      "source": [
        "# inportar librerias\n",
        "import pandas as pd\n",
        "import numpy as np"
      ],
      "execution_count": 0,
      "outputs": []
    },
    {
      "metadata": {
        "id": "XsAfmHHoicvZ",
        "colab_type": "text"
      },
      "cell_type": "markdown",
      "source": [
        "## 2.2. Audiencias y Coeficientes de reducción"
      ]
    },
    {
      "metadata": {
        "id": "oeefTs4ihoIE",
        "colab_type": "text"
      },
      "cell_type": "markdown",
      "source": [
        "Se conoce estadísticamente la audiencia que genera cada partido según los equipos que se enfrentan, en horario de sábado a las 20h. Para disponer de estos datos generamos un diccionario de python, pues nos permitirá obtener la audiencia de cada partido en función del tipo de partido:"
      ]
    },
    {
      "metadata": {
        "id": "ZqoiD_GuLZoS",
        "colab_type": "code",
        "colab": {}
      },
      "cell_type": "code",
      "source": [
        "mejor_audiencia = {'AA':2e6,'AB':1.3e6,'AC':1e6,'BB':0.9e6,'BC':0.75e6,'CC':0.47e6}"
      ],
      "execution_count": 0,
      "outputs": []
    },
    {
      "metadata": {
        "id": "CVWEIJwILvvZ",
        "colab_type": "code",
        "outputId": "fcf415dc-dd04-4962-dc56-d9e02b89b912",
        "colab": {
          "base_uri": "https://localhost:8080/",
          "height": 125
        }
      },
      "cell_type": "code",
      "source": [
        "mejor_audiencia"
      ],
      "execution_count": 3,
      "outputs": [
        {
          "output_type": "execute_result",
          "data": {
            "text/plain": [
              "{'AA': 2000000.0,\n",
              " 'AB': 1300000.0,\n",
              " 'AC': 1000000.0,\n",
              " 'BB': 900000.0,\n",
              " 'BC': 750000.0,\n",
              " 'CC': 470000.0}"
            ]
          },
          "metadata": {
            "tags": []
          },
          "execution_count": 3
        }
      ]
    },
    {
      "metadata": {
        "id": "Wy4TsRrxi1cW",
        "colab_type": "text"
      },
      "cell_type": "markdown",
      "source": [
        "Si el horario del partido no se realiza a las 20 horas del sábado se sabe que se reduce según los coeficientes de la siguiente tabla:"
      ]
    },
    {
      "metadata": {
        "id": "G4nk_tTXi2ye",
        "colab_type": "code",
        "outputId": "88c29f13-ad3d-451c-e3b9-33420d8bd77f",
        "colab": {
          "base_uri": "https://localhost:8080/",
          "height": 359
        }
      },
      "cell_type": "code",
      "source": [
        "cr_audiencias = pd.DataFrame(columns=('dia','cr'))\n",
        "\n",
        "cr_audiencias.loc[len(cr_audiencias)]=['viernes_20h',0.4]\n",
        "cr_audiencias.loc[len(cr_audiencias)]=['sabado_12h',0.55]\n",
        "cr_audiencias.loc[len(cr_audiencias)]=['sabado_16h',0.7]\n",
        "cr_audiencias.loc[len(cr_audiencias)]=['sabado_18h',0.8]\n",
        "cr_audiencias.loc[len(cr_audiencias)]=['sabado_20h',1]\n",
        "cr_audiencias.loc[len(cr_audiencias)]=['domingo_12h',0.45]\n",
        "cr_audiencias.loc[len(cr_audiencias)]=['domingo_16h',0.75]\n",
        "cr_audiencias.loc[len(cr_audiencias)]=['domingo_18h',0.85]\n",
        "cr_audiencias.loc[len(cr_audiencias)]=['domingo_20h',1]\n",
        "cr_audiencias.loc[len(cr_audiencias)]=['lunes_20h',0.4]\n",
        "\n",
        "cr_audiencias"
      ],
      "execution_count": 4,
      "outputs": [
        {
          "output_type": "execute_result",
          "data": {
            "text/html": [
              "<div>\n",
              "<style scoped>\n",
              "    .dataframe tbody tr th:only-of-type {\n",
              "        vertical-align: middle;\n",
              "    }\n",
              "\n",
              "    .dataframe tbody tr th {\n",
              "        vertical-align: top;\n",
              "    }\n",
              "\n",
              "    .dataframe thead th {\n",
              "        text-align: right;\n",
              "    }\n",
              "</style>\n",
              "<table border=\"1\" class=\"dataframe\">\n",
              "  <thead>\n",
              "    <tr style=\"text-align: right;\">\n",
              "      <th></th>\n",
              "      <th>dia</th>\n",
              "      <th>cr</th>\n",
              "    </tr>\n",
              "  </thead>\n",
              "  <tbody>\n",
              "    <tr>\n",
              "      <th>0</th>\n",
              "      <td>viernes_20h</td>\n",
              "      <td>0.40</td>\n",
              "    </tr>\n",
              "    <tr>\n",
              "      <th>1</th>\n",
              "      <td>sabado_12h</td>\n",
              "      <td>0.55</td>\n",
              "    </tr>\n",
              "    <tr>\n",
              "      <th>2</th>\n",
              "      <td>sabado_16h</td>\n",
              "      <td>0.70</td>\n",
              "    </tr>\n",
              "    <tr>\n",
              "      <th>3</th>\n",
              "      <td>sabado_18h</td>\n",
              "      <td>0.80</td>\n",
              "    </tr>\n",
              "    <tr>\n",
              "      <th>4</th>\n",
              "      <td>sabado_20h</td>\n",
              "      <td>1.00</td>\n",
              "    </tr>\n",
              "    <tr>\n",
              "      <th>5</th>\n",
              "      <td>domingo_12h</td>\n",
              "      <td>0.45</td>\n",
              "    </tr>\n",
              "    <tr>\n",
              "      <th>6</th>\n",
              "      <td>domingo_16h</td>\n",
              "      <td>0.75</td>\n",
              "    </tr>\n",
              "    <tr>\n",
              "      <th>7</th>\n",
              "      <td>domingo_18h</td>\n",
              "      <td>0.85</td>\n",
              "    </tr>\n",
              "    <tr>\n",
              "      <th>8</th>\n",
              "      <td>domingo_20h</td>\n",
              "      <td>1.00</td>\n",
              "    </tr>\n",
              "    <tr>\n",
              "      <th>9</th>\n",
              "      <td>lunes_20h</td>\n",
              "      <td>0.40</td>\n",
              "    </tr>\n",
              "  </tbody>\n",
              "</table>\n",
              "</div>"
            ],
            "text/plain": [
              "           dia    cr\n",
              "0  viernes_20h  0.40\n",
              "1   sabado_12h  0.55\n",
              "2   sabado_16h  0.70\n",
              "3   sabado_18h  0.80\n",
              "4   sabado_20h  1.00\n",
              "5  domingo_12h  0.45\n",
              "6  domingo_16h  0.75\n",
              "7  domingo_18h  0.85\n",
              "8  domingo_20h  1.00\n",
              "9    lunes_20h  0.40"
            ]
          },
          "metadata": {
            "tags": []
          },
          "execution_count": 4
        }
      ]
    },
    {
      "metadata": {
        "id": "tkTfhcj3Uv8O",
        "colab_type": "text"
      },
      "cell_type": "markdown",
      "source": [
        "## 2.3. Datos de los partidos"
      ]
    },
    {
      "metadata": {
        "id": "A0Vj61dRjBoW",
        "colab_type": "text"
      },
      "cell_type": "markdown",
      "source": [
        "En el jercicio disponemos de equipos de clase A, B y C que se enfrentan entre ellos. Según la clase de equipos que se enfrenten la audiencia obtiene mejor resultados o peores, siendo un partido AA el que mejor audiencia obtiene y un partido CC el peor caso. \n",
        "\n",
        "En la siguiente tabla se muestran todas las combinaciones de partidos, ordenadas de mayor a menor audiencia:"
      ]
    },
    {
      "metadata": {
        "id": "WcGEVd-Rlafs",
        "colab_type": "text"
      },
      "cell_type": "markdown",
      "source": [
        "<table>\n",
        "    \n",
        "<thead>\n",
        "<tr>\n",
        "\t<th></th>\n",
        "</tr>\n",
        "</thead>\n",
        "<tbody>\n",
        "    \n",
        "<tr> \n",
        "\t<th> AA</th>\n",
        "  <th> AB</th>\n",
        "  <th> AC</th>\n",
        "  <th> BB</th>\n",
        "  <th> BC</th>\n",
        "  <th> CC</th>  \n",
        "</tr>\n",
        "\n",
        "<tr>\n",
        "\t<td>2 M</td>\n",
        "  <td>1.3 M</td>\n",
        "  <td>1 M</td>\n",
        "  <td>0.9 M</td>\n",
        "  <td>0.75 M</td>\n",
        "  <td>0.47 M</td>\n",
        "</tr>\n",
        "  \n",
        "</tbody>\n",
        "</table>"
      ]
    },
    {
      "metadata": {
        "id": "CJyCNu8KmaKf",
        "colab_type": "text"
      },
      "cell_type": "markdown",
      "source": [
        "Puntos que debemos tener en cuenta:\n",
        "\n",
        "-  En el ejercicio se pretende organizar los horarios de los partidos de una jornada de liga ,de tal forma que se **maximice la audiencia. **\n",
        "\n",
        "-  Disponemos de **10 partidos (20 equipos) y 10 horarios distintos**, es decir, podemos asignar un partido a cada horario sin la necesidad de repetir ningún horario. Por el momento, vamos a **suponer que cada partido se asigna a un horario distinto**, es decir, no se pueden jugar más de un partido en el mismo horario.\n",
        "\n",
        "-  **Las audiencias de los partidos se ven afectadas por un coeficiente en función del día y horario del partido**. El mejor coeficiente es un 1, es decir, la audiencia no se modifica. Si asignamos los partidos de mejor a peor audiencia a los  coeficientes de mejor a peor, beríamos de obtener la mejor audiencia posible.\n",
        "\n",
        "Teniendo en cuenta que queremos maximizar la audiancia, lo lógico es **asignar los mejores coeficientes a las mejores audiencias** (clase con más seguidores). Para ello, debemos de  tener los coeficientes ordenados del mayor a menor, y asignarlos a los partidos ordenados de mayor a menor audiencia.\n",
        "\n",
        "Veamos un ejemplo de una jornada concreta para entenderlo:\n"
      ]
    },
    {
      "metadata": {
        "id": "wfT80TBVszie",
        "colab_type": "text"
      },
      "cell_type": "markdown",
      "source": [
        "<table>\n",
        "    \n",
        "<thead>\n",
        "<tr>\n",
        "\t<th></th>\n",
        "</tr>\n",
        "</thead>\n",
        "<tbody>\n",
        "    \n",
        "<tr> \n",
        "  <th> Partido: </th>\n",
        "\t<th> AA</th>\n",
        "  <th> AB</th>\n",
        "  <th> AC</th>\n",
        "  <th> BB</th>\n",
        "  <th> BB</th>\n",
        "  <th> BB</th> \n",
        "  <th> BB</th>\n",
        "  <th> BC</th>  \n",
        "  <th> CC</th>  \n",
        "  <th> CC</th>  \n",
        "</tr>\n",
        "\n",
        "<tr>\n",
        "  <th> Mejor audiencia </th>\n",
        "\t<td>2 M</td>\n",
        "  <td>1.3 M</td>\n",
        "  <td>1 M</td>\n",
        "  <td>0.9 M</td>\n",
        "  <td>0.9 M</td>\n",
        "  <td>0.9 M</td>\n",
        "  <td>0.9 M</td>\n",
        "  <td>0.75 M</td>\n",
        "  <td>0.47 M</td>\n",
        "  <td>0.47 M</td>\n",
        "</tr>\n",
        "  \n",
        "<tr>\n",
        "  <th> Coeficiente: </th>\n",
        "\t<td>1</td>\n",
        "  <td>1</td>\n",
        "  <td>0.85</td>\n",
        "  <td>0.8</td>\n",
        "  <td>0.75</td>\n",
        "  <td>0.7</td>\n",
        "  <td>0.55</td>\n",
        "  <td>0.45</td>\n",
        "  <td>0.4</td>\n",
        "  <td>0.4</td>\n",
        "</tr>\n",
        "  \n",
        "<tr>\n",
        "  <th> Día: </th>\n",
        "\t<td>Sábado 20h</td>\n",
        "  <td>Domingo 20h</td>\n",
        "  <td>Domingo 18h</td>\n",
        "  <td>Sábado 18h</td>\n",
        "  <td>Domingo 16h</td>\n",
        "  <td>Sábado 16h</td>\n",
        "  <td>Sábado 12h</td>\n",
        "  <td>Domingo 12h</td>\n",
        "  <td>Viernes 20h</td>\n",
        "  <td>Lunes 20h</td>\n",
        "</tr>\n",
        "  \n",
        "</tbody>\n",
        "</table>"
      ]
    },
    {
      "metadata": {
        "id": "VHrF6pHLyEnI",
        "colab_type": "text"
      },
      "cell_type": "markdown",
      "source": [
        "Tener la lista de coeficientes ordenadas no es un problema, pues se puede almacenar directamente ordenada. Sin embargo, los datos que va a recibir nuestro algoritmo distintos, en cada jornada son los partidos.\n",
        "\n",
        "Los partidos vienen desordenados, sólo sabemos quien se enfrenta a quien, pero debemos de ordenarlos según la audiencia de mayor a menor. Para ello he pensado en el algoritmo de ordenación rápida (**quick sort**), ya que es el más utilizado, y además lo hemos implementado en clase.\n",
        "\n",
        "Para ordenar los partidos de mejor audiencia a la peor, nos fijaremos en la clase de los equipos enfrentados. El problema viene en como calcular el pivote y como decidir que partido va a una o a otra sublista, pues las clases de los partidos son caracteres. Para poder calcular el pivote mediante la media, vamos a realizar una conversión de la clase de equipo a númeriaca mediante el código ASCII, donde:"
      ]
    },
    {
      "metadata": {
        "id": "_oipAaM91tLe",
        "colab_type": "text"
      },
      "cell_type": "markdown",
      "source": [
        "<table>\n",
        "    \n",
        "<thead>\n",
        "<tr>\n",
        "\t<th></th>\n",
        "</tr>\n",
        "</thead>\n",
        "<tbody>\n",
        "    \n",
        "  <tr> \n",
        "\t<th> Clase</th>\n",
        "  <th> ASCII</th>\n",
        "</tr>\n",
        "  \n",
        "<tr> \n",
        "\t<th> A</th>\n",
        "  <td>65</td>\n",
        "</tr>\n",
        "\n",
        "<tr> \n",
        "\t<th> B</th>\n",
        "  <td>66</td>\n",
        "</tr>\n",
        "  \n",
        "  <tr> \n",
        "\t<th> C</th>\n",
        "  <td>67</td>\n",
        "</tr>\n",
        "  \n",
        "</tbody>\n",
        "</table>"
      ]
    },
    {
      "metadata": {
        "id": "i5rQFkEu2Sr9",
        "colab_type": "text"
      },
      "cell_type": "markdown",
      "source": [
        "Por lo tanto,  las **combinaciones de partidos posibles son (ordenadas de mayor a menor audiencia)**:"
      ]
    },
    {
      "metadata": {
        "id": "nRGsFoNdmSGG",
        "colab_type": "text"
      },
      "cell_type": "markdown",
      "source": [
        "<table>\n",
        "    \n",
        "<thead>\n",
        "<tr>\n",
        "\t<th></th>\n",
        "</tr>\n",
        "</thead>\n",
        "<tbody>\n",
        "    \n",
        "<tr> \n",
        "\t<th> AA</th>\n",
        "  <th> AB</th>\n",
        "  <th> AC</th>\n",
        "  <th> BB</th>\n",
        "  <th> BC</th>\n",
        "  <th> CC</th>  \n",
        "</tr>\n",
        "\n",
        "<tr>\n",
        "\t<td>6565</td>\n",
        "  <td>6566</td>\n",
        "  <td>6567</td>\n",
        "  <td>6666</td>\n",
        "  <td>6667</td>\n",
        "  <td>6767</td>\n",
        "</tr>\n",
        "  \n",
        "</tbody>\n",
        "</table>"
      ]
    },
    {
      "metadata": {
        "id": "0XFefavjhIEt",
        "colab_type": "text"
      },
      "cell_type": "markdown",
      "source": [
        "Des esta forma, lo unico que debemos hacer es ordenar el número generado usando el código ASCII de menor a mayor, para obtener los partidos ordenados de  mayor  a menor audiencia. "
      ]
    },
    {
      "metadata": {
        "id": "2V2l2hZVv-Hl",
        "colab_type": "text"
      },
      "cell_type": "markdown",
      "source": [
        "Una solución para no tener que realizar el una conversión delas letras a código ASCII, sería usar otro tipo de transformación númeriaca (por ejemplo 1,2 y 3) y hacer la trasformación con una función creada por nosotros. Para evitar estas transformación, se podría hablar con la empresa para ver si estarían dispuestos a cambiar la clasificación a de  A, B y C a  1, 2 y 3 por ejemplo. "
      ]
    },
    {
      "metadata": {
        "id": "aNIAwHXixLjd",
        "colab_type": "text"
      },
      "cell_type": "markdown",
      "source": [
        "Volvamos al tema de la posibilidad que nos da el ejercicio de **jugar más de un partido en el mismo horario.** \n",
        "\n",
        "La **finalidad** del algoritmo es la organización de los horarios de una jornada de la Liga de fútbol, de tal forma que se obtenga la **máxima audiencia** posible en la jornada. Cuando dos partidos coinciden, la audiencia total de ese horario es la del partido con más audiencia, aunque se divida entre los dos equipos de una forma expecífica. Por ejemplo si coinciden AB y BC, la audiencia en ese horario seria la de AB (el total).\n",
        "\n",
        "**Al coincidir el número de partidos con el número de horarios, la audiencia máxima, se obtiene si se juega un partido cada día,** pues es sería la suma de todas las audiencias. Pues por muy pequeña que sea la audiencia de un lunes, aporta audiencia al global.\n",
        "\n",
        "Por esta razón **no se considerará que dos partidos puedan conincidir**, pues carece de sentido si se pretende maximizar la audiencia (como se comenta en el ejercicio1)."
      ]
    },
    {
      "metadata": {
        "id": "i3zRyPO4iJZO",
        "colab_type": "text"
      },
      "cell_type": "markdown",
      "source": [
        "### 2.3.1. Equipos en la liga"
      ]
    },
    {
      "metadata": {
        "id": "KBAYfIUDqA1Z",
        "colab_type": "text"
      },
      "cell_type": "markdown",
      "source": [
        "La Liga de fútbol esta formada por 20 equipos clasificados en tres categorías según el número de seguidores, que tienen relación directa con la audiencia. Catrgorías: \n",
        "\n",
        "-  **Categoría A:** Mayor número de seguidores. Hay **4 equipos** en la categoría A\n",
        "-  **Categoría B:** Número intermedio de seguidores. Hay **10 equipos** de categoría B  \n",
        "-  **Categoría C:** Menor número de seguidores. Hay **6 equipos** de categoría C\n",
        "\n",
        "La forma más habitual de almacenar unos datos como los de la liga, es el uso de un Data Frame de pandas (DF), pues nos permite la manipulación sencilla delos datos y una facil legibilidad de estos. Por estas razones los datos de la liga se reciben en una DF, que creamos a continuación, con una columna con el nombre del equipo y otra columna con la categoría del equipo:\n"
      ]
    },
    {
      "metadata": {
        "id": "4WyVeWUTMd_Y",
        "colab_type": "code",
        "colab": {}
      },
      "cell_type": "code",
      "source": [
        "# DF equipos de la liga y su categoría (Liga 2018/19)\n",
        "equipos_liga = pd.DataFrame(columns=('nombre','categoria'))\n",
        "\n",
        "equipos_liga.loc[len(equipos_liga)]=['FC Barcelona','A']\n",
        "equipos_liga.loc[len(equipos_liga)]=['Real Madrid','A']\n",
        "equipos_liga.loc[len(equipos_liga)]=['Sevilla FC','A']\n",
        "equipos_liga.loc[len(equipos_liga)]=['Atlético de Madrid','A']\n",
        "\n",
        "equipos_liga.loc[len(equipos_liga)]=['Valencia CF','B']\n",
        "equipos_liga.loc[len(equipos_liga)]=['Athletic Club','B']\n",
        "equipos_liga.loc[len(equipos_liga)]=['Real Betis','B']\n",
        "equipos_liga.loc[len(equipos_liga)]=['Villareal','B']\n",
        "equipos_liga.loc[len(equipos_liga)]=['Levante UD','B']\n",
        "equipos_liga.loc[len(equipos_liga)]=['Getafe CF','B']\n",
        "equipos_liga.loc[len(equipos_liga)]=['RCD Espanyol','B']\n",
        "equipos_liga.loc[len(equipos_liga)]=['RC Celta','B']\n",
        "equipos_liga.loc[len(equipos_liga)]=['Real Valladolid','B']\n",
        "equipos_liga.loc[len(equipos_liga)]=['Real Sociedad','B']\n",
        "\n",
        "\n",
        "equipos_liga.loc[len(equipos_liga)]=['Rayo Vallecano','C']\n",
        "equipos_liga.loc[len(equipos_liga)]=['Girona FC','C']\n",
        "equipos_liga.loc[len(equipos_liga)]=['CD Leganés','C']\n",
        "equipos_liga.loc[len(equipos_liga)]=['SD Eibar','C']\n",
        "equipos_liga.loc[len(equipos_liga)]=['SD Huesca','C']\n",
        "equipos_liga.loc[len(equipos_liga)]=['D. Alavés','C']\n",
        "\n"
      ],
      "execution_count": 0,
      "outputs": []
    },
    {
      "metadata": {
        "id": "veLJMEsCKMyN",
        "colab_type": "code",
        "outputId": "524cff5e-a963-48fa-d14f-04b4e3bc4507",
        "colab": {
          "base_uri": "https://localhost:8080/",
          "height": 669
        }
      },
      "cell_type": "code",
      "source": [
        "# Mostrar equipos participantes en la liga\n",
        "equipos_liga"
      ],
      "execution_count": 6,
      "outputs": [
        {
          "output_type": "execute_result",
          "data": {
            "text/html": [
              "<div>\n",
              "<style scoped>\n",
              "    .dataframe tbody tr th:only-of-type {\n",
              "        vertical-align: middle;\n",
              "    }\n",
              "\n",
              "    .dataframe tbody tr th {\n",
              "        vertical-align: top;\n",
              "    }\n",
              "\n",
              "    .dataframe thead th {\n",
              "        text-align: right;\n",
              "    }\n",
              "</style>\n",
              "<table border=\"1\" class=\"dataframe\">\n",
              "  <thead>\n",
              "    <tr style=\"text-align: right;\">\n",
              "      <th></th>\n",
              "      <th>nombre</th>\n",
              "      <th>categoria</th>\n",
              "    </tr>\n",
              "  </thead>\n",
              "  <tbody>\n",
              "    <tr>\n",
              "      <th>0</th>\n",
              "      <td>FC Barcelona</td>\n",
              "      <td>A</td>\n",
              "    </tr>\n",
              "    <tr>\n",
              "      <th>1</th>\n",
              "      <td>Real Madrid</td>\n",
              "      <td>A</td>\n",
              "    </tr>\n",
              "    <tr>\n",
              "      <th>2</th>\n",
              "      <td>Sevilla FC</td>\n",
              "      <td>A</td>\n",
              "    </tr>\n",
              "    <tr>\n",
              "      <th>3</th>\n",
              "      <td>Atlético de Madrid</td>\n",
              "      <td>A</td>\n",
              "    </tr>\n",
              "    <tr>\n",
              "      <th>4</th>\n",
              "      <td>Valencia CF</td>\n",
              "      <td>B</td>\n",
              "    </tr>\n",
              "    <tr>\n",
              "      <th>5</th>\n",
              "      <td>Athletic Club</td>\n",
              "      <td>B</td>\n",
              "    </tr>\n",
              "    <tr>\n",
              "      <th>6</th>\n",
              "      <td>Real Betis</td>\n",
              "      <td>B</td>\n",
              "    </tr>\n",
              "    <tr>\n",
              "      <th>7</th>\n",
              "      <td>Villareal</td>\n",
              "      <td>B</td>\n",
              "    </tr>\n",
              "    <tr>\n",
              "      <th>8</th>\n",
              "      <td>Levante UD</td>\n",
              "      <td>B</td>\n",
              "    </tr>\n",
              "    <tr>\n",
              "      <th>9</th>\n",
              "      <td>Getafe CF</td>\n",
              "      <td>B</td>\n",
              "    </tr>\n",
              "    <tr>\n",
              "      <th>10</th>\n",
              "      <td>RCD Espanyol</td>\n",
              "      <td>B</td>\n",
              "    </tr>\n",
              "    <tr>\n",
              "      <th>11</th>\n",
              "      <td>RC Celta</td>\n",
              "      <td>B</td>\n",
              "    </tr>\n",
              "    <tr>\n",
              "      <th>12</th>\n",
              "      <td>Real Valladolid</td>\n",
              "      <td>B</td>\n",
              "    </tr>\n",
              "    <tr>\n",
              "      <th>13</th>\n",
              "      <td>Real Sociedad</td>\n",
              "      <td>B</td>\n",
              "    </tr>\n",
              "    <tr>\n",
              "      <th>14</th>\n",
              "      <td>Rayo Vallecano</td>\n",
              "      <td>C</td>\n",
              "    </tr>\n",
              "    <tr>\n",
              "      <th>15</th>\n",
              "      <td>Girona FC</td>\n",
              "      <td>C</td>\n",
              "    </tr>\n",
              "    <tr>\n",
              "      <th>16</th>\n",
              "      <td>CD Leganés</td>\n",
              "      <td>C</td>\n",
              "    </tr>\n",
              "    <tr>\n",
              "      <th>17</th>\n",
              "      <td>SD Eibar</td>\n",
              "      <td>C</td>\n",
              "    </tr>\n",
              "    <tr>\n",
              "      <th>18</th>\n",
              "      <td>SD Huesca</td>\n",
              "      <td>C</td>\n",
              "    </tr>\n",
              "    <tr>\n",
              "      <th>19</th>\n",
              "      <td>D. Alavés</td>\n",
              "      <td>C</td>\n",
              "    </tr>\n",
              "  </tbody>\n",
              "</table>\n",
              "</div>"
            ],
            "text/plain": [
              "                nombre categoria\n",
              "0         FC Barcelona         A\n",
              "1          Real Madrid         A\n",
              "2           Sevilla FC         A\n",
              "3   Atlético de Madrid         A\n",
              "4          Valencia CF         B\n",
              "5        Athletic Club         B\n",
              "6           Real Betis         B\n",
              "7            Villareal         B\n",
              "8           Levante UD         B\n",
              "9            Getafe CF         B\n",
              "10        RCD Espanyol         B\n",
              "11            RC Celta         B\n",
              "12     Real Valladolid         B\n",
              "13       Real Sociedad         B\n",
              "14      Rayo Vallecano         C\n",
              "15           Girona FC         C\n",
              "16          CD Leganés         C\n",
              "17            SD Eibar         C\n",
              "18           SD Huesca         C\n",
              "19           D. Alavés         C"
            ]
          },
          "metadata": {
            "tags": []
          },
          "execution_count": 6
        }
      ]
    },
    {
      "metadata": {
        "id": "ronhHuRduDnv",
        "colab_type": "text"
      },
      "cell_type": "markdown",
      "source": [
        "### 2.3.2. Enfrentamiento entre equipos - jornada aleatoria "
      ]
    },
    {
      "metadata": {
        "id": "3euJZol5YOM9",
        "colab_type": "text"
      },
      "cell_type": "markdown",
      "source": [
        "#### 2.3.2.1. Ordenación aleatoría de los equipos"
      ]
    },
    {
      "metadata": {
        "id": "v8q9VtbCt4vz",
        "colab_type": "text"
      },
      "cell_type": "markdown",
      "source": [
        "En el ejercio,  nos pide que diseñemos  un algoritmo que realice la asignación de los partidos de una jornada, a los horarios que maximice la audiencia. Es decir, para una jornada dada debemos de aignar los horarios de forma que obtengamos la mejor audiencia posible para esa jornada.\n",
        "\n",
        "Por lo tanto, el algoritmo que diseñemos recibirá los partidos de una jornada y debera de asignar los horarios. Como de momento solo tenemos los equipos que van a participar en la Liga, debemos de crearnos una jornada para poder probar el algoritmo.\n",
        "\n",
        "Para ello nos creamos una función que cree una jornada, donde los enfrentamientos serán entre los equipos pares contra los impares. Por ejemplo, el equipo en la posición 0 del DF se enfretará contre el 1, y el 8 contra el 9."
      ]
    },
    {
      "metadata": {
        "id": "2sS2oZ8WMCZi",
        "colab_type": "code",
        "colab": {}
      },
      "cell_type": "code",
      "source": [
        "# FUNCION para crear jornadas aleatorias \n",
        "\n",
        "# simula una elección de nombres aleatorios como se hace en la champions, lo \n",
        "# bueno es de estra estructura es que nos serviria para organizar una liga entera\n",
        "# (todas las jornadas) a prtir de esta ordenacion aleatoria. podria ser una futura\n",
        "# mejora\n",
        "\n",
        "def crear_jornada_aleatoria(equipos_liga):\n",
        "  df = equipos_liga.iloc[np.random.permutation(len(equipos_liga))]#ordenacion aleatoria\n",
        "  return df"
      ],
      "execution_count": 0,
      "outputs": []
    },
    {
      "metadata": {
        "id": "9nkTZsG1w-Wh",
        "colab_type": "code",
        "colab": {}
      },
      "cell_type": "code",
      "source": [
        "jornada_aleatoria = crear_jornada_aleatoria(equipos_liga)# Obtener jornada aleatoria"
      ],
      "execution_count": 0,
      "outputs": []
    },
    {
      "metadata": {
        "id": "tO8ZJsQZx3Er",
        "colab_type": "code",
        "outputId": "99cfe88d-35cc-4014-a88a-76ae45c0727b",
        "colab": {
          "base_uri": "https://localhost:8080/",
          "height": 669
        }
      },
      "cell_type": "code",
      "source": [
        "jornada_aleatoria # mostrar jornada creada"
      ],
      "execution_count": 9,
      "outputs": [
        {
          "output_type": "execute_result",
          "data": {
            "text/html": [
              "<div>\n",
              "<style scoped>\n",
              "    .dataframe tbody tr th:only-of-type {\n",
              "        vertical-align: middle;\n",
              "    }\n",
              "\n",
              "    .dataframe tbody tr th {\n",
              "        vertical-align: top;\n",
              "    }\n",
              "\n",
              "    .dataframe thead th {\n",
              "        text-align: right;\n",
              "    }\n",
              "</style>\n",
              "<table border=\"1\" class=\"dataframe\">\n",
              "  <thead>\n",
              "    <tr style=\"text-align: right;\">\n",
              "      <th></th>\n",
              "      <th>nombre</th>\n",
              "      <th>categoria</th>\n",
              "    </tr>\n",
              "  </thead>\n",
              "  <tbody>\n",
              "    <tr>\n",
              "      <th>16</th>\n",
              "      <td>CD Leganés</td>\n",
              "      <td>C</td>\n",
              "    </tr>\n",
              "    <tr>\n",
              "      <th>9</th>\n",
              "      <td>Getafe CF</td>\n",
              "      <td>B</td>\n",
              "    </tr>\n",
              "    <tr>\n",
              "      <th>13</th>\n",
              "      <td>Real Sociedad</td>\n",
              "      <td>B</td>\n",
              "    </tr>\n",
              "    <tr>\n",
              "      <th>0</th>\n",
              "      <td>FC Barcelona</td>\n",
              "      <td>A</td>\n",
              "    </tr>\n",
              "    <tr>\n",
              "      <th>5</th>\n",
              "      <td>Athletic Club</td>\n",
              "      <td>B</td>\n",
              "    </tr>\n",
              "    <tr>\n",
              "      <th>7</th>\n",
              "      <td>Villareal</td>\n",
              "      <td>B</td>\n",
              "    </tr>\n",
              "    <tr>\n",
              "      <th>11</th>\n",
              "      <td>RC Celta</td>\n",
              "      <td>B</td>\n",
              "    </tr>\n",
              "    <tr>\n",
              "      <th>15</th>\n",
              "      <td>Girona FC</td>\n",
              "      <td>C</td>\n",
              "    </tr>\n",
              "    <tr>\n",
              "      <th>3</th>\n",
              "      <td>Atlético de Madrid</td>\n",
              "      <td>A</td>\n",
              "    </tr>\n",
              "    <tr>\n",
              "      <th>17</th>\n",
              "      <td>SD Eibar</td>\n",
              "      <td>C</td>\n",
              "    </tr>\n",
              "    <tr>\n",
              "      <th>18</th>\n",
              "      <td>SD Huesca</td>\n",
              "      <td>C</td>\n",
              "    </tr>\n",
              "    <tr>\n",
              "      <th>2</th>\n",
              "      <td>Sevilla FC</td>\n",
              "      <td>A</td>\n",
              "    </tr>\n",
              "    <tr>\n",
              "      <th>12</th>\n",
              "      <td>Real Valladolid</td>\n",
              "      <td>B</td>\n",
              "    </tr>\n",
              "    <tr>\n",
              "      <th>8</th>\n",
              "      <td>Levante UD</td>\n",
              "      <td>B</td>\n",
              "    </tr>\n",
              "    <tr>\n",
              "      <th>14</th>\n",
              "      <td>Rayo Vallecano</td>\n",
              "      <td>C</td>\n",
              "    </tr>\n",
              "    <tr>\n",
              "      <th>10</th>\n",
              "      <td>RCD Espanyol</td>\n",
              "      <td>B</td>\n",
              "    </tr>\n",
              "    <tr>\n",
              "      <th>1</th>\n",
              "      <td>Real Madrid</td>\n",
              "      <td>A</td>\n",
              "    </tr>\n",
              "    <tr>\n",
              "      <th>6</th>\n",
              "      <td>Real Betis</td>\n",
              "      <td>B</td>\n",
              "    </tr>\n",
              "    <tr>\n",
              "      <th>19</th>\n",
              "      <td>D. Alavés</td>\n",
              "      <td>C</td>\n",
              "    </tr>\n",
              "    <tr>\n",
              "      <th>4</th>\n",
              "      <td>Valencia CF</td>\n",
              "      <td>B</td>\n",
              "    </tr>\n",
              "  </tbody>\n",
              "</table>\n",
              "</div>"
            ],
            "text/plain": [
              "                nombre categoria\n",
              "16          CD Leganés         C\n",
              "9            Getafe CF         B\n",
              "13       Real Sociedad         B\n",
              "0         FC Barcelona         A\n",
              "5        Athletic Club         B\n",
              "7            Villareal         B\n",
              "11            RC Celta         B\n",
              "15           Girona FC         C\n",
              "3   Atlético de Madrid         A\n",
              "17            SD Eibar         C\n",
              "18           SD Huesca         C\n",
              "2           Sevilla FC         A\n",
              "12     Real Valladolid         B\n",
              "8           Levante UD         B\n",
              "14      Rayo Vallecano         C\n",
              "10        RCD Espanyol         B\n",
              "1          Real Madrid         A\n",
              "6           Real Betis         B\n",
              "19           D. Alavés         C\n",
              "4          Valencia CF         B"
            ]
          },
          "metadata": {
            "tags": []
          },
          "execution_count": 9
        }
      ]
    },
    {
      "metadata": {
        "id": "mfsHUzodYW41",
        "colab_type": "text"
      },
      "cell_type": "markdown",
      "source": [
        "#### 2.3.2.1. Data Frame de la jornada"
      ]
    },
    {
      "metadata": {
        "id": "p4F57K4K9-8G",
        "colab_type": "text"
      },
      "cell_type": "markdown",
      "source": [
        "Como hemos dicho en el ejercico 1, N es el número de partidos. Como teneos estructurada la jornada ahora, no es sencillo de ver, además no es sencilllo para que el cliente o cualquier persona consulte la jornada. Por ello, creamos un Data Frame (más fácil de ver los datos) donde se contienen:\n",
        "\n",
        "- Numero generado por el código ASCII de las clases de los equipos (cat_num)\n",
        "- Calase del partido (categoria)\n",
        "- Nombre de los equipos que se enfrentan (equipos)"
      ]
    },
    {
      "metadata": {
        "id": "Dae9JDj-2K05",
        "colab_type": "code",
        "colab": {}
      },
      "cell_type": "code",
      "source": [
        "# Creacion de un DF con las columnas:\n",
        "#    - Numero generado por el código ASCII de las clases de los equipos  (cat_num)\n",
        "#    - Calase del partido (categoria)\n",
        "#    - Nombre de los equipos que se enfrentan (equipos)\n",
        "\n",
        "# Cada fila contiene los datos de un enfrentamiento\n",
        "\n",
        "def crear_DF_jornada(df_original):\n",
        "  df_jornada = pd.DataFrame(columns=('cat_num','categoria','equipos'))          # 1\n",
        "  \n",
        "  for i in range(0,len(df_original),2):                                         # n/2\n",
        "    # obtener valor de la categoria de cada equipo (A, B o C):\n",
        "    cat_1 = df_original.iloc(axis=0)[i]['categoria']                            \n",
        "    cat_2 = df_original.iloc(axis=0)[i+1]['categoria']\n",
        "  \n",
        "    # Para una correcta orgonizacion de los partidos de mayor a menor audiencia, \n",
        "    # debemos de tener en cuenta que aunque es lo mismo un partidos AC que CA, en\n",
        "    #cuanto audiencia, no es lo mismo en ordenacion del valor.\n",
        "    # AC = 6567 y CA= 6765 nos interesa la cominacion de AC no la de CA. Para que\n",
        "    # sea asi usamos el siguiente condicional\n",
        "    if cat_1 < cat_2:\n",
        "      cp = cat_1 + cat_2 # Categoria del partido\n",
        "      cn = int(str(ord(cat_1)) + str(ord(cat_2)))# Categoria numerica\n",
        "      nom = df_original.iloc(axis=0)[i]['nombre'] + '  - vs -  '+ df_original.iloc(axis=0)[i+1]['nombre']# nombre de equipos\n",
        "    \n",
        "    else:\n",
        "      cp = cat_2 + cat_1 # Categoria del partido\n",
        "      cn = int(str(ord(cat_2)) + str(ord(cat_1)))# Categoria numerica\n",
        "      nom = df_original.iloc(axis=0)[i+1]['nombre'] + '  - vs -  '+ df_original.iloc(axis=0)[i]['nombre']\n",
        "  \n",
        "    # Asignamos fila al DF (enfrentamiento entre dos equipos)\n",
        "    df_jornada.loc[len(df_jornada)]=[cn,cp,nom]\n",
        "    \n",
        "  return df_jornada"
      ],
      "execution_count": 0,
      "outputs": []
    },
    {
      "metadata": {
        "id": "-l5pKMFw6V4H",
        "colab_type": "code",
        "colab": {}
      },
      "cell_type": "code",
      "source": [
        "# obtener un DF con los partidos de forma legible\n",
        "df_jornada = crear_DF_jornada(jornada_aleatoria)"
      ],
      "execution_count": 0,
      "outputs": []
    },
    {
      "metadata": {
        "id": "6ueubKFq4Kwh",
        "colab_type": "code",
        "outputId": "9255748a-2636-4554-c893-f8da9abac5dc",
        "colab": {
          "base_uri": "https://localhost:8080/",
          "height": 359
        }
      },
      "cell_type": "code",
      "source": [
        "df_jornada # mostrar resultados"
      ],
      "execution_count": 12,
      "outputs": [
        {
          "output_type": "execute_result",
          "data": {
            "text/html": [
              "<div>\n",
              "<style scoped>\n",
              "    .dataframe tbody tr th:only-of-type {\n",
              "        vertical-align: middle;\n",
              "    }\n",
              "\n",
              "    .dataframe tbody tr th {\n",
              "        vertical-align: top;\n",
              "    }\n",
              "\n",
              "    .dataframe thead th {\n",
              "        text-align: right;\n",
              "    }\n",
              "</style>\n",
              "<table border=\"1\" class=\"dataframe\">\n",
              "  <thead>\n",
              "    <tr style=\"text-align: right;\">\n",
              "      <th></th>\n",
              "      <th>cat_num</th>\n",
              "      <th>categoria</th>\n",
              "      <th>equipos</th>\n",
              "    </tr>\n",
              "  </thead>\n",
              "  <tbody>\n",
              "    <tr>\n",
              "      <th>0</th>\n",
              "      <td>6667</td>\n",
              "      <td>BC</td>\n",
              "      <td>Getafe CF  - vs -  CD Leganés</td>\n",
              "    </tr>\n",
              "    <tr>\n",
              "      <th>1</th>\n",
              "      <td>6566</td>\n",
              "      <td>AB</td>\n",
              "      <td>FC Barcelona  - vs -  Real Sociedad</td>\n",
              "    </tr>\n",
              "    <tr>\n",
              "      <th>2</th>\n",
              "      <td>6666</td>\n",
              "      <td>BB</td>\n",
              "      <td>Villareal  - vs -  Athletic Club</td>\n",
              "    </tr>\n",
              "    <tr>\n",
              "      <th>3</th>\n",
              "      <td>6667</td>\n",
              "      <td>BC</td>\n",
              "      <td>RC Celta  - vs -  Girona FC</td>\n",
              "    </tr>\n",
              "    <tr>\n",
              "      <th>4</th>\n",
              "      <td>6567</td>\n",
              "      <td>AC</td>\n",
              "      <td>Atlético de Madrid  - vs -  SD Eibar</td>\n",
              "    </tr>\n",
              "    <tr>\n",
              "      <th>5</th>\n",
              "      <td>6567</td>\n",
              "      <td>AC</td>\n",
              "      <td>Sevilla FC  - vs -  SD Huesca</td>\n",
              "    </tr>\n",
              "    <tr>\n",
              "      <th>6</th>\n",
              "      <td>6666</td>\n",
              "      <td>BB</td>\n",
              "      <td>Levante UD  - vs -  Real Valladolid</td>\n",
              "    </tr>\n",
              "    <tr>\n",
              "      <th>7</th>\n",
              "      <td>6667</td>\n",
              "      <td>BC</td>\n",
              "      <td>RCD Espanyol  - vs -  Rayo Vallecano</td>\n",
              "    </tr>\n",
              "    <tr>\n",
              "      <th>8</th>\n",
              "      <td>6566</td>\n",
              "      <td>AB</td>\n",
              "      <td>Real Madrid  - vs -  Real Betis</td>\n",
              "    </tr>\n",
              "    <tr>\n",
              "      <th>9</th>\n",
              "      <td>6667</td>\n",
              "      <td>BC</td>\n",
              "      <td>Valencia CF  - vs -  D. Alavés</td>\n",
              "    </tr>\n",
              "  </tbody>\n",
              "</table>\n",
              "</div>"
            ],
            "text/plain": [
              "  cat_num categoria                               equipos\n",
              "0    6667        BC         Getafe CF  - vs -  CD Leganés\n",
              "1    6566        AB   FC Barcelona  - vs -  Real Sociedad\n",
              "2    6666        BB      Villareal  - vs -  Athletic Club\n",
              "3    6667        BC           RC Celta  - vs -  Girona FC\n",
              "4    6567        AC  Atlético de Madrid  - vs -  SD Eibar\n",
              "5    6567        AC         Sevilla FC  - vs -  SD Huesca\n",
              "6    6666        BB   Levante UD  - vs -  Real Valladolid\n",
              "7    6667        BC  RCD Espanyol  - vs -  Rayo Vallecano\n",
              "8    6566        AB       Real Madrid  - vs -  Real Betis\n",
              "9    6667        BC        Valencia CF  - vs -  D. Alavés"
            ]
          },
          "metadata": {
            "tags": []
          },
          "execution_count": 12
        }
      ]
    },
    {
      "metadata": {
        "id": "xlm3zjOLXmRs",
        "colab_type": "text"
      },
      "cell_type": "markdown",
      "source": [
        "#### 2.3.2.1. Función de unión"
      ]
    },
    {
      "metadata": {
        "id": "PQXqzuZQY0Dc",
        "colab_type": "text"
      },
      "cell_type": "markdown",
      "source": [
        "Para la obtención de la jornada lista para calcular la audiencia máxima mediante nuestro algoritmo:"
      ]
    },
    {
      "metadata": {
        "id": "JltdvbngZCLk",
        "colab_type": "code",
        "colab": {}
      },
      "cell_type": "code",
      "source": [
        "def obterner_enfrentamientos_jornada_aleatorios(equipos_liga):\n",
        "  # Obtener jornada aleatoria a partir de los equipos del torneo\n",
        "  jornada_aleatoria = crear_jornada_aleatoria(equipos_liga)# Obtener jornada aleatoria\n",
        "  \n",
        "  # obtener un DF con los partidos de forma legible (Formato de nuestra funcion)\n",
        "  return crear_DF_jornada(jornada_aleatoria) "
      ],
      "execution_count": 0,
      "outputs": []
    },
    {
      "metadata": {
        "id": "MYK7Dsmh3c4d",
        "colab_type": "text"
      },
      "cell_type": "markdown",
      "source": [
        "# EJERCICIO 3 (*)"
      ]
    },
    {
      "metadata": {
        "id": "7Z9U2W7bi-XS",
        "colab_type": "text"
      },
      "cell_type": "markdown",
      "source": [
        "Según el modelo para el espacio de soluciones<br>\n",
        "(*)¿Cual es la función objetivo?\n",
        "\n",
        "(*)¿Es un problema de maximización o minimización?"
      ]
    },
    {
      "metadata": {
        "id": "hBalWLM7j1_d",
        "colab_type": "text"
      },
      "cell_type": "markdown",
      "source": [
        "**Respuesta**"
      ]
    },
    {
      "metadata": {
        "id": "7nkv0N-5jTKA",
        "colab_type": "text"
      },
      "cell_type": "markdown",
      "source": [
        "La función objetivo es del tipo:\n",
        "\n",
        "> f(x1, ..., xn) = c1·x1 + ... + cn·xn\n",
        "\n",
        "donde:\n",
        "\n",
        "- x1, .., xn = son las audiencias de cada partido\n",
        "- c1, .., cn = son los coeficientes te reducción de audienzas (en función de los horarios)\n",
        "\n",
        "Se trata de un problema de maxixación, donde debemos obtener la máxima audiencia para la jornada. "
      ]
    },
    {
      "metadata": {
        "id": "1I0hwqc13hHD",
        "colab_type": "text"
      },
      "cell_type": "markdown",
      "source": [
        "# EJERCICIO 4"
      ]
    },
    {
      "metadata": {
        "id": "rlnTYgY1j6I2",
        "colab_type": "text"
      },
      "cell_type": "markdown",
      "source": [
        "Diseña un algoritmo para resolver el problema por fuerza bruta"
      ]
    },
    {
      "metadata": {
        "id": "70rDgxYXkC8r",
        "colab_type": "text"
      },
      "cell_type": "markdown",
      "source": [
        "**Respuesta**"
      ]
    },
    {
      "metadata": {
        "id": "VGW3DIlK8tqi",
        "colab_type": "text"
      },
      "cell_type": "markdown",
      "source": [
        "El peor caso que hemos estudiado de ordenación (y me atrevería a decir que es el por orden para un algoritmo de búsqueda), es el de orden n². Por ello para el metodo porfuerza bruta he seleccionado el algoritmo de **ordenación por selección**, pues tiene una complejidad cuadrática **O (n) = n²** en todos los casos, porque siempre va a realizar las mismas operaciones."
      ]
    },
    {
      "metadata": {
        "id": "Xl803OdX8zfu",
        "colab_type": "text"
      },
      "cell_type": "markdown",
      "source": [
        "Si hay que ordenar de menor a mayor el algoritmo, busca el menor número de todos dentro de la lista. Una vez localizado, lo pone en primer lugar intercambiándolo con el que allí esté. En la siguiente iteración, realiza la misma operación, pero ahora considerando la sublista a partir del segundo valor, y así sucesivamente hasta completar todos los elementos de la lista."
      ]
    },
    {
      "metadata": {
        "id": "XR3xhmWm9AXO",
        "colab_type": "text"
      },
      "cell_type": "markdown",
      "source": [
        "![Explicacion](https://camo.githubusercontent.com/bd8a203638da3f86d3f42604558e29e79c072dd1/687474703a2f2f7777772e63732e726d69742e6564752e61752f6f6e6c696e652f626c61636b626f6172642f636861707465722f30352f646f63756d656e74732f636f6e747269627574652f636861707465722f30392f696d616765732f73656c656374696f6e2d736f72742e676966)\n",
        "[Fuente](https://github.com/jainaman224/Algo_Ds_Notes/tree/master/Selection_Sort)"
      ]
    },
    {
      "metadata": {
        "id": "Ni3GnKOXHgjF",
        "colab_type": "text"
      },
      "cell_type": "markdown",
      "source": [
        "## 4.1. Ordenación por selección de menor a mayor"
      ]
    },
    {
      "metadata": {
        "id": "WZ06W_35KpTZ",
        "colab_type": "text"
      },
      "cell_type": "markdown",
      "source": [
        "Una vez tenemos los datos de los datos de la jornada estructurados, debemos de ordanar los datos en base a la columna 'cat_num'. He creado una función que utiliza implementa el algoritmo de *ordenación por selección*  (donde la ordenación se realiza de menor a mayor) para DF, y ordena las filas en función de los datos de una columna.\n",
        "\n",
        "La función recibe el DF a ordenar y la columna sobre la que queremos ordenar:"
      ]
    },
    {
      "metadata": {
        "id": "pCFcLyhp9hcX",
        "colab_type": "code",
        "colab": {}
      },
      "cell_type": "code",
      "source": [
        "# ordenacion ascendente (menor a mayor)\n",
        "def ordenacion_seleccion(df,col_ordenar):\n",
        "  \n",
        "  df_ordenado = df.copy() # para conservar df sin ordenar\n",
        "  \n",
        "  # De esta forma no tendremos que estar cambiando una fila por otra df. A costa\n",
        "  # de memoria, ganamos en simplicidad del codigo\n",
        "  for i in range(len(df)):\n",
        "    posicion_min = i # Almacenaremos el indice del menor valor\n",
        "    \n",
        "    for j in range(i+1,len(df)): # Recorremos el resto de la lista para ver cual es el menor de los que quedan\n",
        "      # El valor en 'posicion_min' es mayor que en 'j' --> Si : valor en j menor que en 'posicion_min'\n",
        "          \n",
        "      if (df_ordenado.iloc(axis=0)[posicion_min][col_ordenar] > df_ordenado.iloc(axis=0)[j][col_ordenar]):\n",
        "        posicion_min = j # el valor menor pasa a ser el que hay en 'j', almaceno incice en 'posicion_min'\n",
        "\n",
        "    # valor actual en la ultima posicion de la sublista ordenada (a excepcion del indice 'i'):\n",
        "    aux = df_ordenado.iloc(axis=0)[i].copy()\n",
        "    # si no pones  'copy' aux se mosifica en la siguiente intruccion, y por lo tanto \n",
        "    # estaria dos veces el valor de df_ordenado.iloc(axis=0)[posicion_min]\n",
        "    \n",
        "    # Valor que debe de ir en 'i' (menor que i+n y menor que i-n):\n",
        "    df_ordenado.loc[i] = df_ordenado.iloc(axis=0)[posicion_min]\n",
        "    # intarcambiamos, el valor original en 'i' pasa donde estaba el menor:\n",
        "    df_ordenado.loc[posicion_min] = aux\n",
        "\n",
        "  return df_ordenado    \n",
        "      "
      ],
      "execution_count": 0,
      "outputs": []
    },
    {
      "metadata": {
        "id": "YYZ8NlzYLrrF",
        "colab_type": "code",
        "colab": {}
      },
      "cell_type": "code",
      "source": [
        "partidos_ordenados = ordenacion_seleccion(df_jornada,'cat_num')"
      ],
      "execution_count": 0,
      "outputs": []
    },
    {
      "metadata": {
        "id": "vRQYbY7pssa8",
        "colab_type": "code",
        "outputId": "25f99161-3e89-46d3-ba60-6cc59be8b9b4",
        "colab": {
          "base_uri": "https://localhost:8080/",
          "height": 359
        }
      },
      "cell_type": "code",
      "source": [
        "partidos_ordenados"
      ],
      "execution_count": 16,
      "outputs": [
        {
          "output_type": "execute_result",
          "data": {
            "text/html": [
              "<div>\n",
              "<style scoped>\n",
              "    .dataframe tbody tr th:only-of-type {\n",
              "        vertical-align: middle;\n",
              "    }\n",
              "\n",
              "    .dataframe tbody tr th {\n",
              "        vertical-align: top;\n",
              "    }\n",
              "\n",
              "    .dataframe thead th {\n",
              "        text-align: right;\n",
              "    }\n",
              "</style>\n",
              "<table border=\"1\" class=\"dataframe\">\n",
              "  <thead>\n",
              "    <tr style=\"text-align: right;\">\n",
              "      <th></th>\n",
              "      <th>cat_num</th>\n",
              "      <th>categoria</th>\n",
              "      <th>equipos</th>\n",
              "    </tr>\n",
              "  </thead>\n",
              "  <tbody>\n",
              "    <tr>\n",
              "      <th>0</th>\n",
              "      <td>6566</td>\n",
              "      <td>AB</td>\n",
              "      <td>FC Barcelona  - vs -  Real Sociedad</td>\n",
              "    </tr>\n",
              "    <tr>\n",
              "      <th>1</th>\n",
              "      <td>6566</td>\n",
              "      <td>AB</td>\n",
              "      <td>Real Madrid  - vs -  Real Betis</td>\n",
              "    </tr>\n",
              "    <tr>\n",
              "      <th>2</th>\n",
              "      <td>6567</td>\n",
              "      <td>AC</td>\n",
              "      <td>Atlético de Madrid  - vs -  SD Eibar</td>\n",
              "    </tr>\n",
              "    <tr>\n",
              "      <th>3</th>\n",
              "      <td>6567</td>\n",
              "      <td>AC</td>\n",
              "      <td>Sevilla FC  - vs -  SD Huesca</td>\n",
              "    </tr>\n",
              "    <tr>\n",
              "      <th>4</th>\n",
              "      <td>6666</td>\n",
              "      <td>BB</td>\n",
              "      <td>Villareal  - vs -  Athletic Club</td>\n",
              "    </tr>\n",
              "    <tr>\n",
              "      <th>5</th>\n",
              "      <td>6666</td>\n",
              "      <td>BB</td>\n",
              "      <td>Levante UD  - vs -  Real Valladolid</td>\n",
              "    </tr>\n",
              "    <tr>\n",
              "      <th>6</th>\n",
              "      <td>6667</td>\n",
              "      <td>BC</td>\n",
              "      <td>RC Celta  - vs -  Girona FC</td>\n",
              "    </tr>\n",
              "    <tr>\n",
              "      <th>7</th>\n",
              "      <td>6667</td>\n",
              "      <td>BC</td>\n",
              "      <td>RCD Espanyol  - vs -  Rayo Vallecano</td>\n",
              "    </tr>\n",
              "    <tr>\n",
              "      <th>8</th>\n",
              "      <td>6667</td>\n",
              "      <td>BC</td>\n",
              "      <td>Getafe CF  - vs -  CD Leganés</td>\n",
              "    </tr>\n",
              "    <tr>\n",
              "      <th>9</th>\n",
              "      <td>6667</td>\n",
              "      <td>BC</td>\n",
              "      <td>Valencia CF  - vs -  D. Alavés</td>\n",
              "    </tr>\n",
              "  </tbody>\n",
              "</table>\n",
              "</div>"
            ],
            "text/plain": [
              "  cat_num categoria                               equipos\n",
              "0    6566        AB   FC Barcelona  - vs -  Real Sociedad\n",
              "1    6566        AB       Real Madrid  - vs -  Real Betis\n",
              "2    6567        AC  Atlético de Madrid  - vs -  SD Eibar\n",
              "3    6567        AC         Sevilla FC  - vs -  SD Huesca\n",
              "4    6666        BB      Villareal  - vs -  Athletic Club\n",
              "5    6666        BB   Levante UD  - vs -  Real Valladolid\n",
              "6    6667        BC           RC Celta  - vs -  Girona FC\n",
              "7    6667        BC  RCD Espanyol  - vs -  Rayo Vallecano\n",
              "8    6667        BC         Getafe CF  - vs -  CD Leganés\n",
              "9    6667        BC        Valencia CF  - vs -  D. Alavés"
            ]
          },
          "metadata": {
            "tags": []
          },
          "execution_count": 16
        }
      ]
    },
    {
      "metadata": {
        "id": "e3131_V4Hwjl",
        "colab_type": "text"
      },
      "cell_type": "markdown",
      "source": [
        "## 4.2. Ordenación por selección de mayor a menor"
      ]
    },
    {
      "metadata": {
        "id": "HRwxP3tsLCrj",
        "colab_type": "text"
      },
      "cell_type": "markdown",
      "source": [
        "Para poder asignar los coeficientes a la lista de partidos ordenados de mayor a menor audiancia (partidos_ordenados) calculada en el apartado anterior, necesitamos ordenar de mayor a menor los coeficientes de reduccion de las audiencias.\n",
        "\n",
        "Si los coeficientes son los mismos para todas las jornadas (sin influir mes, dia, ..) solo necesitamos ordenarlos una vez. Realmente podríamos usar la función sort de pandas para ordenar la lista, pero como la implementación es la misma que la anterior, creamos la función quick sort que ordena de mayor a menor.\n",
        "\n",
        "La función implementa el algoritmo de *ordenación por selección* (ordenación de mayor a menor), y  recibe el DF a ordenar y la columna sobre la que queremos ordenar:"
      ]
    },
    {
      "metadata": {
        "colab_type": "code",
        "id": "CnXpkNHaGeWi",
        "colab": {}
      },
      "cell_type": "code",
      "source": [
        "# ordenacion descendente (mayor a menor)\n",
        "def ordenacion_seleccion_mayor(df,col_ordenar):\n",
        "  \n",
        "  df_ordenado = df.copy() # para conservar df sin ordenar\n",
        "  \n",
        "  # De esta forma no tendremos que estar cambiando una fila por otra df. A costa\n",
        "  # de memoria, ganamos en simplicidad del codigo\n",
        "  for i in range(len(df)):\n",
        "    posicion_max = i # Almacenaremos el indice del mayor valor\n",
        "      \n",
        "    for j in range(i+1,len(df)): # Recorremos el resto de la lista para ver cual es el mayor de los que quedan\n",
        "      # El valor en 'posicion_max' es mayor que en 'j' --> Si : valor en j mayor que en 'posicion_max'\n",
        "          \n",
        "      if (df_ordenado.iloc(axis=0)[posicion_max][col_ordenar] <  df_ordenado.iloc(axis=0)[j][col_ordenar]):\n",
        "        posicion_max = j # el valor mayor pasa a ser el que hay en 'j', almaceno incice en 'posicion_max'\n",
        "          \n",
        "    # valor actual en la ultima posicion de la sublista ordenada (a excepcion del indice 'i'):\n",
        "    aux = df_ordenado.iloc(axis=0)[i].copy()\n",
        "    # si no pones  'copy' aux se mosifica en la siguiente intruccion, y por lo tanto \n",
        "    # estaria dos veces el valor de df_ordenado.iloc(axis=0)[posicion_min]\n",
        "    \n",
        "    # Valor que debe de ir en 'i' (mayor que i+n y mayor que i-n):\n",
        "    df_ordenado.loc[i] = df_ordenado.iloc(axis=0)[posicion_max]\n",
        "    # intarcambiamos, el valor original en 'i' pasa donde estaba el mayor:\n",
        "    df_ordenado.loc[posicion_max] = aux\n",
        "      \n",
        "  return df_ordenado    \n",
        "      "
      ],
      "execution_count": 0,
      "outputs": []
    },
    {
      "metadata": {
        "id": "k1FpvQJQCixR",
        "colab_type": "code",
        "colab": {}
      },
      "cell_type": "code",
      "source": [
        "cr_audiencias_ordenado = ordenacion_seleccion_mayor(cr_audiencias, 'cr')"
      ],
      "execution_count": 0,
      "outputs": []
    },
    {
      "metadata": {
        "id": "pDA-rg3Gj5Lz",
        "colab_type": "code",
        "outputId": "a560ebc5-4ce1-4390-802c-16505437cfb1",
        "colab": {
          "base_uri": "https://localhost:8080/",
          "height": 359
        }
      },
      "cell_type": "code",
      "source": [
        "cr_audiencias_ordenado"
      ],
      "execution_count": 19,
      "outputs": [
        {
          "output_type": "execute_result",
          "data": {
            "text/html": [
              "<div>\n",
              "<style scoped>\n",
              "    .dataframe tbody tr th:only-of-type {\n",
              "        vertical-align: middle;\n",
              "    }\n",
              "\n",
              "    .dataframe tbody tr th {\n",
              "        vertical-align: top;\n",
              "    }\n",
              "\n",
              "    .dataframe thead th {\n",
              "        text-align: right;\n",
              "    }\n",
              "</style>\n",
              "<table border=\"1\" class=\"dataframe\">\n",
              "  <thead>\n",
              "    <tr style=\"text-align: right;\">\n",
              "      <th></th>\n",
              "      <th>dia</th>\n",
              "      <th>cr</th>\n",
              "    </tr>\n",
              "  </thead>\n",
              "  <tbody>\n",
              "    <tr>\n",
              "      <th>0</th>\n",
              "      <td>sabado_20h</td>\n",
              "      <td>1.00</td>\n",
              "    </tr>\n",
              "    <tr>\n",
              "      <th>1</th>\n",
              "      <td>domingo_20h</td>\n",
              "      <td>1.00</td>\n",
              "    </tr>\n",
              "    <tr>\n",
              "      <th>2</th>\n",
              "      <td>domingo_18h</td>\n",
              "      <td>0.85</td>\n",
              "    </tr>\n",
              "    <tr>\n",
              "      <th>3</th>\n",
              "      <td>sabado_18h</td>\n",
              "      <td>0.80</td>\n",
              "    </tr>\n",
              "    <tr>\n",
              "      <th>4</th>\n",
              "      <td>domingo_16h</td>\n",
              "      <td>0.75</td>\n",
              "    </tr>\n",
              "    <tr>\n",
              "      <th>5</th>\n",
              "      <td>sabado_16h</td>\n",
              "      <td>0.70</td>\n",
              "    </tr>\n",
              "    <tr>\n",
              "      <th>6</th>\n",
              "      <td>sabado_12h</td>\n",
              "      <td>0.55</td>\n",
              "    </tr>\n",
              "    <tr>\n",
              "      <th>7</th>\n",
              "      <td>domingo_12h</td>\n",
              "      <td>0.45</td>\n",
              "    </tr>\n",
              "    <tr>\n",
              "      <th>8</th>\n",
              "      <td>viernes_20h</td>\n",
              "      <td>0.40</td>\n",
              "    </tr>\n",
              "    <tr>\n",
              "      <th>9</th>\n",
              "      <td>lunes_20h</td>\n",
              "      <td>0.40</td>\n",
              "    </tr>\n",
              "  </tbody>\n",
              "</table>\n",
              "</div>"
            ],
            "text/plain": [
              "           dia    cr\n",
              "0   sabado_20h  1.00\n",
              "1  domingo_20h  1.00\n",
              "2  domingo_18h  0.85\n",
              "3   sabado_18h  0.80\n",
              "4  domingo_16h  0.75\n",
              "5   sabado_16h  0.70\n",
              "6   sabado_12h  0.55\n",
              "7  domingo_12h  0.45\n",
              "8  viernes_20h  0.40\n",
              "9    lunes_20h  0.40"
            ]
          },
          "metadata": {
            "tags": []
          },
          "execution_count": 19
        }
      ]
    },
    {
      "metadata": {
        "colab_type": "text",
        "id": "bmaqAbiItrDy"
      },
      "cell_type": "markdown",
      "source": [
        "## 4.3. Audiencia"
      ]
    },
    {
      "metadata": {
        "colab_type": "text",
        "id": "zBYNuyt3trD3"
      },
      "cell_type": "markdown",
      "source": [
        "Para unir dos DF's necesitamos que los indices coincidan (o almenos como los quiero unir). Por esta razon cambiamos los índices de *cr_audiencias_ordenado* por los de *partidos_ordenados*: \n",
        "\n",
        "(Este problema se presenta en la ordenación con quick sort, en el caso de la ordenación por selección no debería de haber este problema)"
      ]
    },
    {
      "metadata": {
        "colab_type": "code",
        "id": "v4ZtbagJtrD5",
        "colab": {}
      },
      "cell_type": "code",
      "source": [
        "cr_audiencias_ordenado.index = partidos_ordenados.index"
      ],
      "execution_count": 0,
      "outputs": []
    },
    {
      "metadata": {
        "colab_type": "text",
        "id": "Oa2lDCsNtrD9"
      },
      "cell_type": "markdown",
      "source": [
        "Añadimos las columnas de dia, y cr para tenerlo asignado a cada partido:"
      ]
    },
    {
      "metadata": {
        "colab_type": "code",
        "id": "vNifC4tktrD-",
        "colab": {}
      },
      "cell_type": "code",
      "source": [
        "partidos_ordenados[['dia','cr']] = cr_audiencias_ordenado"
      ],
      "execution_count": 0,
      "outputs": []
    },
    {
      "metadata": {
        "colab_type": "code",
        "outputId": "98c364ee-1309-4e25-b6e8-18c223c5b658",
        "id": "h2p8XjSztrEB",
        "colab": {
          "base_uri": "https://localhost:8080/",
          "height": 359
        }
      },
      "cell_type": "code",
      "source": [
        "partidos_ordenados"
      ],
      "execution_count": 22,
      "outputs": [
        {
          "output_type": "execute_result",
          "data": {
            "text/html": [
              "<div>\n",
              "<style scoped>\n",
              "    .dataframe tbody tr th:only-of-type {\n",
              "        vertical-align: middle;\n",
              "    }\n",
              "\n",
              "    .dataframe tbody tr th {\n",
              "        vertical-align: top;\n",
              "    }\n",
              "\n",
              "    .dataframe thead th {\n",
              "        text-align: right;\n",
              "    }\n",
              "</style>\n",
              "<table border=\"1\" class=\"dataframe\">\n",
              "  <thead>\n",
              "    <tr style=\"text-align: right;\">\n",
              "      <th></th>\n",
              "      <th>cat_num</th>\n",
              "      <th>categoria</th>\n",
              "      <th>equipos</th>\n",
              "      <th>dia</th>\n",
              "      <th>cr</th>\n",
              "    </tr>\n",
              "  </thead>\n",
              "  <tbody>\n",
              "    <tr>\n",
              "      <th>0</th>\n",
              "      <td>6566</td>\n",
              "      <td>AB</td>\n",
              "      <td>FC Barcelona  - vs -  Real Sociedad</td>\n",
              "      <td>sabado_20h</td>\n",
              "      <td>1.00</td>\n",
              "    </tr>\n",
              "    <tr>\n",
              "      <th>1</th>\n",
              "      <td>6566</td>\n",
              "      <td>AB</td>\n",
              "      <td>Real Madrid  - vs -  Real Betis</td>\n",
              "      <td>domingo_20h</td>\n",
              "      <td>1.00</td>\n",
              "    </tr>\n",
              "    <tr>\n",
              "      <th>2</th>\n",
              "      <td>6567</td>\n",
              "      <td>AC</td>\n",
              "      <td>Atlético de Madrid  - vs -  SD Eibar</td>\n",
              "      <td>domingo_18h</td>\n",
              "      <td>0.85</td>\n",
              "    </tr>\n",
              "    <tr>\n",
              "      <th>3</th>\n",
              "      <td>6567</td>\n",
              "      <td>AC</td>\n",
              "      <td>Sevilla FC  - vs -  SD Huesca</td>\n",
              "      <td>sabado_18h</td>\n",
              "      <td>0.80</td>\n",
              "    </tr>\n",
              "    <tr>\n",
              "      <th>4</th>\n",
              "      <td>6666</td>\n",
              "      <td>BB</td>\n",
              "      <td>Villareal  - vs -  Athletic Club</td>\n",
              "      <td>domingo_16h</td>\n",
              "      <td>0.75</td>\n",
              "    </tr>\n",
              "    <tr>\n",
              "      <th>5</th>\n",
              "      <td>6666</td>\n",
              "      <td>BB</td>\n",
              "      <td>Levante UD  - vs -  Real Valladolid</td>\n",
              "      <td>sabado_16h</td>\n",
              "      <td>0.70</td>\n",
              "    </tr>\n",
              "    <tr>\n",
              "      <th>6</th>\n",
              "      <td>6667</td>\n",
              "      <td>BC</td>\n",
              "      <td>RC Celta  - vs -  Girona FC</td>\n",
              "      <td>sabado_12h</td>\n",
              "      <td>0.55</td>\n",
              "    </tr>\n",
              "    <tr>\n",
              "      <th>7</th>\n",
              "      <td>6667</td>\n",
              "      <td>BC</td>\n",
              "      <td>RCD Espanyol  - vs -  Rayo Vallecano</td>\n",
              "      <td>domingo_12h</td>\n",
              "      <td>0.45</td>\n",
              "    </tr>\n",
              "    <tr>\n",
              "      <th>8</th>\n",
              "      <td>6667</td>\n",
              "      <td>BC</td>\n",
              "      <td>Getafe CF  - vs -  CD Leganés</td>\n",
              "      <td>viernes_20h</td>\n",
              "      <td>0.40</td>\n",
              "    </tr>\n",
              "    <tr>\n",
              "      <th>9</th>\n",
              "      <td>6667</td>\n",
              "      <td>BC</td>\n",
              "      <td>Valencia CF  - vs -  D. Alavés</td>\n",
              "      <td>lunes_20h</td>\n",
              "      <td>0.40</td>\n",
              "    </tr>\n",
              "  </tbody>\n",
              "</table>\n",
              "</div>"
            ],
            "text/plain": [
              "  cat_num categoria                               equipos          dia    cr\n",
              "0    6566        AB   FC Barcelona  - vs -  Real Sociedad   sabado_20h  1.00\n",
              "1    6566        AB       Real Madrid  - vs -  Real Betis  domingo_20h  1.00\n",
              "2    6567        AC  Atlético de Madrid  - vs -  SD Eibar  domingo_18h  0.85\n",
              "3    6567        AC         Sevilla FC  - vs -  SD Huesca   sabado_18h  0.80\n",
              "4    6666        BB      Villareal  - vs -  Athletic Club  domingo_16h  0.75\n",
              "5    6666        BB   Levante UD  - vs -  Real Valladolid   sabado_16h  0.70\n",
              "6    6667        BC           RC Celta  - vs -  Girona FC   sabado_12h  0.55\n",
              "7    6667        BC  RCD Espanyol  - vs -  Rayo Vallecano  domingo_12h  0.45\n",
              "8    6667        BC         Getafe CF  - vs -  CD Leganés  viernes_20h  0.40\n",
              "9    6667        BC        Valencia CF  - vs -  D. Alavés    lunes_20h  0.40"
            ]
          },
          "metadata": {
            "tags": []
          },
          "execution_count": 22
        }
      ]
    },
    {
      "metadata": {
        "colab_type": "text",
        "id": "5IXR4OlntrEI"
      },
      "cell_type": "markdown",
      "source": [
        "Calculamos la audiendia esperada para el partido en función de la audiencia que genera cada partido según los equipos\n",
        "que se enfrentan y en horario de sábado a las 20h, y el coeficiente de reduccuión:"
      ]
    },
    {
      "metadata": {
        "colab_type": "code",
        "id": "GlKmi1bltrEJ",
        "colab": {}
      },
      "cell_type": "code",
      "source": [
        "# Calculamos la audiencia para cada partido con el cr asignado al partido, y la\n",
        "# audiencia de un partido de esa categoria\n",
        "\n",
        "# La audiencia de cada categoria se encuentra en un diccionario llamado \n",
        "# mejor_audiencia, donde tiene como clave la categoria de los partidos (AA,AB,...)\n",
        "\n",
        "lista_audiencia = []# lista donde almacenaremos el calculo\n",
        "\n",
        "for i in range(len(partidos_ordenados)):# recorrer el numero de filas de partidos_ordenados\n",
        "  \n",
        "  # audiencia del partido = (cr del partido) * (audiencia de un partido de esa categoria)\n",
        "  \n",
        "  # mejor_audiencia[partidos_ordenados.iloc(axis=0)[i]['categoria']])\n",
        "  # |-> Acceder ala audiencia de la catego del partido almacenada en el dicionario\n",
        "  \n",
        "  lista_audiencia.append(partidos_ordenados.iloc(axis=0)[i]['cr'] * mejor_audiencia[partidos_ordenados.iloc(axis=0)[i]['categoria']])"
      ],
      "execution_count": 0,
      "outputs": []
    },
    {
      "metadata": {
        "colab_type": "text",
        "id": "QFFrXYz3trEO"
      },
      "cell_type": "markdown",
      "source": [
        "Asignamos la audiencia en una nueva columna ( de esta forma podremos consultar la audiencia de cada partido por separado):"
      ]
    },
    {
      "metadata": {
        "colab_type": "code",
        "id": "g5ZwEb-gtrEP",
        "colab": {}
      },
      "cell_type": "code",
      "source": [
        "partidos_ordenados['audiencia']  = lista_audiencia"
      ],
      "execution_count": 0,
      "outputs": []
    },
    {
      "metadata": {
        "colab_type": "code",
        "outputId": "3245fac3-5c7d-43b4-be7b-2130bebb0ed5",
        "id": "gTheSf0htrET",
        "colab": {
          "base_uri": "https://localhost:8080/",
          "height": 359
        }
      },
      "cell_type": "code",
      "source": [
        "partidos_ordenados"
      ],
      "execution_count": 25,
      "outputs": [
        {
          "output_type": "execute_result",
          "data": {
            "text/html": [
              "<div>\n",
              "<style scoped>\n",
              "    .dataframe tbody tr th:only-of-type {\n",
              "        vertical-align: middle;\n",
              "    }\n",
              "\n",
              "    .dataframe tbody tr th {\n",
              "        vertical-align: top;\n",
              "    }\n",
              "\n",
              "    .dataframe thead th {\n",
              "        text-align: right;\n",
              "    }\n",
              "</style>\n",
              "<table border=\"1\" class=\"dataframe\">\n",
              "  <thead>\n",
              "    <tr style=\"text-align: right;\">\n",
              "      <th></th>\n",
              "      <th>cat_num</th>\n",
              "      <th>categoria</th>\n",
              "      <th>equipos</th>\n",
              "      <th>dia</th>\n",
              "      <th>cr</th>\n",
              "      <th>audiencia</th>\n",
              "    </tr>\n",
              "  </thead>\n",
              "  <tbody>\n",
              "    <tr>\n",
              "      <th>0</th>\n",
              "      <td>6566</td>\n",
              "      <td>AB</td>\n",
              "      <td>FC Barcelona  - vs -  Real Sociedad</td>\n",
              "      <td>sabado_20h</td>\n",
              "      <td>1.00</td>\n",
              "      <td>1300000.0</td>\n",
              "    </tr>\n",
              "    <tr>\n",
              "      <th>1</th>\n",
              "      <td>6566</td>\n",
              "      <td>AB</td>\n",
              "      <td>Real Madrid  - vs -  Real Betis</td>\n",
              "      <td>domingo_20h</td>\n",
              "      <td>1.00</td>\n",
              "      <td>1300000.0</td>\n",
              "    </tr>\n",
              "    <tr>\n",
              "      <th>2</th>\n",
              "      <td>6567</td>\n",
              "      <td>AC</td>\n",
              "      <td>Atlético de Madrid  - vs -  SD Eibar</td>\n",
              "      <td>domingo_18h</td>\n",
              "      <td>0.85</td>\n",
              "      <td>850000.0</td>\n",
              "    </tr>\n",
              "    <tr>\n",
              "      <th>3</th>\n",
              "      <td>6567</td>\n",
              "      <td>AC</td>\n",
              "      <td>Sevilla FC  - vs -  SD Huesca</td>\n",
              "      <td>sabado_18h</td>\n",
              "      <td>0.80</td>\n",
              "      <td>800000.0</td>\n",
              "    </tr>\n",
              "    <tr>\n",
              "      <th>4</th>\n",
              "      <td>6666</td>\n",
              "      <td>BB</td>\n",
              "      <td>Villareal  - vs -  Athletic Club</td>\n",
              "      <td>domingo_16h</td>\n",
              "      <td>0.75</td>\n",
              "      <td>675000.0</td>\n",
              "    </tr>\n",
              "    <tr>\n",
              "      <th>5</th>\n",
              "      <td>6666</td>\n",
              "      <td>BB</td>\n",
              "      <td>Levante UD  - vs -  Real Valladolid</td>\n",
              "      <td>sabado_16h</td>\n",
              "      <td>0.70</td>\n",
              "      <td>630000.0</td>\n",
              "    </tr>\n",
              "    <tr>\n",
              "      <th>6</th>\n",
              "      <td>6667</td>\n",
              "      <td>BC</td>\n",
              "      <td>RC Celta  - vs -  Girona FC</td>\n",
              "      <td>sabado_12h</td>\n",
              "      <td>0.55</td>\n",
              "      <td>412500.0</td>\n",
              "    </tr>\n",
              "    <tr>\n",
              "      <th>7</th>\n",
              "      <td>6667</td>\n",
              "      <td>BC</td>\n",
              "      <td>RCD Espanyol  - vs -  Rayo Vallecano</td>\n",
              "      <td>domingo_12h</td>\n",
              "      <td>0.45</td>\n",
              "      <td>337500.0</td>\n",
              "    </tr>\n",
              "    <tr>\n",
              "      <th>8</th>\n",
              "      <td>6667</td>\n",
              "      <td>BC</td>\n",
              "      <td>Getafe CF  - vs -  CD Leganés</td>\n",
              "      <td>viernes_20h</td>\n",
              "      <td>0.40</td>\n",
              "      <td>300000.0</td>\n",
              "    </tr>\n",
              "    <tr>\n",
              "      <th>9</th>\n",
              "      <td>6667</td>\n",
              "      <td>BC</td>\n",
              "      <td>Valencia CF  - vs -  D. Alavés</td>\n",
              "      <td>lunes_20h</td>\n",
              "      <td>0.40</td>\n",
              "      <td>300000.0</td>\n",
              "    </tr>\n",
              "  </tbody>\n",
              "</table>\n",
              "</div>"
            ],
            "text/plain": [
              "  cat_num categoria                               equipos          dia    cr  \\\n",
              "0    6566        AB   FC Barcelona  - vs -  Real Sociedad   sabado_20h  1.00   \n",
              "1    6566        AB       Real Madrid  - vs -  Real Betis  domingo_20h  1.00   \n",
              "2    6567        AC  Atlético de Madrid  - vs -  SD Eibar  domingo_18h  0.85   \n",
              "3    6567        AC         Sevilla FC  - vs -  SD Huesca   sabado_18h  0.80   \n",
              "4    6666        BB      Villareal  - vs -  Athletic Club  domingo_16h  0.75   \n",
              "5    6666        BB   Levante UD  - vs -  Real Valladolid   sabado_16h  0.70   \n",
              "6    6667        BC           RC Celta  - vs -  Girona FC   sabado_12h  0.55   \n",
              "7    6667        BC  RCD Espanyol  - vs -  Rayo Vallecano  domingo_12h  0.45   \n",
              "8    6667        BC         Getafe CF  - vs -  CD Leganés  viernes_20h  0.40   \n",
              "9    6667        BC        Valencia CF  - vs -  D. Alavés    lunes_20h  0.40   \n",
              "\n",
              "   audiencia  \n",
              "0  1300000.0  \n",
              "1  1300000.0  \n",
              "2   850000.0  \n",
              "3   800000.0  \n",
              "4   675000.0  \n",
              "5   630000.0  \n",
              "6   412500.0  \n",
              "7   337500.0  \n",
              "8   300000.0  \n",
              "9   300000.0  "
            ]
          },
          "metadata": {
            "tags": []
          },
          "execution_count": 25
        }
      ]
    },
    {
      "metadata": {
        "colab_type": "text",
        "id": "CxrT-FvAtrEY"
      },
      "cell_type": "markdown",
      "source": [
        "Para calcular la audiencia total de la jornada, solo tenemos que representar sumar las audiencias de cada partido:"
      ]
    },
    {
      "metadata": {
        "colab_type": "code",
        "outputId": "6348f6c3-76de-4b03-c7ef-74387def7d36",
        "id": "Cy9KuJMZtrEd",
        "colab": {
          "base_uri": "https://localhost:8080/",
          "height": 35
        }
      },
      "cell_type": "code",
      "source": [
        "print(\"Audiencia Total de la jornada = \", partidos_ordenados.loc(axis=1)['audiencia'].sum())"
      ],
      "execution_count": 26,
      "outputs": [
        {
          "output_type": "stream",
          "text": [
            "Audiencia Total de la jornada =  6905000.0\n"
          ],
          "name": "stdout"
        }
      ]
    },
    {
      "metadata": {
        "colab_type": "text",
        "id": "dh0o2hxkvQ7u"
      },
      "cell_type": "markdown",
      "source": [
        "## 4.4. Función para obtener la mejor organización de los partidos"
      ]
    },
    {
      "metadata": {
        "colab_type": "text",
        "id": "qtgU-0-MvQ7w"
      },
      "cell_type": "markdown",
      "source": [
        "Hasta ahora se ha explicado paso a paso el procedimiento que he desarrollado para obtener el la mejor organización de los partidos. Tener el código por separado, no le facilita al cliente el uso de nuestro programa. Por esta razón se crea una función de tipo main para que apartir de una entrada, obtengamos la organización donde se maximiza la audiencia ( que es lo que el cliente nos hapedido)."
      ]
    },
    {
      "metadata": {
        "colab_type": "code",
        "id": "rdbPBwDNvQ7x",
        "colab": {}
      },
      "cell_type": "code",
      "source": [
        "def FB_obtener_jornada_maxima_audiencia(df_jornada, cr_audiencias,mejor_audiencia,ordenar_cr = True):\n",
        "  \n",
        "  # Ordenamos los partidos en función del valor de la columna 'cat_num' \n",
        "  # (codigo ASCII) de menor a mayor, para ordenarlos de mayor a menor audiencia:\n",
        "  partidos_ordenados = ordenacion_seleccion(df_jornada,'cat_num')               #n^2\n",
        "  \n",
        "  # Ordenamos los coeficientes de reducción de audiencias de mayor a menor:\n",
        "  if ordenar_cr == True:# Si ya estan ordenados, podemos ahorrarnos realizar la ordenacion\n",
        "    cr_audiencias_ordenado = ordenacion_seleccion_mayor(cr_audiencias,'cr')     #n^2\n",
        "  \n",
        "  # Para unir dos DF's necesitamos que los indices coincidan (o almenos como \n",
        "  # los quiero unir). Por esta razon cambiamos los índices de \n",
        "  # cr_audiencias_ordenado por los de partidos_ordenados\n",
        "  cr_audiencias_ordenado.index = partidos_ordenados.index                       # C\n",
        "  \n",
        "  # Añadimos las columnas de dia, y cr para tenerlo asignado a cada partido:\n",
        "  partidos_ordenados[['dia','cr']] = cr_audiencias_ordenado                     # C\n",
        "  \n",
        "  # Calculamos la audiencia para cada partido con el cr asignado al partido, y la\n",
        "  # audiencia de un partido de esa categoria\n",
        "\n",
        "  # La audiencia de cada categoria se encuentra en un diccionario llamado \n",
        "  # mejor_audiencia, donde tiene como clave la categoria de los partidos (AA,AB,...)\n",
        "  \n",
        "  lista_audiencia = []# lista donde almacenaremos el calculo                    # C\n",
        "\n",
        "  for i in range(len(partidos_ordenados)):                                      # n\n",
        "    # recorrer el numero de filas de partidos_ordenados\n",
        "  \n",
        "    # audiencia del partido = (cr del partido) * (audiencia de un partido de esa categoria)\n",
        "  \n",
        "    # mejor_audiencia[partidos_ordenados.iloc(axis=0)[i]['categoria']])\n",
        "    # |-> Acceder ala audiencia de la catego del partido almacenada en el dicionario\n",
        "  \n",
        "    lista_audiencia.append(partidos_ordenados.iloc(axis=0)[i]['cr'] * mejor_audiencia[partidos_ordenados.iloc(axis=0)[i]['categoria']])\n",
        "  \n",
        "  # Asignamos la audiencia en una nueva columna ( de esta forma podremos consultar la audiencia de cada partido por separado):\n",
        "  partidos_ordenados['audiencia']  = lista_audiencia\n",
        "  \n",
        "  return partidos_ordenados\n",
        "  "
      ],
      "execution_count": 0,
      "outputs": []
    },
    {
      "metadata": {
        "id": "BcxZZ2433reT",
        "colab_type": "text"
      },
      "cell_type": "markdown",
      "source": [
        "# EJERCICIO 5"
      ]
    },
    {
      "metadata": {
        "id": "tgrnsC2nkFa8",
        "colab_type": "text"
      },
      "cell_type": "markdown",
      "source": [
        "Calcula la complejidad del algoritmo por fuerza bruta"
      ]
    },
    {
      "metadata": {
        "id": "9eUd3xwckP68",
        "colab_type": "text"
      },
      "cell_type": "markdown",
      "source": [
        "**Respuesta**"
      ]
    },
    {
      "metadata": {
        "id": "-Q4FkzHg3oqh",
        "colab_type": "text"
      },
      "cell_type": "markdown",
      "source": [
        "La complejidad  de *FB_obtener_jornada_maxima_audiencia()* es del tipo **O(n²)**, donde n es el número de partidos (en este caso 10) :\n",
        "\n",
        "-  O(n²) --> Ordenar los partidos de mayor a menor audiencia\n",
        "-  O(n²) --> Ordenar los coeficientes de reducción de audiencia de mayor a menor \n",
        "-  C (Cosntantes. Resto de asignaciones)  --> Nuevas columnas, cambio de indice, ...\n",
        "-  n --> Bucle for\n",
        "\n",
        "**TOTAL = O(n²)**"
      ]
    },
    {
      "metadata": {
        "id": "Yb2xYFuo3u8F",
        "colab_type": "text"
      },
      "cell_type": "markdown",
      "source": [
        "# EJERCICIO 6 (*)"
      ]
    },
    {
      "metadata": {
        "id": "txbrmLmskReM",
        "colab_type": "text"
      },
      "cell_type": "markdown",
      "source": [
        "(*)Diseña un algoritmo que mejore la complejidad del algortimo por fuerza bruta. Argumenta porque crees que mejora el algoritmo por fuerza bruta"
      ]
    },
    {
      "metadata": {
        "id": "hLrVwt5QkZPD",
        "colab_type": "text"
      },
      "cell_type": "markdown",
      "source": [
        "**Respuesta**"
      ]
    },
    {
      "metadata": {
        "id": "ameCiFR7AJge",
        "colab_type": "text"
      },
      "cell_type": "markdown",
      "source": [
        "## 6.1. Quick sort DF menor a mayor - Ordenar partidos de la jornada de mayor a menor audiencia"
      ]
    },
    {
      "metadata": {
        "id": "BtIA8HGtD4Lx",
        "colab_type": "text"
      },
      "cell_type": "markdown",
      "source": [
        "Cuando tenemos muchos datos se suele usar la estructura de Data Frame de Pandas. Como la hemos estado utilizando hasta ahora, para no cambiar de estructura de datos seguimos trabajando con ella. \n",
        "\n",
        "Una vez tenemos los datos de los datos de la jornada estructurados, debemos de ordanar los datos en base a la columna 'cat_num'. He creado una función que utiliza implementa el algoritmo de Quick sort para DF, y ordena las filas en función de los datos de una columna.\n",
        "\n",
        "La función recibe el DF a ordenar y la columna sobre la que queremos ordenar:"
      ]
    },
    {
      "metadata": {
        "colab_type": "code",
        "id": "vwxb3hUL8-nd",
        "colab": {}
      },
      "cell_type": "code",
      "source": [
        "def quick_sort_liga(df, col_ordenar):  \n",
        "  # df = Data Frame (DF)\n",
        "  # col_ordenar = Columna de df sobre la que queremos ordenar el DF\n",
        "  if len(df) == 1: # tenemos una serie\n",
        "    # Solo hay un partido\n",
        "    return df\n",
        "  \n",
        "  elif len(df) == 2:\n",
        "    # Disponemos de 2 partidos (4 equipos).\n",
        "    # los ordenamos de menor a mayor\n",
        "    \n",
        "    # comparamos los valores en cada fila para la columna a ordenar, para situar\n",
        "    # en primer lugar la fila con el valor menor:\n",
        "    \n",
        "    if df.iloc(axis=0)[0][col_ordenar] < df.iloc(axis=0)[1][col_ordenar]:\n",
        "      # el orden de las filas actual es correcto\n",
        "      return df\n",
        "    else:\n",
        "      # el orden de las filas actual NO es correcto, queremos menor-mayor\n",
        "      return pd.DataFrame([df.iloc(axis=0)[1], df.iloc(axis=0)[0]])\n",
        "    \n",
        "  else: # Listas con mas de 2 elementos\n",
        "    \n",
        "    # Sublista con valores menores o iguales al pivote\n",
        "    izq = pd.DataFrame(columns=df.columns) \n",
        "    \n",
        "    # Sublista con valores mayores al pivote\n",
        "    der = pd.DataFrame(columns=df.columns) \n",
        "    \n",
        "    # pivote: Es el elemento que nos permite dividir la lista en dos sublistas\n",
        "    \n",
        "    # Para calcular el pivote usamos la media:\n",
        "    suma = df.loc(axis =1)[col_ordenar].sum() # Sumamos los valores de la columna\n",
        "    pivote = suma/len(df) # Calcular pivote\n",
        "    \n",
        "    # Dividir la lista en sublistas mediante el pivote\n",
        "    for i in range(len(df)):\n",
        "      # 'i' recore el numero de filas\n",
        "      \n",
        "      # comprovamos si el valor para fila 'i' y la columna a sobre la que ordenar\n",
        "      # (col_ordenar) es menor o mayor que el pivote\n",
        "      \n",
        "      # Sublista con valores menores o iguales al pivote:\n",
        "      if df.iloc(axis=0)[i][col_ordenar] <= pivote:\n",
        "        izq = izq.append(df.iloc(axis=0)[i])# Añadimo la fila a la sublista (DF)\n",
        "        \n",
        "      else: # Sublista con valores mayores al pivote\n",
        "        der = der.append(df.iloc(axis=0)[i])# Añadimo la fila a la sublista (DF)\n",
        "        \n",
        "    # Se repite el proceso de forma recursiva para cada sublista mientras \n",
        "    # contengan más de uno o dos elementos. \n",
        "    \n",
        "    # Como hay numero repetidos, debemos de tenerlo en cuenta, porque podria estar\n",
        "    # dividiendo la lista y estar todos en un lado y la otra sublista vacia\n",
        "    if len(izq)>0 and len(der)>0: \n",
        "      \n",
        "      # Una vez terminado este proceso todos los elementos estarán ordenados. En\n",
        "      # una lista única\n",
        "      df_I = quick_sort_liga(izq,col_ordenar)                                   \n",
        "      df_D = quick_sort_liga(der,col_ordenar)\n",
        "      \n",
        "      return  df_I.append(df_D)\n",
        "    \n",
        "    else:\n",
        "      return df\n",
        "  "
      ],
      "execution_count": 0,
      "outputs": []
    },
    {
      "metadata": {
        "id": "wQHTLvYD6XRt",
        "colab_type": "text"
      },
      "cell_type": "markdown",
      "source": [
        "Ordenamos los partidos en función del valor de la columna *'cat_num'* (codigo ASCII) de menor a mayor, para ordenarlos de mayor a menor audiencia:"
      ]
    },
    {
      "metadata": {
        "id": "htW6yDqeANeY",
        "colab_type": "code",
        "colab": {}
      },
      "cell_type": "code",
      "source": [
        "partidos_ordenados = quick_sort_liga(df_jornada,'cat_num')"
      ],
      "execution_count": 0,
      "outputs": []
    },
    {
      "metadata": {
        "id": "4kfS5QyN6QA0",
        "colab_type": "code",
        "outputId": "b57e6710-9a49-4e28-8a34-5063f30683bd",
        "colab": {
          "base_uri": "https://localhost:8080/",
          "height": 359
        }
      },
      "cell_type": "code",
      "source": [
        "partidos_ordenados"
      ],
      "execution_count": 30,
      "outputs": [
        {
          "output_type": "execute_result",
          "data": {
            "text/html": [
              "<div>\n",
              "<style scoped>\n",
              "    .dataframe tbody tr th:only-of-type {\n",
              "        vertical-align: middle;\n",
              "    }\n",
              "\n",
              "    .dataframe tbody tr th {\n",
              "        vertical-align: top;\n",
              "    }\n",
              "\n",
              "    .dataframe thead th {\n",
              "        text-align: right;\n",
              "    }\n",
              "</style>\n",
              "<table border=\"1\" class=\"dataframe\">\n",
              "  <thead>\n",
              "    <tr style=\"text-align: right;\">\n",
              "      <th></th>\n",
              "      <th>cat_num</th>\n",
              "      <th>categoria</th>\n",
              "      <th>equipos</th>\n",
              "    </tr>\n",
              "  </thead>\n",
              "  <tbody>\n",
              "    <tr>\n",
              "      <th>8</th>\n",
              "      <td>6566</td>\n",
              "      <td>AB</td>\n",
              "      <td>Real Madrid  - vs -  Real Betis</td>\n",
              "    </tr>\n",
              "    <tr>\n",
              "      <th>1</th>\n",
              "      <td>6566</td>\n",
              "      <td>AB</td>\n",
              "      <td>FC Barcelona  - vs -  Real Sociedad</td>\n",
              "    </tr>\n",
              "    <tr>\n",
              "      <th>5</th>\n",
              "      <td>6567</td>\n",
              "      <td>AC</td>\n",
              "      <td>Sevilla FC  - vs -  SD Huesca</td>\n",
              "    </tr>\n",
              "    <tr>\n",
              "      <th>4</th>\n",
              "      <td>6567</td>\n",
              "      <td>AC</td>\n",
              "      <td>Atlético de Madrid  - vs -  SD Eibar</td>\n",
              "    </tr>\n",
              "    <tr>\n",
              "      <th>6</th>\n",
              "      <td>6666</td>\n",
              "      <td>BB</td>\n",
              "      <td>Levante UD  - vs -  Real Valladolid</td>\n",
              "    </tr>\n",
              "    <tr>\n",
              "      <th>2</th>\n",
              "      <td>6666</td>\n",
              "      <td>BB</td>\n",
              "      <td>Villareal  - vs -  Athletic Club</td>\n",
              "    </tr>\n",
              "    <tr>\n",
              "      <th>0</th>\n",
              "      <td>6667</td>\n",
              "      <td>BC</td>\n",
              "      <td>Getafe CF  - vs -  CD Leganés</td>\n",
              "    </tr>\n",
              "    <tr>\n",
              "      <th>3</th>\n",
              "      <td>6667</td>\n",
              "      <td>BC</td>\n",
              "      <td>RC Celta  - vs -  Girona FC</td>\n",
              "    </tr>\n",
              "    <tr>\n",
              "      <th>7</th>\n",
              "      <td>6667</td>\n",
              "      <td>BC</td>\n",
              "      <td>RCD Espanyol  - vs -  Rayo Vallecano</td>\n",
              "    </tr>\n",
              "    <tr>\n",
              "      <th>9</th>\n",
              "      <td>6667</td>\n",
              "      <td>BC</td>\n",
              "      <td>Valencia CF  - vs -  D. Alavés</td>\n",
              "    </tr>\n",
              "  </tbody>\n",
              "</table>\n",
              "</div>"
            ],
            "text/plain": [
              "  cat_num categoria                               equipos\n",
              "8    6566        AB       Real Madrid  - vs -  Real Betis\n",
              "1    6566        AB   FC Barcelona  - vs -  Real Sociedad\n",
              "5    6567        AC         Sevilla FC  - vs -  SD Huesca\n",
              "4    6567        AC  Atlético de Madrid  - vs -  SD Eibar\n",
              "6    6666        BB   Levante UD  - vs -  Real Valladolid\n",
              "2    6666        BB      Villareal  - vs -  Athletic Club\n",
              "0    6667        BC         Getafe CF  - vs -  CD Leganés\n",
              "3    6667        BC           RC Celta  - vs -  Girona FC\n",
              "7    6667        BC  RCD Espanyol  - vs -  Rayo Vallecano\n",
              "9    6667        BC        Valencia CF  - vs -  D. Alavés"
            ]
          },
          "metadata": {
            "tags": []
          },
          "execution_count": 30
        }
      ]
    },
    {
      "metadata": {
        "id": "1eKfM4qbALVY",
        "colab_type": "text"
      },
      "cell_type": "markdown",
      "source": [
        "## 6.2. Quick sort DF mayor a menor - Coeficientes de reducción de audiencias de mayor a menor"
      ]
    },
    {
      "metadata": {
        "id": "mdGulhGXCQi2",
        "colab_type": "text"
      },
      "cell_type": "markdown",
      "source": [
        "Para poder asignar los coeficientes a la lista de partidos ordenados de mayor a menor audiancia (partidos_ordenados) calculada en el apartado anterior, necesitamos ordenar de mayor a menor los coeficientes de reduccion de las audiencias.\n",
        "\n",
        "Si los coeficientes son los mismos para todas las jornadas (sin influir mes, dia, ..) solo necesitamos ordenarlos una vez. Realmente podríamos usar la función sort de pandas para ordenar la lista, pero como la implementación es la misma que la anterior, creamos la función quick sort que ordena de mayor a menor.\n",
        "\n",
        "Cuando tenemos muchos datos se suele usar la estructura de Data Frame de Pandas. Como la hemos estado utilizando hasta ahora, para no cambiar de estructura de datos seguimos trabajando con ella. \n",
        "\n",
        "La función recibe el DF a ordenar y la columna sobre la que queremos ordenar:"
      ]
    },
    {
      "metadata": {
        "colab_type": "code",
        "id": "klya9jPABCo2",
        "colab": {}
      },
      "cell_type": "code",
      "source": [
        "# Cambian solo unos signos con respecto de quick_sort_liga()\n",
        "# Esta funcion ordena de mayor a menor\n",
        "\n",
        "def quick_sort_liga_mayor(df, col_ordenar):  \n",
        "  # df = Data Frame (DF)\n",
        "  # col_ordenar = Columna de df sobre la que queremos ordenar el DF\n",
        "  if len(df) == 1: # tenemos una serie\n",
        "    # Solo hay un partido\n",
        "    return df\n",
        "  \n",
        "  elif len(df) == 2:\n",
        "    # Disponemos de 2 partidos (4 equipos).\n",
        "    # los ordenamos de menor a mayor\n",
        "    \n",
        "    # comparamos los valores en cada fila para la columna a ordenar, para situar\n",
        "    # en primer lugar la fila con el valor menor:\n",
        "    \n",
        "    if df.iloc(axis=0)[0][col_ordenar] > df.iloc(axis=0)[1][col_ordenar]: # UNICO CAMBIO '>'\n",
        "      # el orden de las filas actual es correcto\n",
        "      return df\n",
        "    else:\n",
        "      # el orden de las filas actual NO es correcto, queremos menor-mayor\n",
        "      return pd.DataFrame([df.iloc(axis=0)[1], df.iloc(axis=0)[0]])\n",
        "    \n",
        "  else: # Listas con mas de 2 elementos\n",
        "    \n",
        "    # Sublista con valores mayores o iguales al pivote\n",
        "    izq = pd.DataFrame(columns=df.columns) \n",
        "    \n",
        "    # Sublista con valores menores al pivote\n",
        "    der = pd.DataFrame(columns=df.columns) \n",
        "    \n",
        "    # pivote: Es el elemento que nos permite dividir la lista en dos sublistas\n",
        "    \n",
        "    # Para calcular el pivote usamos la media:\n",
        "    suma = df.loc(axis =1)[col_ordenar].sum() # Sumamos los valores de la columna\n",
        "    pivote = suma/len(df) # Calcular pivote\n",
        "    \n",
        "    # Dividir la lista en sublistas mediante el pivote\n",
        "    for i in range(len(df)):\n",
        "      # 'i' recore el numero de filas\n",
        "      \n",
        "      # comprovamos si el valor para fila 'i' y la columna a sobre la que ordenar\n",
        "      # (col_ordenar) es menor o mayor que el pivote\n",
        "      \n",
        "      # Sublista con valores mayores o iguales al pivote:\n",
        "      if df.iloc(axis=0)[i][col_ordenar] >= pivote: # UNICO CAMBIO '>='\n",
        "        izq = izq.append(df.iloc(axis=0)[i])# Añadimo la fila a la sublista (DF)\n",
        "        \n",
        "      else: # Sublista con valores menores al pivote\n",
        "        der = der.append(df.iloc(axis=0)[i])# Añadimo la fila a la sublista (DF)\n",
        "        \n",
        "    # Se repite el proceso de forma recursiva para cada sublista mientras \n",
        "    # contengan más de uno o dos elementos. \n",
        "    \n",
        "    # Como hay numero repetidos, debemos de tenerlo en cuenta, porque podria estar\n",
        "    # dividiendo la lista y estar todos en un lado y la otra sublista vacia\n",
        "    if len(izq)>0 and len(der)>0: \n",
        "      \n",
        "      # Una vez terminado este proceso todos los elementos estarán ordenados. En\n",
        "      # una lista única\n",
        "      df_I = quick_sort_liga_mayor(izq,col_ordenar)\n",
        "      df_D = quick_sort_liga_mayor(der,col_ordenar)\n",
        "      \n",
        "      return  df_I.append(df_D)\n",
        "    \n",
        "    else:\n",
        "      return df\n",
        "  "
      ],
      "execution_count": 0,
      "outputs": []
    },
    {
      "metadata": {
        "id": "r_nzihkV6pZU",
        "colab_type": "text"
      },
      "cell_type": "markdown",
      "source": [
        "Ordenamos los coeficientes de reducción de mayor a menor:"
      ]
    },
    {
      "metadata": {
        "id": "ovCElouwAeGW",
        "colab_type": "code",
        "colab": {}
      },
      "cell_type": "code",
      "source": [
        "cr_audiencias_ordenado = quick_sort_liga_mayor(cr_audiencias,'cr')"
      ],
      "execution_count": 0,
      "outputs": []
    },
    {
      "metadata": {
        "id": "EYLmEVcNPg1v",
        "colab_type": "code",
        "outputId": "3c326172-54f2-4176-fd73-45499a5d5dbc",
        "colab": {
          "base_uri": "https://localhost:8080/",
          "height": 359
        }
      },
      "cell_type": "code",
      "source": [
        "cr_audiencias_ordenado"
      ],
      "execution_count": 33,
      "outputs": [
        {
          "output_type": "execute_result",
          "data": {
            "text/html": [
              "<div>\n",
              "<style scoped>\n",
              "    .dataframe tbody tr th:only-of-type {\n",
              "        vertical-align: middle;\n",
              "    }\n",
              "\n",
              "    .dataframe tbody tr th {\n",
              "        vertical-align: top;\n",
              "    }\n",
              "\n",
              "    .dataframe thead th {\n",
              "        text-align: right;\n",
              "    }\n",
              "</style>\n",
              "<table border=\"1\" class=\"dataframe\">\n",
              "  <thead>\n",
              "    <tr style=\"text-align: right;\">\n",
              "      <th></th>\n",
              "      <th>dia</th>\n",
              "      <th>cr</th>\n",
              "    </tr>\n",
              "  </thead>\n",
              "  <tbody>\n",
              "    <tr>\n",
              "      <th>8</th>\n",
              "      <td>domingo_20h</td>\n",
              "      <td>1.00</td>\n",
              "    </tr>\n",
              "    <tr>\n",
              "      <th>4</th>\n",
              "      <td>sabado_20h</td>\n",
              "      <td>1.00</td>\n",
              "    </tr>\n",
              "    <tr>\n",
              "      <th>7</th>\n",
              "      <td>domingo_18h</td>\n",
              "      <td>0.85</td>\n",
              "    </tr>\n",
              "    <tr>\n",
              "      <th>3</th>\n",
              "      <td>sabado_18h</td>\n",
              "      <td>0.80</td>\n",
              "    </tr>\n",
              "    <tr>\n",
              "      <th>6</th>\n",
              "      <td>domingo_16h</td>\n",
              "      <td>0.75</td>\n",
              "    </tr>\n",
              "    <tr>\n",
              "      <th>2</th>\n",
              "      <td>sabado_16h</td>\n",
              "      <td>0.70</td>\n",
              "    </tr>\n",
              "    <tr>\n",
              "      <th>1</th>\n",
              "      <td>sabado_12h</td>\n",
              "      <td>0.55</td>\n",
              "    </tr>\n",
              "    <tr>\n",
              "      <th>5</th>\n",
              "      <td>domingo_12h</td>\n",
              "      <td>0.45</td>\n",
              "    </tr>\n",
              "    <tr>\n",
              "      <th>9</th>\n",
              "      <td>lunes_20h</td>\n",
              "      <td>0.40</td>\n",
              "    </tr>\n",
              "    <tr>\n",
              "      <th>0</th>\n",
              "      <td>viernes_20h</td>\n",
              "      <td>0.40</td>\n",
              "    </tr>\n",
              "  </tbody>\n",
              "</table>\n",
              "</div>"
            ],
            "text/plain": [
              "           dia    cr\n",
              "8  domingo_20h  1.00\n",
              "4   sabado_20h  1.00\n",
              "7  domingo_18h  0.85\n",
              "3   sabado_18h  0.80\n",
              "6  domingo_16h  0.75\n",
              "2   sabado_16h  0.70\n",
              "1   sabado_12h  0.55\n",
              "5  domingo_12h  0.45\n",
              "9    lunes_20h  0.40\n",
              "0  viernes_20h  0.40"
            ]
          },
          "metadata": {
            "tags": []
          },
          "execution_count": 33
        }
      ]
    },
    {
      "metadata": {
        "id": "BKsOIx-wZmcP",
        "colab_type": "text"
      },
      "cell_type": "markdown",
      "source": [
        "## 6.4. Función para obtener la mejor organización de los partidos"
      ]
    },
    {
      "metadata": {
        "id": "f0eb8zPMZ4qg",
        "colab_type": "text"
      },
      "cell_type": "markdown",
      "source": [
        "El procedimiento es el mismo que para el algoritmo de fuerzabruta, lo único es que utilizaremos el algoritmo Quick sort para ordenar:"
      ]
    },
    {
      "metadata": {
        "id": "EUtp3oX_Zle2",
        "colab_type": "code",
        "colab": {}
      },
      "cell_type": "code",
      "source": [
        "def obtener_jornada_maxima_audiencia(df_jornada, cr_audiencias,mejor_audiencia,ordenar_cr = True):\n",
        "  \n",
        "  # Ordenamos los partidos en función del valor de la columna 'cat_num' \n",
        "  # (codigo ASCII) de menor a mayor, para ordenarlos de mayor a menor audiencia:\n",
        "  partidos_ordenados = quick_sort_liga(df_jornada,'cat_num')                    #  O(n·log(n)).\n",
        "  \n",
        "  # Ordenamos los coeficientes de reducción de audiencias de mayor a menor:\n",
        "  if ordenar_cr == True:# Si ya estan ordenados, podemos ahorrarnos realizar la ordenacion\n",
        "    cr_audiencias_ordenado = quick_sort_liga_mayor(cr_audiencias,'cr')          # O(n·log(n)).\n",
        "  else:\n",
        "    cr_audiencias_ordenado = cr_audiencias\n",
        "  \n",
        "  # Para unir dos DF's necesitamos que los indices coincidan (o almenos como \n",
        "  # los quiero unir). Por esta razon cambiamos los índices de \n",
        "  # cr_audiencias_ordenado por los de partidos_ordenados\n",
        "  cr_audiencias_ordenado.index = partidos_ordenados.index                       # C\n",
        "  \n",
        "  # Añadimos las columnas de dia, y cr para tenerlo asignado a cada partido:\n",
        "  partidos_ordenados[['dia','cr']] = cr_audiencias_ordenado                     # C\n",
        "  \n",
        "  # Calculamos la audiencia para cada partido con el cr asignado al partido, y la\n",
        "  # audiencia de un partido de esa categoria\n",
        "\n",
        "  # La audiencia de cada categoria se encuentra en un diccionario llamado \n",
        "  # mejor_audiencia, donde tiene como clave la categoria de los partidos (AA,AB,...)\n",
        "  \n",
        "  lista_audiencia = []# lista donde almacenaremos el calculo                    # C\n",
        "\n",
        "  for i in range(len(partidos_ordenados)):                                      # n\n",
        "    # recorrer el numero de filas de partidos_ordenados\n",
        "  \n",
        "    # audiencia del partido = (cr del partido) * (audiencia de un partido de esa categoria)\n",
        "  \n",
        "    # mejor_audiencia[partidos_ordenados.iloc(axis=0)[i]['categoria']])\n",
        "    # |-> Acceder ala audiencia de la catego del partido almacenada en el dicionario\n",
        "  \n",
        "    lista_audiencia.append(partidos_ordenados.iloc(axis=0)[i]['cr'] * mejor_audiencia[partidos_ordenados.iloc(axis=0)[i]['categoria']])\n",
        "  \n",
        "  # Asignamos la audiencia en una nueva columna ( de esta forma podremos consultar la audiencia de cada partido por separado):\n",
        "  partidos_ordenados['audiencia']  = lista_audiencia\n",
        "  \n",
        "  return partidos_ordenados\n",
        "  "
      ],
      "execution_count": 0,
      "outputs": []
    },
    {
      "metadata": {
        "id": "2MhoWtUfL5F0",
        "colab_type": "text"
      },
      "cell_type": "markdown",
      "source": [
        "En el ejercicio nos piden que organicemos una jornada dada. Para generar de forma automatica una jornada aleatoria y además calcular la máxima audiencia he realizado la siguiente función que realiza todos los procedimientos:"
      ]
    },
    {
      "metadata": {
        "id": "B5SRKKj6Ja9c",
        "colab_type": "code",
        "colab": {}
      },
      "cell_type": "code",
      "source": [
        "def simular_jornada(equipos_liga, cr_audiencias,mejor_audiencia,ordenar_cr = True):\n",
        "  # Obtener jornada aleatoria a partir de los equipos del torneo\n",
        "  jornada_aleatoria = crear_jornada_aleatoria(equipos_liga)# Obtener jornada aleatoria\n",
        "  \n",
        "  # obtener un DF con los partidos de forma legible (Formato de nuestra funcion)\n",
        "  df_jornada = crear_DF_jornada(jornada_aleatoria)                              # O(n)\n",
        "  \n",
        "  return obtener_jornada_maxima_audiencia(df_jornada, cr_audiencias,mejor_audiencia,ordenar_cr = True)# O(n·log(n))"
      ],
      "execution_count": 0,
      "outputs": []
    },
    {
      "metadata": {
        "id": "nGYpsrUJ3xdm",
        "colab_type": "text"
      },
      "cell_type": "markdown",
      "source": [
        "# EJERCICIO 7 (*)"
      ]
    },
    {
      "metadata": {
        "id": "eGDB4K6uk1iN",
        "colab_type": "text"
      },
      "cell_type": "markdown",
      "source": [
        "(*)Calcula la complejidad del algoritmo "
      ]
    },
    {
      "metadata": {
        "id": "NhpTh_BPk1ms",
        "colab_type": "text"
      },
      "cell_type": "markdown",
      "source": [
        "**Respuesta**"
      ]
    },
    {
      "metadata": {
        "id": "xRYp01BO21rm",
        "colab_type": "text"
      },
      "cell_type": "markdown",
      "source": [
        "La complejidad  de *obtener_jornada_maxima_audiencia()* es del tipo **O(n·log(n))**, donde n es el número de partidos (en este caso 10) :\n",
        "\n",
        "-  O(n·log(n)) --> Ordenar los partidos de mayor a menor audiencia\n",
        "-  O(n·log(n)) --> Ordenar los coeficientes de reducción de audiencia de mayor a menor \n",
        "-  C (Cosntantes. Resto de asignaciones)  --> Nuevas columnas, cambio de indice, ...\n",
        "-  n --> Bucle for\n",
        "\n",
        "**TOTAL = O(n·log(n))**"
      ]
    },
    {
      "metadata": {
        "id": "3aBhF4lv3ENv",
        "colab_type": "text"
      },
      "cell_type": "markdown",
      "source": [
        "Debemos de tener encuenta que si se tratara de organizar la liga entera, solo ordenariamos en una ocasión los coeficientes de reducción de audiencia. De lo contrario siempre tendremos una complejidad de 2 n·log(n)"
      ]
    },
    {
      "metadata": {
        "id": "pV5FE6eopaIx",
        "colab_type": "text"
      },
      "cell_type": "markdown",
      "source": [
        "La complejidad  de *simular_jornada())* es del tipo **O(n·log(n))**, donde n es el número de partidos (en este caso 10) :\n",
        "\n",
        "-   O(n) --> *crear_jornada_aleatoria()*. Es dificil de saber que hace esa función así que nos ponemos en el peor caso\n",
        "-  O(n) = n/2 +C --> *crear_DF_jornada()*\n",
        "-  O(n·log(n)) --> *obtener_jornada_maxima_audiencia()* \n",
        "\n",
        "\n",
        "**TOTAL = O(n·log(n))**"
      ]
    },
    {
      "metadata": {
        "id": "dmfm1_7J38PD",
        "colab_type": "text"
      },
      "cell_type": "markdown",
      "source": [
        "# EJERCICIO 8"
      ]
    },
    {
      "metadata": {
        "id": "3M6QjTsSkmYe",
        "colab_type": "text"
      },
      "cell_type": "markdown",
      "source": [
        "Según el problema (y tenga sentido), diseña un juego de datos de entrada aleatorios"
      ]
    },
    {
      "metadata": {
        "id": "Jc3_OlyNkvjZ",
        "colab_type": "text"
      },
      "cell_type": "markdown",
      "source": [
        "**Respuesta**"
      ]
    },
    {
      "metadata": {
        "id": "qlbKh682xXvg",
        "colab_type": "text"
      },
      "cell_type": "markdown",
      "source": [
        "Esta ejercicio ya ha sido realizado, cuando hemos realizado las pruebas que explican el funcionaminto del código paso por paso. Estamos usando los equipos de la liga española 2018/19. Podemos simular una jornada:"
      ]
    },
    {
      "metadata": {
        "id": "30umDVBUyBWl",
        "colab_type": "code",
        "colab": {}
      },
      "cell_type": "code",
      "source": [
        "jornada_aleatoria = obterner_enfrentamientos_jornada_aleatorios(equipos_liga)"
      ],
      "execution_count": 0,
      "outputs": []
    },
    {
      "metadata": {
        "id": "MWWs2bdvzz3Y",
        "colab_type": "code",
        "outputId": "c2150b43-c0b3-4838-dcbf-bb7c0b8c3405",
        "colab": {
          "base_uri": "https://localhost:8080/",
          "height": 359
        }
      },
      "cell_type": "code",
      "source": [
        "jornada_aleatoria"
      ],
      "execution_count": 36,
      "outputs": [
        {
          "output_type": "execute_result",
          "data": {
            "text/html": [
              "<div>\n",
              "<style scoped>\n",
              "    .dataframe tbody tr th:only-of-type {\n",
              "        vertical-align: middle;\n",
              "    }\n",
              "\n",
              "    .dataframe tbody tr th {\n",
              "        vertical-align: top;\n",
              "    }\n",
              "\n",
              "    .dataframe thead th {\n",
              "        text-align: right;\n",
              "    }\n",
              "</style>\n",
              "<table border=\"1\" class=\"dataframe\">\n",
              "  <thead>\n",
              "    <tr style=\"text-align: right;\">\n",
              "      <th></th>\n",
              "      <th>cat_num</th>\n",
              "      <th>categoria</th>\n",
              "      <th>equipos</th>\n",
              "    </tr>\n",
              "  </thead>\n",
              "  <tbody>\n",
              "    <tr>\n",
              "      <th>0</th>\n",
              "      <td>6667</td>\n",
              "      <td>BC</td>\n",
              "      <td>Villareal  - vs -  SD Eibar</td>\n",
              "    </tr>\n",
              "    <tr>\n",
              "      <th>1</th>\n",
              "      <td>6566</td>\n",
              "      <td>AB</td>\n",
              "      <td>FC Barcelona  - vs -  Levante UD</td>\n",
              "    </tr>\n",
              "    <tr>\n",
              "      <th>2</th>\n",
              "      <td>6666</td>\n",
              "      <td>BB</td>\n",
              "      <td>Athletic Club  - vs -  RC Celta</td>\n",
              "    </tr>\n",
              "    <tr>\n",
              "      <th>3</th>\n",
              "      <td>6566</td>\n",
              "      <td>AB</td>\n",
              "      <td>Real Madrid  - vs -  Getafe CF</td>\n",
              "    </tr>\n",
              "    <tr>\n",
              "      <th>4</th>\n",
              "      <td>6667</td>\n",
              "      <td>BC</td>\n",
              "      <td>Valencia CF  - vs -  SD Huesca</td>\n",
              "    </tr>\n",
              "    <tr>\n",
              "      <th>5</th>\n",
              "      <td>6767</td>\n",
              "      <td>CC</td>\n",
              "      <td>D. Alavés  - vs -  Girona FC</td>\n",
              "    </tr>\n",
              "    <tr>\n",
              "      <th>6</th>\n",
              "      <td>6667</td>\n",
              "      <td>BC</td>\n",
              "      <td>RCD Espanyol  - vs -  Rayo Vallecano</td>\n",
              "    </tr>\n",
              "    <tr>\n",
              "      <th>7</th>\n",
              "      <td>6566</td>\n",
              "      <td>AB</td>\n",
              "      <td>Atlético de Madrid  - vs -  Real Betis</td>\n",
              "    </tr>\n",
              "    <tr>\n",
              "      <th>8</th>\n",
              "      <td>6567</td>\n",
              "      <td>AC</td>\n",
              "      <td>Sevilla FC  - vs -  CD Leganés</td>\n",
              "    </tr>\n",
              "    <tr>\n",
              "      <th>9</th>\n",
              "      <td>6666</td>\n",
              "      <td>BB</td>\n",
              "      <td>Real Sociedad  - vs -  Real Valladolid</td>\n",
              "    </tr>\n",
              "  </tbody>\n",
              "</table>\n",
              "</div>"
            ],
            "text/plain": [
              "  cat_num categoria                                 equipos\n",
              "0    6667        BC             Villareal  - vs -  SD Eibar\n",
              "1    6566        AB        FC Barcelona  - vs -  Levante UD\n",
              "2    6666        BB         Athletic Club  - vs -  RC Celta\n",
              "3    6566        AB          Real Madrid  - vs -  Getafe CF\n",
              "4    6667        BC          Valencia CF  - vs -  SD Huesca\n",
              "5    6767        CC            D. Alavés  - vs -  Girona FC\n",
              "6    6667        BC    RCD Espanyol  - vs -  Rayo Vallecano\n",
              "7    6566        AB  Atlético de Madrid  - vs -  Real Betis\n",
              "8    6567        AC          Sevilla FC  - vs -  CD Leganés\n",
              "9    6666        BB  Real Sociedad  - vs -  Real Valladolid"
            ]
          },
          "metadata": {
            "tags": []
          },
          "execution_count": 36
        }
      ]
    },
    {
      "metadata": {
        "id": "faAtKWyb3-Z4",
        "colab_type": "text"
      },
      "cell_type": "markdown",
      "source": [
        "# EJERCICIO 9"
      ]
    },
    {
      "metadata": {
        "id": "zy5ZROmjlGo1",
        "colab_type": "text"
      },
      "cell_type": "markdown",
      "source": [
        "Aplica el algoritmo al juego de datos generado"
      ]
    },
    {
      "metadata": {
        "id": "_Cmj-PVylMsa",
        "colab_type": "text"
      },
      "cell_type": "markdown",
      "source": [
        "**Respuesta**"
      ]
    },
    {
      "metadata": {
        "id": "QVLGjb311NWc",
        "colab_type": "text"
      },
      "cell_type": "markdown",
      "source": [
        "Utilizamos la jornada aleatoria creada en el ejercicio 8:"
      ]
    },
    {
      "metadata": {
        "id": "Jkx8GeiYlUz1",
        "colab_type": "code",
        "outputId": "38abab72-b7a8-4e87-af4a-dfaa7cd23313",
        "colab": {
          "base_uri": "https://localhost:8080/",
          "height": 359
        }
      },
      "cell_type": "code",
      "source": [
        "obtener_jornada_maxima_audiencia(jornada_aleatoria,cr_audiencias,mejor_audiencia)"
      ],
      "execution_count": 37,
      "outputs": [
        {
          "output_type": "execute_result",
          "data": {
            "text/html": [
              "<div>\n",
              "<style scoped>\n",
              "    .dataframe tbody tr th:only-of-type {\n",
              "        vertical-align: middle;\n",
              "    }\n",
              "\n",
              "    .dataframe tbody tr th {\n",
              "        vertical-align: top;\n",
              "    }\n",
              "\n",
              "    .dataframe thead th {\n",
              "        text-align: right;\n",
              "    }\n",
              "</style>\n",
              "<table border=\"1\" class=\"dataframe\">\n",
              "  <thead>\n",
              "    <tr style=\"text-align: right;\">\n",
              "      <th></th>\n",
              "      <th>cat_num</th>\n",
              "      <th>categoria</th>\n",
              "      <th>equipos</th>\n",
              "      <th>dia</th>\n",
              "      <th>cr</th>\n",
              "      <th>audiencia</th>\n",
              "    </tr>\n",
              "  </thead>\n",
              "  <tbody>\n",
              "    <tr>\n",
              "      <th>1</th>\n",
              "      <td>6566</td>\n",
              "      <td>AB</td>\n",
              "      <td>FC Barcelona  - vs -  Levante UD</td>\n",
              "      <td>domingo_20h</td>\n",
              "      <td>1.00</td>\n",
              "      <td>1300000.0</td>\n",
              "    </tr>\n",
              "    <tr>\n",
              "      <th>3</th>\n",
              "      <td>6566</td>\n",
              "      <td>AB</td>\n",
              "      <td>Real Madrid  - vs -  Getafe CF</td>\n",
              "      <td>sabado_20h</td>\n",
              "      <td>1.00</td>\n",
              "      <td>1300000.0</td>\n",
              "    </tr>\n",
              "    <tr>\n",
              "      <th>7</th>\n",
              "      <td>6566</td>\n",
              "      <td>AB</td>\n",
              "      <td>Atlético de Madrid  - vs -  Real Betis</td>\n",
              "      <td>domingo_18h</td>\n",
              "      <td>0.85</td>\n",
              "      <td>1105000.0</td>\n",
              "    </tr>\n",
              "    <tr>\n",
              "      <th>8</th>\n",
              "      <td>6567</td>\n",
              "      <td>AC</td>\n",
              "      <td>Sevilla FC  - vs -  CD Leganés</td>\n",
              "      <td>sabado_18h</td>\n",
              "      <td>0.80</td>\n",
              "      <td>800000.0</td>\n",
              "    </tr>\n",
              "    <tr>\n",
              "      <th>9</th>\n",
              "      <td>6666</td>\n",
              "      <td>BB</td>\n",
              "      <td>Real Sociedad  - vs -  Real Valladolid</td>\n",
              "      <td>domingo_16h</td>\n",
              "      <td>0.75</td>\n",
              "      <td>675000.0</td>\n",
              "    </tr>\n",
              "    <tr>\n",
              "      <th>2</th>\n",
              "      <td>6666</td>\n",
              "      <td>BB</td>\n",
              "      <td>Athletic Club  - vs -  RC Celta</td>\n",
              "      <td>sabado_16h</td>\n",
              "      <td>0.70</td>\n",
              "      <td>630000.0</td>\n",
              "    </tr>\n",
              "    <tr>\n",
              "      <th>0</th>\n",
              "      <td>6667</td>\n",
              "      <td>BC</td>\n",
              "      <td>Villareal  - vs -  SD Eibar</td>\n",
              "      <td>sabado_12h</td>\n",
              "      <td>0.55</td>\n",
              "      <td>412500.0</td>\n",
              "    </tr>\n",
              "    <tr>\n",
              "      <th>4</th>\n",
              "      <td>6667</td>\n",
              "      <td>BC</td>\n",
              "      <td>Valencia CF  - vs -  SD Huesca</td>\n",
              "      <td>domingo_12h</td>\n",
              "      <td>0.45</td>\n",
              "      <td>337500.0</td>\n",
              "    </tr>\n",
              "    <tr>\n",
              "      <th>6</th>\n",
              "      <td>6667</td>\n",
              "      <td>BC</td>\n",
              "      <td>RCD Espanyol  - vs -  Rayo Vallecano</td>\n",
              "      <td>lunes_20h</td>\n",
              "      <td>0.40</td>\n",
              "      <td>300000.0</td>\n",
              "    </tr>\n",
              "    <tr>\n",
              "      <th>5</th>\n",
              "      <td>6767</td>\n",
              "      <td>CC</td>\n",
              "      <td>D. Alavés  - vs -  Girona FC</td>\n",
              "      <td>viernes_20h</td>\n",
              "      <td>0.40</td>\n",
              "      <td>188000.0</td>\n",
              "    </tr>\n",
              "  </tbody>\n",
              "</table>\n",
              "</div>"
            ],
            "text/plain": [
              "  cat_num categoria                                 equipos          dia  \\\n",
              "1    6566        AB        FC Barcelona  - vs -  Levante UD  domingo_20h   \n",
              "3    6566        AB          Real Madrid  - vs -  Getafe CF   sabado_20h   \n",
              "7    6566        AB  Atlético de Madrid  - vs -  Real Betis  domingo_18h   \n",
              "8    6567        AC          Sevilla FC  - vs -  CD Leganés   sabado_18h   \n",
              "9    6666        BB  Real Sociedad  - vs -  Real Valladolid  domingo_16h   \n",
              "2    6666        BB         Athletic Club  - vs -  RC Celta   sabado_16h   \n",
              "0    6667        BC             Villareal  - vs -  SD Eibar   sabado_12h   \n",
              "4    6667        BC          Valencia CF  - vs -  SD Huesca  domingo_12h   \n",
              "6    6667        BC    RCD Espanyol  - vs -  Rayo Vallecano    lunes_20h   \n",
              "5    6767        CC            D. Alavés  - vs -  Girona FC  viernes_20h   \n",
              "\n",
              "     cr  audiencia  \n",
              "1  1.00  1300000.0  \n",
              "3  1.00  1300000.0  \n",
              "7  0.85  1105000.0  \n",
              "8  0.80   800000.0  \n",
              "9  0.75   675000.0  \n",
              "2  0.70   630000.0  \n",
              "0  0.55   412500.0  \n",
              "4  0.45   337500.0  \n",
              "6  0.40   300000.0  \n",
              "5  0.40   188000.0  "
            ]
          },
          "metadata": {
            "tags": []
          },
          "execution_count": 37
        }
      ]
    },
    {
      "metadata": {
        "id": "z0RoOMm2MaKk",
        "colab_type": "text"
      },
      "cell_type": "markdown",
      "source": [
        "Supongamos que el cliente ya tiene todas las jornadas de la liga y quiere comparar las audiencias de cada jornada. Para ello he realizado la siguiente función que genera una gráfica donde en el eje X tenemos los diás ordenados de más a menos audiencia, y el eje Y toma los valores de la audiencia:"
      ]
    },
    {
      "metadata": {
        "colab_type": "code",
        "id": "swYkBiIRDkHG",
        "colab": {}
      },
      "cell_type": "code",
      "source": [
        "import matplotlib.pyplot as plt\n",
        "plt.ioff() # evitar que se sobreescriban los gráficos "
      ],
      "execution_count": 0,
      "outputs": []
    },
    {
      "metadata": {
        "id": "VGO5lfFmDO5N",
        "colab_type": "code",
        "colab": {}
      },
      "cell_type": "code",
      "source": [
        "\n",
        "def grafica_audiencias_jornadas(*args):# Puede recibir cualquier numero de df's)\n",
        "  fig,axis = plt.subplots(1,1)\n",
        "  \n",
        "  for df in args:\n",
        "    \n",
        "    x = list(range(len(df)))\n",
        "    axis.plot(x,df.loc(axis=1)[\"audiencia\"],'-o',label='Audiencias',linewidth=3) # creación del gráfico\n",
        "    \n",
        "  axis.legend(loc='best') # Leyenda\n",
        "  axis.set_xlabel('Dias') # nombre eje x\n",
        "  axis.set_ylabel('Audiencias') # nombre eje y\n",
        "  axis.set_title('Divide y vencerás') # titulo\n",
        "  plt.xticks(x, df.loc(axis=1)[\"dia\"], rotation='vertical')\n",
        "  plt.show()\n",
        "  \n",
        "  return"
      ],
      "execution_count": 0,
      "outputs": []
    },
    {
      "metadata": {
        "id": "j6p3J8PMNKQq",
        "colab_type": "text"
      },
      "cell_type": "markdown",
      "source": [
        "Creemos por ejemplo 3 jornadas, y comparemos las audiencias gráficamente:"
      ]
    },
    {
      "metadata": {
        "id": "xl2MJfaQ1hnT",
        "colab_type": "code",
        "colab": {}
      },
      "cell_type": "code",
      "source": [
        "# como cr_audiencias es el mismo para todas las jornadas, podemos ordenarlo \n",
        "# antes de llamar a \"simular_jornada()\", y asi no tener que ordenarlo 3 veces \n",
        "# (la ordenacion tiene una complejidad de n*logn)\n",
        "\n",
        "cr_audiencias_ordenado = quick_sort_liga_mayor(cr_audiencias, 'cr')"
      ],
      "execution_count": 0,
      "outputs": []
    },
    {
      "metadata": {
        "id": "QButplu8Kr_j",
        "colab_type": "code",
        "colab": {}
      },
      "cell_type": "code",
      "source": [
        "jornada_1 = simular_jornada(equipos_liga, cr_audiencias_ordenado, mejor_audiencia, ordenar_cr = False)\n",
        "jornada_2 = simular_jornada(equipos_liga, cr_audiencias_ordenado, mejor_audiencia, ordenar_cr = False)\n",
        "jornada_3 = simular_jornada(equipos_liga, cr_audiencias_ordenado, mejor_audiencia, ordenar_cr = False)"
      ],
      "execution_count": 0,
      "outputs": []
    },
    {
      "metadata": {
        "id": "gdiF4EsQJU-2",
        "colab_type": "code",
        "outputId": "03b00fea-c8cc-470b-9a22-36a98fe29444",
        "colab": {
          "base_uri": "https://localhost:8080/",
          "height": 426
        }
      },
      "cell_type": "code",
      "source": [
        "grafica_audiencias_jornadas(jornada_1,jornada_2,jornada_3)"
      ],
      "execution_count": 51,
      "outputs": [
        {
          "output_type": "display_data",
          "data": {
            "image/png": "[encoded data removed]",
            "text/plain": [
              "<Figure size 576x396 with 1 Axes>"
            ]
          },
          "metadata": {
            "tags": []
          }
        }
      ]
    },
    {
      "metadata": {
        "id": "_70d6Idr4Ag4",
        "colab_type": "text"
      },
      "cell_type": "markdown",
      "source": [
        "# EJERCICIO 10"
      ]
    },
    {
      "metadata": {
        "colab_type": "text",
        "id": "eTFWUJQrtGcv"
      },
      "cell_type": "markdown",
      "source": [
        "Enumera las referencias que has utilizado(si ha sido necesario) para llevar a cabo el trabajo"
      ]
    },
    {
      "metadata": {
        "id": "YKQ_mRBttWsP",
        "colab_type": "text"
      },
      "cell_type": "markdown",
      "source": [
        "**Respuesta**"
      ]
    },
    {
      "metadata": {
        "id": "ND2kozsEQh6c",
        "colab_type": "text"
      },
      "cell_type": "markdown",
      "source": [
        "Guerequeta, R., y Vallecillo, A. (2000). Técnicas de diseño de algoritmos. Málaga: Servicio de Publicaciones de la Universidad de Málaga. [Enlace](http://www.lcc.uma.es/~av/Libro/)"
      ]
    },
    {
      "metadata": {
        "id": "VMgnWB0P4Dqm",
        "colab_type": "text"
      },
      "cell_type": "markdown",
      "source": [
        "# EJERCICIO 11"
      ]
    },
    {
      "metadata": {
        "id": "kAkDPUyRtYyH",
        "colab_type": "text"
      },
      "cell_type": "markdown",
      "source": [
        "Describe brevemente las lineas de como crees que es posible avanzar en el estudio del problema. Ten en cuenta incluso posibles variaciones del problema y/o variaciones al alza del tamaño"
      ]
    },
    {
      "metadata": {
        "id": "IE0uZmo-tZu-",
        "colab_type": "text"
      },
      "cell_type": "markdown",
      "source": [
        "**Respuesta**"
      ]
    },
    {
      "metadata": {
        "id": "Tw-bYIdBNzvy",
        "colab_type": "text"
      },
      "cell_type": "markdown",
      "source": [
        "Una mejora de cara al cliente seria la creación de un algoritmo obtubiera todas las jornadas, es decir, que organizara la Liga. Una vez organizada por este algorimo aplixariamos el nuestro para organizar las jornadas de forma que se maximizara la audiencia.\n",
        "\n",
        "Este algoritmo es un problema tipo titulado \"Problema de la organización del calendario de un campeonato\". En el libro de la bibliografía \" Técnicas de Diseño de Algoritmos \" de Rosa Guerequeta y Antonio Vallecillo (capítulo 3) , podemos encontrar la explicación de como resolverlo. \n",
        "\n",
        "Otra mejora, sería la incorporación de la obción de jugar más de un partido en un horario. El problema no se podría abordar del mismo modo, una de las tecnicas que podriamos utilizar para resolver el problema es ramificación y poda."
      ]
    }
  ]
}